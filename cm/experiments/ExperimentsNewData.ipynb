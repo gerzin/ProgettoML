{
 "cells": [
  {
   "cell_type": "markdown",
   "metadata": {},
   "source": [
    "# NOTA: MARCO CAMBIA GLI INDICI"
   ]
  },
  {
   "cell_type": "code",
   "execution_count": null,
   "metadata": {},
   "outputs": [],
   "source": [
    "# importing module\n",
    "import sys\n",
    "import os\n",
    "from pathlib import Path\n",
    "sys.path.append(str(Path.cwd().parent))\n",
    "from myutils import *\n",
    "from SLBQP import SLBQP\n",
    "from datastorer import DataStorer\n",
    "import cvxopt\n",
    "from cvxopt import matrix\n",
    "from cvxopt import solvers"
   ]
  },
  {
   "cell_type": "code",
   "execution_count": null,
   "metadata": {},
   "outputs": [],
   "source": [
    "import numpy as np\n",
    "import pandas as pd\n",
    "import sklearn\n",
    "import matplotlib.pyplot as plt\n",
    "import seaborn as sns\n",
    "import time\n",
    "plt.style.use('seaborn')\n",
    "params = {\n",
    "    'figure.figsize': (20, 10),\n",
    "    'legend.fontsize': 'x-large',\n",
    "    'axes.labelsize': 'x-large',\n",
    "    'axes.titlesize':'x-large',\n",
    "    'xtick.labelsize':'x-large',\n",
    "    'ytick.labelsize':'x-large',\n",
    "    'axes.titlesize': 'x-large',\n",
    "}\n",
    "plt.rcParams.update(params)"
   ]
  },
  {
   "cell_type": "markdown",
   "metadata": {},
   "source": [
    "# Parametri default"
   ]
  },
  {
   "cell_type": "code",
   "execution_count": null,
   "metadata": {},
   "outputs": [],
   "source": [
    "seed = None     # random seed\n",
    "np.random.seed(seed)\n",
    "ROSEN = 2\n",
    "GOLDSTEIN = 1"
   ]
  },
  {
   "cell_type": "code",
   "execution_count": null,
   "metadata": {},
   "outputs": [],
   "source": [
    "epsilons = [10**i for i in range(-2, 1)]\n",
    "upper_bounds = [0.1,1,5,10]\n",
    "problem_sizes = (200, 300, 400, 600)\n",
    "n_prob = 10"
   ]
  },
  {
   "cell_type": "code",
   "execution_count": null,
   "metadata": {},
   "outputs": [],
   "source": [
    "#feat, targ = load_ml_dataset()\n",
    "#t1 = targ[:,0]\n",
    "#t2 = targ[:,1]\n",
    "#targ = t1"
   ]
  },
  {
   "cell_type": "code",
   "execution_count": null,
   "metadata": {},
   "outputs": [],
   "source": [
    "solvers.options['show_progress'] = False\n",
    "def solve_with_cvxopt(K, target, size, u, e):\n",
    "    A = np.block([[K, -K], [-K, K]])\n",
    "    b = np.block([e - target, e + target])\n",
    "    a = np.block([np.ones(n), -np.ones(n)])\n",
    "    _G, _A, _h, _b = build_problem(2*size, u)\n",
    "    Q1 = matrix(A)\n",
    "    q1 = matrix(b)\n",
    "    G1 = matrix(_G)\n",
    "    h1 = matrix(_h)\n",
    "    A1 = matrix(_A)\n",
    "    b1 = matrix(_b) \n",
    "    sol = solvers.qp(Q1, q1, G1, h1, A1, b1)\n",
    "    return sol['primal objective']"
   ]
  },
  {
   "cell_type": "code",
   "execution_count": null,
   "metadata": {},
   "outputs": [],
   "source": [
    "def generate_and_save(feat, targ, size, u, epsilon, n, startdir='CSV'):\n",
    "    os.makedirs(f\"{startdir}/{size}/GOLD\", exist_ok=True)\n",
    "    os.makedirs(f\"{startdir}/{size}/ROS\", exist_ok=True)\n",
    "    with open(f\"{startdir}/{size}/optimal_values.txt\", \"a\") as file:\n",
    "        for i in range(n):\n",
    "            print(f\"generating problem {i}\")\n",
    "            K, target = sample_transform_problem(feat, targ, size)\n",
    "            print(\"problem generated\\nsoving it with the solver\")\n",
    "            sol = solve_with_cvxopt(K, target, size, u)\n",
    "            file.write(str(sol)+'\\n')\n",
    "            ds = DataStorer()\n",
    "            print(\"About to run GOLDSTEIN\")\n",
    "            sg, xg, vg, itg = SLBQP(K, target, u, epsilon, eps=1e-3, maxIter=-1, lmb0=0, d_lmb=2, prj_eps=1e-9, prj_type=GOLDSTEIN, ds=ds)\n",
    "            ds.save_to_file(f\"{startdir}/{size}/GOLD/{i}.csv\")\n",
    "            ds = DataStorer()\n",
    "            print(\"About to run ROSEN\")\n",
    "            sg, xg, vg, itg = SLBQP(K, target, u, epsilon, eps=1e-3, maxIter=-1, prj_type=ROSEN, ds=ds)\n",
    "            ds.save_to_file(f\"{startdir}/{size}/ROS/{i}.csv\")\n",
    "        "
   ]
  },
  {
   "cell_type": "code",
   "execution_count": null,
   "metadata": {},
   "outputs": [],
   "source": [
    "def generate_multiple_epsilons(feat, targ, size, u, epsilons, n, startdir='./'):\n",
    "    u_name = str(u).replace(\".\",\"\")\n",
    "    for e in epsilons:\n",
    "        eps_name = str(e).replace(\".\",\"\")\n",
    "        os.makedirs(f\"{startdir}C{u_name}EPS{eps_name}/{size}/GOLD\", exist_ok=True)\n",
    "        os.makedirs(f\"{startdir}C{u_name}EPS{eps_name}/{size}/ROS\", exist_ok=True)\n",
    "    for i in range(n):\n",
    "        print(f\"generating problem {i}\")\n",
    "        K, target = sample_transform_problem(feat, targ, size)  \n",
    "        for e in epsilons:\n",
    "            print(f\"Solving problem {i} with epsilon {e}\")\n",
    "            eps_name = str(e).replace(\".\",\"\")\n",
    "            ds = DataStorer()\n",
    "            print(f\"\\tAbout to run GOLDSTEIN with {e=}\")\n",
    "            sg, xg, vg, itg = SLBQP(K, target, u, e, eps=1e-3, maxIter=-1, lmb0=0, d_lmb=2, prj_eps=1e-9, prj_type=GOLDSTEIN, ds=ds)\n",
    "            ds.save_to_file(f\"{startdir}C{u_name}EPS{eps_name}/{size}/GOLD/{i}.csv\")\n",
    "            ds = DataStorer()\n",
    "            print(f\"\\tAbout to run ROSEN with {e=}\")\n",
    "            sg, xg, vg, itg = SLBQP(K, target, u, e, eps=1e-3, maxIter=-1, prj_type=ROSEN, ds=ds)\n",
    "            ds.save_to_file(f\"{startdir}C{u_name}EPS{eps_name}/{size}/ROS/{i}.csv\")"
   ]
  },
  {
   "cell_type": "code",
   "execution_count": null,
   "metadata": {},
   "outputs": [],
   "source": [
    "def generate_multiple_upperbounds(feat, targ, size, upper_bounds, epsilon ,n, startdir='./'):\n",
    "    \n",
    "    eps_name = str(epsilon).replace(\".\", \"\")\n",
    "    for u in upper_bounds:\n",
    "        u_name = str(u).replace(\".\",\"\")\n",
    "        os.makedirs(f\"{startdir}C{u_name}EPS{eps_name}/{size}/GOLD\", exist_ok=True)\n",
    "        os.makedirs(f\"{startdir}C{u_name}EPS{eps_name}/{size}/ROS\", exist_ok=True)\n",
    "        \n",
    "    for i in range(n):\n",
    "        print(f\"generating problem {i}\")\n",
    "        K, target = sample_transform_problem(feat, targ, size)  \n",
    "        for u in upper_bounds:\n",
    "            print(f\"Solving problem {i} with U: {u}\")\n",
    "            u_name = str(u).replace(\".\",\"\")\n",
    "            ds = DataStorer()\n",
    "            print(f\"\\tAbout to run GOLDSTEIN with {u=}\")\n",
    "            sg, xg, vg, itg = SLBQP(K, target, u, epsilon, eps=1e-3, maxIter=-1, lmb0=0, d_lmb=2, prj_eps=1e-9, prj_type=GOLDSTEIN, ds=ds)\n",
    "            ds.save_to_file(f\"{startdir}C{u_name}EPS{eps_name}/{size}/GOLD/{i}.csv\")\n",
    "            ds = DataStorer()\n",
    "            print(f\"\\tAbout to run ROSEN with {u=}\")\n",
    "            sg, xg, vg, itg = SLBQP(K, target, u, epsilon, eps=1e-3, maxIter=-1, prj_type=ROSEN, ds=ds)\n",
    "            ds.save_to_file(f\"{startdir}C{u_name}EPS{eps_name}/{size}/ROS/{i}.csv\")"
   ]
  },
  {
   "cell_type": "markdown",
   "metadata": {},
   "source": [
    "# CALIFORNIA HOUSING"
   ]
  },
  {
   "cell_type": "code",
   "execution_count": null,
   "metadata": {},
   "outputs": [],
   "source": [
    "feat, targ = load_california_dataset()\n",
    "targ"
   ]
  },
  {
   "cell_type": "code",
   "execution_count": null,
   "metadata": {},
   "outputs": [],
   "source": [
    "for size in problem_sizes:\n",
    "    generate_multiple_epsilons(feat, targ, size, 1, epsilons, n_prob, startdir=\"./CAL/E_\")"
   ]
  },
  {
   "cell_type": "code",
   "execution_count": null,
   "metadata": {},
   "outputs": [],
   "source": [
    "for size in problem_sizes:\n",
    "generate_multiple_upperbounds(feat, targ, size, upper_bounds, 0.1, n_prob, startdir=\"./CAL/C_\")"
   ]
  },
  {
   "cell_type": "markdown",
   "metadata": {},
   "source": [
    "# AIRFOIL"
   ]
  },
  {
   "cell_type": "code",
   "execution_count": null,
   "metadata": {},
   "outputs": [],
   "source": [
    "feat, targ = load_airfoil_dataset()\n",
    "targ = targ.ravel()\n",
    "targ"
   ]
  },
  {
   "cell_type": "code",
   "execution_count": null,
   "metadata": {},
   "outputs": [],
   "source": [
    "for size in problem_sizes:\n",
    "    generate_multiple_epsilons(feat, targ, size, 1, epsilons, n_prob, startdir=\"./AIRF/E_\")"
   ]
  },
  {
   "cell_type": "code",
   "execution_count": null,
   "metadata": {},
   "outputs": [],
   "source": [
    "for size in problem_sizes:\n",
    "    generate_multiple_upperbounds(feat, targ, size, upper_bounds, 0.1, n_prob, startdir=\"./AIRF/C_\")"
   ]
  },
  {
   "cell_type": "code",
   "execution_count": null,
   "metadata": {},
   "outputs": [],
   "source": []
  }
 ],
 "metadata": {
  "kernelspec": {
   "display_name": "Python 3",
   "language": "python",
   "name": "python3"
  },
  "language_info": {
   "codemirror_mode": {
    "name": "ipython",
    "version": 3
   },
   "file_extension": ".py",
   "mimetype": "text/x-python",
   "name": "python",
   "nbconvert_exporter": "python",
   "pygments_lexer": "ipython3",
   "version": "3.8.5"
  }
 },
 "nbformat": 4,
 "nbformat_minor": 4
}
