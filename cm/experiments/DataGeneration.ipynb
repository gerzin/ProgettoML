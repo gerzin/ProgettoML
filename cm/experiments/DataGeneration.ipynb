{
 "cells": [
  {
   "cell_type": "code",
   "execution_count": 2,
   "metadata": {},
   "outputs": [],
   "source": [
    "import sys\n",
    "import os\n",
    "from pathlib import Path\n",
    "sys.path.append(str(Path.cwd().parent))\n",
    "\n",
    "from myutils import *\n",
    "from SLBQP import SLBQP\n",
    "from datastorer import DataStorer\n",
    "import cvxopt\n",
    "from cvxopt import matrix\n",
    "from cvxopt import solvers\n",
    "import pickle\n",
    "import numpy as np\n",
    "import pandas as pd\n",
    "import sklearn\n",
    "import matplotlib.pyplot as plt\n",
    "import seaborn as sns\n",
    "import time\n",
    "\n",
    "plt.style.use('seaborn')\n",
    "params = {\n",
    "    'figure.figsize': (20, 10),\n",
    "    'legend.fontsize': 'x-large',\n",
    "    'axes.labelsize': 'x-large',\n",
    "    'axes.titlesize':'x-large',\n",
    "    'xtick.labelsize':'x-large',\n",
    "    'ytick.labelsize':'x-large',\n",
    "    'axes.titlesize': 'x-large',\n",
    "}\n",
    "plt.rcParams.update(params)\n",
    "solvers.options['show_progress'] = False\n",
    "solvers.options['abstol'] = 1e-6\n",
    "solvers.options['reltol'] = 1e-6\n",
    "solvers.options['feastol'] = 1e-6"
   ]
  },
  {
   "cell_type": "markdown",
   "metadata": {},
   "source": [
    "# Parametri default"
   ]
  },
  {
   "cell_type": "code",
   "execution_count": 3,
   "metadata": {},
   "outputs": [],
   "source": [
    "seed = 1234\n",
    "np.random.seed(seed)\n",
    "ROSEN = 2\n",
    "GOLDSTEIN = 1"
   ]
  },
  {
   "cell_type": "code",
   "execution_count": 4,
   "metadata": {},
   "outputs": [],
   "source": [
    "epsilons = [10**i for i in range(-2, 1)]\n",
    "upper_bounds = [0.1, 0.5, 1, 2, 5, 10]\n",
    "problem_sizes = [300,400,500,600]\n",
    "alphas = [0.1, 0.5, 1, 2, 5]\n",
    "n_prob = 10"
   ]
  },
  {
   "cell_type": "markdown",
   "metadata": {},
   "source": [
    "# Data Generation Functions"
   ]
  },
  {
   "cell_type": "code",
   "execution_count": 4,
   "metadata": {},
   "outputs": [],
   "source": [
    "def generate_epsilons_data(feat, targ, size, u, epsilons, n, startdir='./'):\n",
    "    \"\"\"\n",
    "    \n",
    "    \"\"\"\n",
    "    if not startdir.endswith(\"/\"):\n",
    "        startdir += \"/\"\n",
    "        \n",
    "    u_name = str(u).replace(\".\",\"\")\n",
    "    \n",
    "    for e in epsilons:\n",
    "        eps_name = str(e).replace(\".\",\"-\")\n",
    "        os.makedirs(f\"{startdir}C{u_name}EPS_{eps_name}/{size}/GOLD\", exist_ok=True)\n",
    "        os.makedirs(f\"{startdir}C{u_name}EPS_{eps_name}/{size}/ROS\", exist_ok=True)\n",
    "    \n",
    "    os.makedirs(startdir + \"RANDSTATES_EPS\", exist_ok=True)\n",
    "    \n",
    "    for i in range(n):\n",
    "        # to generate the problem on different machines and not have the name conflicting\n",
    "        i = i + 10\n",
    "        \n",
    "        # saving the random state in case we want to rebuild a specific problem\n",
    "        rs = np.random.get_state()\n",
    "        with open(f\"{startdir}RANDSTATES_EPS/{size}_{i}.pkl\", \"wb\") as p:       \n",
    "            pickle.dump(rs, p)\n",
    "        \n",
    "        # sampling the problem and solving it with different values of epsilon\n",
    "        K, target = sample_transform_problem(feat, targ, size)\n",
    "        \n",
    "        for e in epsilons:\n",
    "            print(f\"{i=} , epsilon = {e}\")\n",
    "            eps_name = str(e).replace(\".\",\"-\")\n",
    "                \n",
    "            print(f\"\\t\\tGOLDSTEIN with {e=}\")\n",
    "             \n",
    "            ds = DataStorer()\n",
    "           \n",
    "            sg, xg, vg, itg = SLBQP(K, target, u, e, eps=1e-3, maxIter=-1, lmb0=0, d_lmb=2, prj_eps=1e-9, prj_type=GOLDSTEIN, ds=ds)\n",
    "            \n",
    "            ds.save_to_file(f\"{startdir}C{u_name}EPS_{eps_name}/{size}/GOLD/{i}.csv\")\n",
    "            \n",
    "            print(f\"\\t\\tROSEN with {e=}\")\n",
    "            ds = DataStorer()\n",
    "\n",
    "            sg, xg, vg, itg = SLBQP(K, target, u, e, eps=1e-3, maxIter=-1, prj_type=ROSEN, ds=ds)\n",
    "            \n",
    "            ds.save_to_file(f\"{startdir}C{u_name}EPS_{eps_name}/{size}/ROS/{i}.csv\")\n",
    "            print(\"\\t\\tEXTERNAL SOLVER\")\n",
    "            \n",
    "            sol = solve_with_cvxopt(K, target, e, u)['dual objective']\n",
    "            \n",
    "            with open(f\"{startdir}C{u_name}EPS_{eps_name}/{size}/optimal_values.txt\", \"a\") as f:\n",
    "                f.write(str(sol) + \"\\n\")\n",
    "\n",
    "            "
   ]
  },
  {
   "cell_type": "code",
   "execution_count": 5,
   "metadata": {},
   "outputs": [],
   "source": [
    "def generate_upperbounds_data(feat, targ, size, upper_bounds, epsilon ,n, startdir='./'):\n",
    "    \"\"\"\n",
    "    \n",
    "    \"\"\"\n",
    "    \n",
    "    if not startdir.endswith(\"/\"):\n",
    "        startdir += \"/\"\n",
    "    \n",
    "    eps_name = str(epsilon).replace(\".\", \"\")\n",
    "    \n",
    "    for u in upper_bounds:\n",
    "        u_name = str(u).replace(\".\",\"\")\n",
    "        os.makedirs(f\"{startdir}C_{u_name}EPS{eps_name}/{size}/GOLD\", exist_ok=True)\n",
    "        os.makedirs(f\"{startdir}C_{u_name}EPS{eps_name}/{size}/ROS\", exist_ok=True)\n",
    "    \n",
    "    os.makedirs(startdir + \"RANDSTATES_C\", exist_ok=True)    \n",
    "    \n",
    "    for i in range(n):\n",
    "        # to generate the problem on different machines and not have the name conflicting\n",
    "        i = i + 10\n",
    "        \n",
    "        # saving the random state in case we want to rebuild a specific problem\n",
    "        rs = np.random.get_state()\n",
    "        with open(f\"{startdir}RANDSTATES_C/{size}_{i}.pkl\", \"wb\") as p:       \n",
    "            pickle.dump(rs, p)\n",
    "        \n",
    "        # sampling the problem and solving it with different values of epsilon\n",
    "        K, target = sample_transform_problem(feat, targ, size)\n",
    "        \n",
    "        for u in upper_bounds:\n",
    "            print(f\"{i=} , C = {u}\")\n",
    "            u_name = str(u).replace(\".\",\"\")\n",
    "            \n",
    "            print(f\"\\t\\tGOLDSTEIN with C = {u}\")\n",
    "             \n",
    "            ds = DataStorer()\n",
    "            \n",
    "            sg, xg, vg, itg = SLBQP(K, target, u, epsilon, eps=1e-3, maxIter=-1, lmb0=0, d_lmb=2, prj_eps=1e-9, prj_type=GOLDSTEIN, ds=ds)\n",
    "            \n",
    "            ds.save_to_file(f\"{startdir}C_{u_name}EPS{eps_name}/{size}/GOLD/{i}.csv\")\n",
    "            \n",
    "            \n",
    "            print(f\"\\t\\tROSEN with C = {u}\")\n",
    "            ds = DataStorer()\n",
    "            \n",
    "            sg, xg, vg, itg = SLBQP(K, target, u, epsilon, eps=1e-3, maxIter=-1, prj_type=ROSEN, ds=ds)\n",
    "            ds.save_to_file(f\"{startdir}C_{u_name}EPS{eps_name}/{size}/ROS/{i}.csv\")\n",
    "            \n",
    "            print(\"\\t\\tEXTERNAL SOLVER\")\n",
    "            sol = solve_with_cvxopt(K, target, epsilon, u)['dual objective']\n",
    "            \n",
    "            with open(f\"{startdir}C_{u_name}EPS{eps_name}/{size}/optimal_values.txt\", \"a\") as f:\n",
    "                f.write(str(sol)+\"\\n\")"
   ]
  },
  {
   "cell_type": "code",
   "execution_count": 6,
   "metadata": {},
   "outputs": [],
   "source": [
    "def generate_alphas_data(feat, targ, size, alphas, n=n_prob, startdir='./', maxiter=1000):\n",
    "    \"\"\"experiments on the alpha paramerer.\"\"\"\n",
    "    \n",
    "    if not startdir.endswith(\"/\"):\n",
    "        startdir += \"/\"\n",
    "    \n",
    "    for alpha in alphas:\n",
    "        alpha_name = str(alpha).replace(\".\",\"\")\n",
    "        os.makedirs(f\"{startdir}{alpha_name}\", exist_ok=True)\n",
    "        print(f\"creating {startdir}{alpha_name}\")\n",
    "    \n",
    "    os.makedirs(f\"{startdir}RANDSTATES_ALPHA\", exist_ok=True)\n",
    "    \n",
    "    \n",
    "    for i in range(n):\n",
    "        \n",
    "        i = i + 10\n",
    "        \n",
    "        # saving the random state in case we want to rebuild a specific problem\n",
    "        rs = np.random.get_state()\n",
    "        with open(f\"{startdir}RANDSTATES_ALPHA/{size}_{i}.pkl\", \"wb\") as p:       \n",
    "            pickle.dump(rs, p)\n",
    "        \n",
    "        K, target = sample_transform_problem(feat, targ, size)\n",
    "\n",
    "        sol = solve_with_cvxopt(K, target, 0.1, 1)['dual objective']\n",
    "        \n",
    "        with open(f\"{startdir}optimal_values.txt\", \"a\") as f:\n",
    "            f.write(str(sol) + \"\\n\")\n",
    "        \n",
    "        print(f\"Problem {i}\")\n",
    "        for alpha in alphas:\n",
    "            print(f\"\\t\\t{alpha=}\", end=\"\\t\")                    \n",
    "            ds = DataStorer()\n",
    "            \n",
    "            sg, xg, vg, itg = SLBQP(K, target, 1, 0.1, eps=1e-3, maxIter=maxiter, alpha=alpha, prj_type=GOLDSTEIN, ds=ds)          \n",
    "            \n",
    "            alpha_name = str(alpha).replace(\".\",\"\")\n",
    "            ds.save_to_file(f\"{startdir}{alpha_name}/{i}.csv\")\n",
    "            \n",
    "            print(f\"{itg=}\")\n",
    "            "
   ]
  },
  {
   "cell_type": "markdown",
   "metadata": {},
   "source": [
    "# ML DATA GENERATION"
   ]
  },
  {
   "cell_type": "code",
   "execution_count": 7,
   "metadata": {},
   "outputs": [
    {
     "name": "stdout",
     "output_type": "stream",
     "text": [
      "loading from: \n",
      "/Users/gerardozinno/repos/ProgettoML/cm/data/ML-CUP19-TR.csv\n"
     ]
    }
   ],
   "source": [
    "feat, targ = load_ml_dataset()\n",
    "t1 = targ[:,0]\n",
    "t2 = targ[:,1]\n",
    "targ = t1\n",
    "ROOT=\"./RUNS2/ML/\"\n",
    "avg_target_ml = sum(targ) / len(targ)\n",
    "\n",
    "if avg_target_ml < 1e-5:\n",
    "    avg_target_ml = 1\n",
    "    \n",
    "epsilons_ml = [avg_target_ml * i for i in [0.01, 0.05, 0.1, 0.2]]"
   ]
  },
  {
   "cell_type": "code",
   "execution_count": 8,
   "metadata": {},
   "outputs": [
    {
     "name": "stdout",
     "output_type": "stream",
     "text": [
      "size=300\n",
      "*************************\n",
      "i=10 , epsilon = 0.17168133141590286\n",
      "\t\tGOLDSTEIN with e=0.17168133141590286\n",
      "\t\tROSEN with e=0.17168133141590286\n",
      "\t\tEXTERNAL SOLVER\n",
      "i=10 , epsilon = 0.8584066570795144\n",
      "\t\tGOLDSTEIN with e=0.8584066570795144\n",
      "\t\tROSEN with e=0.8584066570795144\n",
      "\t\tEXTERNAL SOLVER\n",
      "i=10 , epsilon = 1.7168133141590287\n",
      "\t\tGOLDSTEIN with e=1.7168133141590287\n",
      "\t\tROSEN with e=1.7168133141590287\n",
      "\t\tEXTERNAL SOLVER\n",
      "i=10 , epsilon = 3.4336266283180574\n",
      "\t\tGOLDSTEIN with e=3.4336266283180574\n",
      "\t\tROSEN with e=3.4336266283180574\n"
     ]
    },
    {
     "ename": "KeyboardInterrupt",
     "evalue": "",
     "output_type": "error",
     "traceback": [
      "\u001b[0;31m---------------------------------------------------------------------------\u001b[0m",
      "\u001b[0;31mKeyboardInterrupt\u001b[0m                         Traceback (most recent call last)",
      "\u001b[0;32m<ipython-input-8-81f57c205177>\u001b[0m in \u001b[0;36m<module>\u001b[0;34m\u001b[0m\n\u001b[1;32m      1\u001b[0m \u001b[0;32mfor\u001b[0m \u001b[0msize\u001b[0m \u001b[0;32min\u001b[0m \u001b[0mproblem_sizes\u001b[0m\u001b[0;34m:\u001b[0m\u001b[0;34m\u001b[0m\u001b[0;34m\u001b[0m\u001b[0m\n\u001b[1;32m      2\u001b[0m     \u001b[0mprint\u001b[0m\u001b[0;34m(\u001b[0m\u001b[0;34mf\"{size=}\\n*************************\"\u001b[0m\u001b[0;34m)\u001b[0m\u001b[0;34m\u001b[0m\u001b[0;34m\u001b[0m\u001b[0m\n\u001b[0;32m----> 3\u001b[0;31m     \u001b[0mgenerate_epsilons_data\u001b[0m\u001b[0;34m(\u001b[0m\u001b[0mfeat\u001b[0m\u001b[0;34m,\u001b[0m \u001b[0mtarg\u001b[0m\u001b[0;34m,\u001b[0m \u001b[0msize\u001b[0m\u001b[0;34m,\u001b[0m \u001b[0;36m1\u001b[0m\u001b[0;34m,\u001b[0m \u001b[0mepsilons_ml\u001b[0m\u001b[0;34m,\u001b[0m \u001b[0mn_prob\u001b[0m\u001b[0;34m,\u001b[0m \u001b[0mstartdir\u001b[0m\u001b[0;34m=\u001b[0m\u001b[0mROOT\u001b[0m\u001b[0;34m)\u001b[0m\u001b[0;34m\u001b[0m\u001b[0;34m\u001b[0m\u001b[0m\n\u001b[0m",
      "\u001b[0;32m<ipython-input-4-94afa4e82e3a>\u001b[0m in \u001b[0;36mgenerate_epsilons_data\u001b[0;34m(feat, targ, size, u, epsilons, n, startdir)\u001b[0m\n\u001b[1;32m     42\u001b[0m             \u001b[0mds\u001b[0m \u001b[0;34m=\u001b[0m \u001b[0mDataStorer\u001b[0m\u001b[0;34m(\u001b[0m\u001b[0;34m)\u001b[0m\u001b[0;34m\u001b[0m\u001b[0;34m\u001b[0m\u001b[0m\n\u001b[1;32m     43\u001b[0m \u001b[0;34m\u001b[0m\u001b[0m\n\u001b[0;32m---> 44\u001b[0;31m             \u001b[0msg\u001b[0m\u001b[0;34m,\u001b[0m \u001b[0mxg\u001b[0m\u001b[0;34m,\u001b[0m \u001b[0mvg\u001b[0m\u001b[0;34m,\u001b[0m \u001b[0mitg\u001b[0m \u001b[0;34m=\u001b[0m \u001b[0mSLBQP\u001b[0m\u001b[0;34m(\u001b[0m\u001b[0mK\u001b[0m\u001b[0;34m,\u001b[0m \u001b[0mtarget\u001b[0m\u001b[0;34m,\u001b[0m \u001b[0mu\u001b[0m\u001b[0;34m,\u001b[0m \u001b[0me\u001b[0m\u001b[0;34m,\u001b[0m \u001b[0meps\u001b[0m\u001b[0;34m=\u001b[0m\u001b[0;36m1e-3\u001b[0m\u001b[0;34m,\u001b[0m \u001b[0mmaxIter\u001b[0m\u001b[0;34m=\u001b[0m\u001b[0;34m-\u001b[0m\u001b[0;36m1\u001b[0m\u001b[0;34m,\u001b[0m \u001b[0mprj_type\u001b[0m\u001b[0;34m=\u001b[0m\u001b[0mROSEN\u001b[0m\u001b[0;34m,\u001b[0m \u001b[0mds\u001b[0m\u001b[0;34m=\u001b[0m\u001b[0mds\u001b[0m\u001b[0;34m)\u001b[0m\u001b[0;34m\u001b[0m\u001b[0;34m\u001b[0m\u001b[0m\n\u001b[0m\u001b[1;32m     45\u001b[0m \u001b[0;34m\u001b[0m\u001b[0m\n\u001b[1;32m     46\u001b[0m             \u001b[0mds\u001b[0m\u001b[0;34m.\u001b[0m\u001b[0msave_to_file\u001b[0m\u001b[0;34m(\u001b[0m\u001b[0;34mf\"{startdir}C{u_name}EPS_{eps_name}/{size}/ROS/{i}.csv\"\u001b[0m\u001b[0;34m)\u001b[0m\u001b[0;34m\u001b[0m\u001b[0;34m\u001b[0m\u001b[0m\n",
      "\u001b[0;32m~/repos/ProgettoML/cm/SLBQP.py\u001b[0m in \u001b[0;36mSLBQP\u001b[0;34m(K, y, C, epsilon, eps, maxIter, alpha, lmb0, d_lmb, prj_eps, verbose, prj_type, ds)\u001b[0m\n\u001b[1;32m    229\u001b[0m         \u001b[0;31m# Store iteration statistics\u001b[0m\u001b[0;34m\u001b[0m\u001b[0;34m\u001b[0m\u001b[0;34m\u001b[0m\u001b[0m\n\u001b[1;32m    230\u001b[0m         \u001b[0;32mif\u001b[0m \u001b[0mds\u001b[0m \u001b[0;32mis\u001b[0m \u001b[0;32mnot\u001b[0m \u001b[0;32mNone\u001b[0m\u001b[0;34m:\u001b[0m\u001b[0;34m\u001b[0m\u001b[0;34m\u001b[0m\u001b[0m\n\u001b[0;32m--> 231\u001b[0;31m             \u001b[0mds\u001b[0m\u001b[0;34m.\u001b[0m\u001b[0mpush\u001b[0m\u001b[0;34m(\u001b[0m\u001b[0miter\u001b[0m\u001b[0;34m=\u001b[0m\u001b[0mi\u001b[0m\u001b[0;34m,\u001b[0m \u001b[0mval\u001b[0m\u001b[0;34m=\u001b[0m\u001b[0mv\u001b[0m\u001b[0;34m,\u001b[0m \u001b[0mproj\u001b[0m\u001b[0;34m=\u001b[0m\u001b[0mcount\u001b[0m\u001b[0;34m,\u001b[0m \u001b[0mgnorm\u001b[0m\u001b[0;34m=\u001b[0m\u001b[0mg_norm\u001b[0m\u001b[0;34m,\u001b[0m \u001b[0mdnorm\u001b[0m\u001b[0;34m=\u001b[0m\u001b[0md_norm\u001b[0m\u001b[0;34m,\u001b[0m \u001b[0mstep\u001b[0m\u001b[0;34m=\u001b[0m\u001b[0mstep\u001b[0m\u001b[0;34m,\u001b[0m \u001b[0mmaxstep\u001b[0m\u001b[0;34m=\u001b[0m\u001b[0mmax_step\u001b[0m\u001b[0;34m)\u001b[0m\u001b[0;34m\u001b[0m\u001b[0;34m\u001b[0m\u001b[0m\n\u001b[0m\u001b[1;32m    232\u001b[0m \u001b[0;34m\u001b[0m\u001b[0m\n\u001b[1;32m    233\u001b[0m         \u001b[0;31m# Compute next iterate\u001b[0m\u001b[0;34m\u001b[0m\u001b[0;34m\u001b[0m\u001b[0;34m\u001b[0m\u001b[0m\n",
      "\u001b[0;32m~/repos/ProgettoML/cm/datastorer.py\u001b[0m in \u001b[0;36mpush\u001b[0;34m(self, **kwargs)\u001b[0m\n\u001b[1;32m     45\u001b[0m                 \u001b[0mvalues\u001b[0m\u001b[0;34m.\u001b[0m\u001b[0mappend\u001b[0m\u001b[0;34m(\u001b[0m\u001b[0mv\u001b[0m\u001b[0;34m)\u001b[0m\u001b[0;34m\u001b[0m\u001b[0;34m\u001b[0m\u001b[0m\n\u001b[1;32m     46\u001b[0m             \u001b[0mself\u001b[0m\u001b[0;34m.\u001b[0m\u001b[0mdf\u001b[0m \u001b[0;34m=\u001b[0m \u001b[0mpd\u001b[0m\u001b[0;34m.\u001b[0m\u001b[0mDataFrame\u001b[0m\u001b[0;34m(\u001b[0m\u001b[0mcolumns\u001b[0m\u001b[0;34m=\u001b[0m\u001b[0;34m(\u001b[0m\u001b[0mnames\u001b[0m\u001b[0;34m)\u001b[0m\u001b[0;34m)\u001b[0m\u001b[0;34m\u001b[0m\u001b[0;34m\u001b[0m\u001b[0m\n\u001b[0;32m---> 47\u001b[0;31m         \u001b[0mself\u001b[0m\u001b[0;34m.\u001b[0m\u001b[0mdf\u001b[0m \u001b[0;34m=\u001b[0m \u001b[0mself\u001b[0m\u001b[0;34m.\u001b[0m\u001b[0mdf\u001b[0m\u001b[0;34m.\u001b[0m\u001b[0mappend\u001b[0m\u001b[0;34m(\u001b[0m\u001b[0mkwargs\u001b[0m\u001b[0;34m,\u001b[0m \u001b[0mignore_index\u001b[0m\u001b[0;34m=\u001b[0m\u001b[0;32mTrue\u001b[0m\u001b[0;34m)\u001b[0m\u001b[0;34m\u001b[0m\u001b[0;34m\u001b[0m\u001b[0m\n\u001b[0m\u001b[1;32m     48\u001b[0m \u001b[0;34m\u001b[0m\u001b[0m\n\u001b[1;32m     49\u001b[0m \u001b[0;34m\u001b[0m\u001b[0m\n",
      "\u001b[0;32m/usr/local/lib/python3.8/site-packages/pandas/core/frame.py\u001b[0m in \u001b[0;36mappend\u001b[0;34m(self, other, ignore_index, verify_integrity, sort)\u001b[0m\n\u001b[1;32m   7720\u001b[0m                 \u001b[0mcombined_columns\u001b[0m \u001b[0;34m=\u001b[0m \u001b[0mself\u001b[0m\u001b[0;34m.\u001b[0m\u001b[0mcolumns\u001b[0m\u001b[0;34m.\u001b[0m\u001b[0mastype\u001b[0m\u001b[0;34m(\u001b[0m\u001b[0mobject\u001b[0m\u001b[0;34m)\u001b[0m\u001b[0;34m.\u001b[0m\u001b[0mappend\u001b[0m\u001b[0;34m(\u001b[0m\u001b[0midx_diff\u001b[0m\u001b[0;34m)\u001b[0m\u001b[0;34m\u001b[0m\u001b[0;34m\u001b[0m\u001b[0m\n\u001b[1;32m   7721\u001b[0m             other = (\n\u001b[0;32m-> 7722\u001b[0;31m                 \u001b[0mother\u001b[0m\u001b[0;34m.\u001b[0m\u001b[0mreindex\u001b[0m\u001b[0;34m(\u001b[0m\u001b[0mcombined_columns\u001b[0m\u001b[0;34m,\u001b[0m \u001b[0mcopy\u001b[0m\u001b[0;34m=\u001b[0m\u001b[0;32mFalse\u001b[0m\u001b[0;34m)\u001b[0m\u001b[0;34m\u001b[0m\u001b[0;34m\u001b[0m\u001b[0m\n\u001b[0m\u001b[1;32m   7723\u001b[0m                 \u001b[0;34m.\u001b[0m\u001b[0mto_frame\u001b[0m\u001b[0;34m(\u001b[0m\u001b[0;34m)\u001b[0m\u001b[0;34m\u001b[0m\u001b[0;34m\u001b[0m\u001b[0m\n\u001b[1;32m   7724\u001b[0m                 \u001b[0;34m.\u001b[0m\u001b[0mT\u001b[0m\u001b[0;34m.\u001b[0m\u001b[0minfer_objects\u001b[0m\u001b[0;34m(\u001b[0m\u001b[0;34m)\u001b[0m\u001b[0;34m\u001b[0m\u001b[0;34m\u001b[0m\u001b[0m\n",
      "\u001b[0;32m/usr/local/lib/python3.8/site-packages/pandas/core/series.py\u001b[0m in \u001b[0;36mreindex\u001b[0;34m(self, index, **kwargs)\u001b[0m\n\u001b[1;32m   4397\u001b[0m     )\n\u001b[1;32m   4398\u001b[0m     \u001b[0;32mdef\u001b[0m \u001b[0mreindex\u001b[0m\u001b[0;34m(\u001b[0m\u001b[0mself\u001b[0m\u001b[0;34m,\u001b[0m \u001b[0mindex\u001b[0m\u001b[0;34m=\u001b[0m\u001b[0;32mNone\u001b[0m\u001b[0;34m,\u001b[0m \u001b[0;34m**\u001b[0m\u001b[0mkwargs\u001b[0m\u001b[0;34m)\u001b[0m\u001b[0;34m:\u001b[0m\u001b[0;34m\u001b[0m\u001b[0;34m\u001b[0m\u001b[0m\n\u001b[0;32m-> 4399\u001b[0;31m         \u001b[0;32mreturn\u001b[0m \u001b[0msuper\u001b[0m\u001b[0;34m(\u001b[0m\u001b[0;34m)\u001b[0m\u001b[0;34m.\u001b[0m\u001b[0mreindex\u001b[0m\u001b[0;34m(\u001b[0m\u001b[0mindex\u001b[0m\u001b[0;34m=\u001b[0m\u001b[0mindex\u001b[0m\u001b[0;34m,\u001b[0m \u001b[0;34m**\u001b[0m\u001b[0mkwargs\u001b[0m\u001b[0;34m)\u001b[0m\u001b[0;34m\u001b[0m\u001b[0;34m\u001b[0m\u001b[0m\n\u001b[0m\u001b[1;32m   4400\u001b[0m \u001b[0;34m\u001b[0m\u001b[0m\n\u001b[1;32m   4401\u001b[0m     def drop(\n",
      "\u001b[0;32m/usr/local/lib/python3.8/site-packages/pandas/core/generic.py\u001b[0m in \u001b[0;36mreindex\u001b[0;34m(self, *args, **kwargs)\u001b[0m\n\u001b[1;32m   4422\u001b[0m \u001b[0;34m\u001b[0m\u001b[0m\n\u001b[1;32m   4423\u001b[0m         \u001b[0;31m# construct the args\u001b[0m\u001b[0;34m\u001b[0m\u001b[0;34m\u001b[0m\u001b[0;34m\u001b[0m\u001b[0m\n\u001b[0;32m-> 4424\u001b[0;31m         \u001b[0maxes\u001b[0m\u001b[0;34m,\u001b[0m \u001b[0mkwargs\u001b[0m \u001b[0;34m=\u001b[0m \u001b[0mself\u001b[0m\u001b[0;34m.\u001b[0m\u001b[0m_construct_axes_from_arguments\u001b[0m\u001b[0;34m(\u001b[0m\u001b[0margs\u001b[0m\u001b[0;34m,\u001b[0m \u001b[0mkwargs\u001b[0m\u001b[0;34m)\u001b[0m\u001b[0;34m\u001b[0m\u001b[0;34m\u001b[0m\u001b[0m\n\u001b[0m\u001b[1;32m   4425\u001b[0m         \u001b[0mmethod\u001b[0m \u001b[0;34m=\u001b[0m \u001b[0mmissing\u001b[0m\u001b[0;34m.\u001b[0m\u001b[0mclean_reindex_fill_method\u001b[0m\u001b[0;34m(\u001b[0m\u001b[0mkwargs\u001b[0m\u001b[0;34m.\u001b[0m\u001b[0mpop\u001b[0m\u001b[0;34m(\u001b[0m\u001b[0;34m\"method\"\u001b[0m\u001b[0;34m,\u001b[0m \u001b[0;32mNone\u001b[0m\u001b[0;34m)\u001b[0m\u001b[0;34m)\u001b[0m\u001b[0;34m\u001b[0m\u001b[0;34m\u001b[0m\u001b[0m\n\u001b[1;32m   4426\u001b[0m         \u001b[0mlevel\u001b[0m \u001b[0;34m=\u001b[0m \u001b[0mkwargs\u001b[0m\u001b[0;34m.\u001b[0m\u001b[0mpop\u001b[0m\u001b[0;34m(\u001b[0m\u001b[0;34m\"level\"\u001b[0m\u001b[0;34m,\u001b[0m \u001b[0;32mNone\u001b[0m\u001b[0;34m)\u001b[0m\u001b[0;34m\u001b[0m\u001b[0;34m\u001b[0m\u001b[0m\n",
      "\u001b[0;32m/usr/local/lib/python3.8/site-packages/pandas/core/generic.py\u001b[0m in \u001b[0;36m_construct_axes_from_arguments\u001b[0;34m(cls, args, kwargs, require_all, sentinel)\u001b[0m\n\u001b[1;32m    360\u001b[0m                         ) from err\n\u001b[1;32m    361\u001b[0m \u001b[0;34m\u001b[0m\u001b[0m\n\u001b[0;32m--> 362\u001b[0;31m         \u001b[0maxes\u001b[0m \u001b[0;34m=\u001b[0m \u001b[0;34m{\u001b[0m\u001b[0ma\u001b[0m\u001b[0;34m:\u001b[0m \u001b[0mkwargs\u001b[0m\u001b[0;34m.\u001b[0m\u001b[0mpop\u001b[0m\u001b[0;34m(\u001b[0m\u001b[0ma\u001b[0m\u001b[0;34m,\u001b[0m \u001b[0msentinel\u001b[0m\u001b[0;34m)\u001b[0m \u001b[0;32mfor\u001b[0m \u001b[0ma\u001b[0m \u001b[0;32min\u001b[0m \u001b[0mcls\u001b[0m\u001b[0;34m.\u001b[0m\u001b[0m_AXIS_ORDERS\u001b[0m\u001b[0;34m}\u001b[0m\u001b[0;34m\u001b[0m\u001b[0;34m\u001b[0m\u001b[0m\n\u001b[0m\u001b[1;32m    363\u001b[0m         \u001b[0;32mreturn\u001b[0m \u001b[0maxes\u001b[0m\u001b[0;34m,\u001b[0m \u001b[0mkwargs\u001b[0m\u001b[0;34m\u001b[0m\u001b[0;34m\u001b[0m\u001b[0m\n\u001b[1;32m    364\u001b[0m \u001b[0;34m\u001b[0m\u001b[0m\n",
      "\u001b[0;32m/usr/local/lib/python3.8/site-packages/pandas/core/generic.py\u001b[0m in \u001b[0;36m<dictcomp>\u001b[0;34m(.0)\u001b[0m\n\u001b[1;32m    360\u001b[0m                         ) from err\n\u001b[1;32m    361\u001b[0m \u001b[0;34m\u001b[0m\u001b[0m\n\u001b[0;32m--> 362\u001b[0;31m         \u001b[0maxes\u001b[0m \u001b[0;34m=\u001b[0m \u001b[0;34m{\u001b[0m\u001b[0ma\u001b[0m\u001b[0;34m:\u001b[0m \u001b[0mkwargs\u001b[0m\u001b[0;34m.\u001b[0m\u001b[0mpop\u001b[0m\u001b[0;34m(\u001b[0m\u001b[0ma\u001b[0m\u001b[0;34m,\u001b[0m \u001b[0msentinel\u001b[0m\u001b[0;34m)\u001b[0m \u001b[0;32mfor\u001b[0m \u001b[0ma\u001b[0m \u001b[0;32min\u001b[0m \u001b[0mcls\u001b[0m\u001b[0;34m.\u001b[0m\u001b[0m_AXIS_ORDERS\u001b[0m\u001b[0;34m}\u001b[0m\u001b[0;34m\u001b[0m\u001b[0;34m\u001b[0m\u001b[0m\n\u001b[0m\u001b[1;32m    363\u001b[0m         \u001b[0;32mreturn\u001b[0m \u001b[0maxes\u001b[0m\u001b[0;34m,\u001b[0m \u001b[0mkwargs\u001b[0m\u001b[0;34m\u001b[0m\u001b[0;34m\u001b[0m\u001b[0m\n\u001b[1;32m    364\u001b[0m \u001b[0;34m\u001b[0m\u001b[0m\n",
      "\u001b[0;31mKeyboardInterrupt\u001b[0m: "
     ]
    }
   ],
   "source": [
    "for size in problem_sizes:\n",
    "    print(f\"{size=}\\n*************************\")\n",
    "    generate_epsilons_data(feat, targ, size, 1, epsilons_ml, n_prob, startdir=ROOT)"
   ]
  },
  {
   "cell_type": "code",
   "execution_count": null,
   "metadata": {},
   "outputs": [],
   "source": [
    "for size in problem_sizes:\n",
    "    print(f\"{size=}\\n*************************\")\n",
    "    generate_upperbounds_data(feat, targ, size, upper_bounds, 0.1, n_prob, startdir=ROOT)"
   ]
  },
  {
   "cell_type": "code",
   "execution_count": null,
   "metadata": {},
   "outputs": [],
   "source": [
    "ml_alpha_startdir = f\"RUNS/ML/ALPHA/\"\n",
    "generate_alphas_data(feat, targ, 500, alphas,n_prob, ml_alpha_startdir)"
   ]
  },
  {
   "cell_type": "markdown",
   "metadata": {},
   "source": [
    "# CALIF DATA GENERATION"
   ]
  },
  {
   "cell_type": "code",
   "execution_count": null,
   "metadata": {},
   "outputs": [],
   "source": [
    "feat, targ = load_california_dataset()\n",
    "ROOT=\"./RUNS2/CAL/\"\n",
    "avg_target_cal = sum(targ) / len(targ)\n",
    "if avg_target_cal < 1e-5:\n",
    "    avg_target_cal = 1\n",
    "epsilons_cal = [avg_target_cal * i for i in [0.01, 0.05, 0.1, 0.2]]"
   ]
  },
  {
   "cell_type": "code",
   "execution_count": null,
   "metadata": {},
   "outputs": [],
   "source": [
    "for size in problem_sizes:\n",
    "    print(f\"{size=}\\n*************************\")\n",
    "    generate_epsilons_data(feat, targ, size, 1, epsilons_cal, n_prob, startdir=ROOT)"
   ]
  },
  {
   "cell_type": "code",
   "execution_count": null,
   "metadata": {},
   "outputs": [],
   "source": [
    "for size in problem_sizes:\n",
    "    print(f\"{size=}\\n*************************\")\n",
    "    generate_upperbounds_data(feat, targ, size, upper_bounds, 0.1, n_prob, startdir=ROOT)"
   ]
  },
  {
   "cell_type": "code",
   "execution_count": null,
   "metadata": {},
   "outputs": [],
   "source": [
    "cal_alpha_startdir = f\"RUNS/CAL/ALPHA/\"\n",
    "generate_alphas_data(feat, targ, 500, alphas,n_prob, cal_alpha_startdir)"
   ]
  },
  {
   "cell_type": "markdown",
   "metadata": {},
   "source": [
    "# AIRF DATA GENERATION"
   ]
  },
  {
   "cell_type": "code",
   "execution_count": null,
   "metadata": {},
   "outputs": [],
   "source": [
    "feat, targ = load_airfoil_dataset()\n",
    "ROOT=\"./RUNS2/AIRF/\"\n",
    "avg_target_airf = sum(targ) / len(targ)\n",
    "if avg_target_airf < 1e-5:\n",
    "    avg_target_airf = 1\n",
    "epsilons_airf = [avg_target_airf * i for i in [0.01, 0.05, 0.1, 0.2]]"
   ]
  },
  {
   "cell_type": "code",
   "execution_count": null,
   "metadata": {},
   "outputs": [],
   "source": [
    "for size in problem_sizes:\n",
    "    print(f\"{size=}\\n*************************\")\n",
    "    generate_epsilons_data(feat, targ, size, 1, epsilons_airf, n_prob, startdir=ROOT)"
   ]
  },
  {
   "cell_type": "code",
   "execution_count": null,
   "metadata": {},
   "outputs": [],
   "source": [
    "for size in problem_sizes:\n",
    "    print(f\"{size=}\\n*************************\")\n",
    "    generate_upperbounds_data(feat, targ, size, upper_bounds, 0.1, n_prob, startdir=ROOT)"
   ]
  },
  {
   "cell_type": "code",
   "execution_count": null,
   "metadata": {},
   "outputs": [],
   "source": [
    "airf_alpha_startdir = f\"RUNS/AIRF/ALPHA/\"\n",
    "generate_alphas_data(feat, targ, 500, alphas,n_prob, airf_alpha_startdir)"
   ]
  },
  {
   "cell_type": "code",
   "execution_count": null,
   "metadata": {},
   "outputs": [],
   "source": []
  }
 ],
 "metadata": {
  "kernelspec": {
   "display_name": "Python 3",
   "language": "python",
   "name": "python3"
  },
  "language_info": {
   "codemirror_mode": {
    "name": "ipython",
    "version": 3
   },
   "file_extension": ".py",
   "mimetype": "text/x-python",
   "name": "python",
   "nbconvert_exporter": "python",
   "pygments_lexer": "ipython3",
   "version": "3.8.5"
  }
 },
 "nbformat": 4,
 "nbformat_minor": 4
}
