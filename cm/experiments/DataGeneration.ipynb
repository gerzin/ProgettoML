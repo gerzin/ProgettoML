{
 "cells": [
  {
   "cell_type": "code",
   "execution_count": null,
   "metadata": {},
   "outputs": [],
   "source": [
    "import sys\n",
    "import os\n",
    "from pathlib import Path\n",
    "sys.path.append(str(Path.cwd().parent))\n",
    "\n",
    "from myutils import *\n",
    "from SLBQP import SLBQP\n",
    "from datastorer import DataStorer\n",
    "import cvxopt\n",
    "from cvxopt import matrix\n",
    "from cvxopt import solvers\n",
    "import pickle\n",
    "import numpy as np\n",
    "import pandas as pd\n",
    "import sklearn\n",
    "import matplotlib.pyplot as plt\n",
    "import seaborn as sns\n",
    "import time\n",
    "\n",
    "plt.style.use('seaborn')\n",
    "params = {\n",
    "    'figure.figsize': (20, 10),\n",
    "    'legend.fontsize': 'x-large',\n",
    "    'axes.labelsize': 'x-large',\n",
    "    'axes.titlesize':'x-large',\n",
    "    'xtick.labelsize':'x-large',\n",
    "    'ytick.labelsize':'x-large',\n",
    "    'axes.titlesize': 'x-large',\n",
    "}\n",
    "plt.rcParams.update(params)\n",
    "\n",
    "solvers.options['show_progress'] = False\n",
    "solvers.options['abstol'] = 1e-6\n",
    "solvers.options['reltol'] = 1e-6\n",
    "solvers.options['feastol'] = 1e-6"
   ]
  },
  {
   "cell_type": "markdown",
   "metadata": {},
   "source": [
    "# Parametri default"
   ]
  },
  {
   "cell_type": "code",
   "execution_count": null,
   "metadata": {},
   "outputs": [],
   "source": [
    "seed = 123\n",
    "np.random.seed(seed)\n",
    "ROSEN = 2\n",
    "GOLDSTEIN = 1"
   ]
  },
  {
   "cell_type": "code",
   "execution_count": null,
   "metadata": {},
   "outputs": [],
   "source": [
    "epsilons = [10**i for i in range(-2, 1)]\n",
    "upper_bounds = [0.1, 0.5, 1, 2, 5, 10]\n",
    "problem_sizes = [300,400,500,600]\n",
    "alphas = [0.1, 0.5, 1, 2, 5]\n",
    "n_prob = 10"
   ]
  },
  {
   "cell_type": "markdown",
   "metadata": {},
   "source": [
    "# Data Generation Functions"
   ]
  },
  {
   "cell_type": "code",
   "execution_count": null,
   "metadata": {},
   "outputs": [],
   "source": [
    "def generate_epsilons_data(feat, targ, size, u, epsilons, n, startdir='./'):\n",
    "    \"\"\"\n",
    "    \n",
    "    \"\"\"\n",
    "    if not startdir.endswith(\"/\"):\n",
    "        startdir += \"/\"\n",
    "        \n",
    "    u_name = str(u).replace(\".\",\"\")\n",
    "    \n",
    "    for e in epsilons:\n",
    "        eps_name = str(e).replace(\".\",\"\")\n",
    "        os.makedirs(f\"{startdir}C{u_name}EPS_{eps_name}/{size}/GOLD\", exist_ok=True)\n",
    "        os.makedirs(f\"{startdir}C{u_name}EPS_{eps_name}/{size}/ROS\", exist_ok=True)\n",
    "    \n",
    "    os.makedirs(startdir + \"RANDSTATES_EPS\", exist_ok=True)\n",
    "    \n",
    "    for i in range(n):\n",
    "        # to generate the problem on different machines and not have the name conflicting\n",
    "        # i = i + 10\n",
    "        \n",
    "        # saving the random state in case we want to rebuild a specific problem\n",
    "        rs = np.random.get_state()\n",
    "        with open(f\"{startdir}RANDSTATES_EPS/{size}_{i}.pkl\", \"wb\") as p:       \n",
    "            pickle.dump(rs, p)\n",
    "        \n",
    "        # sampling the problem and solving it with different values of epsilon\n",
    "        K, target = sample_transform_problem(feat, targ, size)\n",
    "        \n",
    "        for e in epsilons:\n",
    "            print(f\"{i=} , epsilon = {e}\")\n",
    "            eps_name = str(e).replace(\".\",\"\")\n",
    "                \n",
    "            print(f\"\\t\\tGOLDSTEIN with {e=}\")\n",
    "             \n",
    "            ds = DataStorer()\n",
    "           \n",
    "            sg, xg, vg, itg = SLBQP(K, target, u, e, eps=1e-3, maxIter=-1, lmb0=0, d_lmb=2, prj_eps=1e-9, prj_type=GOLDSTEIN, ds=ds)\n",
    "            \n",
    "            ds.save_to_file(f\"{startdir}C{u_name}EPS_{eps_name}/{size}/GOLD/{i}.csv\")\n",
    "            \n",
    "            print(f\"\\t\\tROSEN with {e=}\")\n",
    "            ds = DataStorer()\n",
    "\n",
    "            sg, xg, vg, itg = SLBQP(K, target, u, e, eps=1e-3, maxIter=-1, prj_type=ROSEN, ds=ds)\n",
    "            \n",
    "            ds.save_to_file(f\"{startdir}C{u_name}EPS_{eps_name}/{size}/ROS/{i}.csv\")\n",
    "            print(\"\\t\\tEXTERNAL SOLVER\")\n",
    "            \n",
    "            sol = solve_with_cvxopt(K, target, e, u)['dual objective']\n",
    "            \n",
    "            with open(f\"{startdir}C{u_name}EPS_{eps_name}/{size}/optimal_values.txt\", \"a\") as f:\n",
    "                f.write(str(sol) + \"\\n\")\n",
    "\n",
    "            "
   ]
  },
  {
   "cell_type": "code",
   "execution_count": null,
   "metadata": {},
   "outputs": [],
   "source": [
    "def generate_upperbounds_data(feat, targ, size, upper_bounds, epsilon ,n, startdir='./'):\n",
    "    \"\"\"\n",
    "    \n",
    "    \"\"\"\n",
    "    \n",
    "    if not startdir.endswith(\"/\"):\n",
    "        startdir += \"/\"\n",
    "    \n",
    "    eps_name = str(epsilon).replace(\".\", \"\")\n",
    "    \n",
    "    for u in upper_bounds:\n",
    "        u_name = str(u).replace(\".\",\"\")\n",
    "        os.makedirs(f\"{startdir}C_{u_name}EPS{eps_name}/{size}/GOLD\", exist_ok=True)\n",
    "        os.makedirs(f\"{startdir}C_{u_name}EPS{eps_name}/{size}/ROS\", exist_ok=True)\n",
    "    \n",
    "    os.makedirs(startdir + \"RANDSTATES_C\", exist_ok=True)    \n",
    "    \n",
    "    for i in range(n):\n",
    "        # to generate the problem on different machines and not have the name conflicting\n",
    "        # i = i + 10\n",
    "        \n",
    "        # saving the random state in case we want to rebuild a specific problem\n",
    "        rs = np.random.get_state()\n",
    "        with open(f\"{startdir}RANDSTATES_C/{size}_{i}.pkl\", \"wb\") as p:       \n",
    "            pickle.dump(rs, p)\n",
    "        \n",
    "        # sampling the problem and solving it with different values of epsilon\n",
    "        K, target = sample_transform_problem(feat, targ, size)\n",
    "        \n",
    "        for u in upper_bounds:\n",
    "            print(f\"{i=} , C = {u}\")\n",
    "            u_name = str(u).replace(\".\",\"\")\n",
    "            \n",
    "            print(f\"\\t\\tGOLDSTEIN with C = {u}\")\n",
    "             \n",
    "            ds = DataStorer()\n",
    "            \n",
    "            sg, xg, vg, itg = SLBQP(K, target, u, epsilon, eps=1e-3, maxIter=-1, lmb0=0, d_lmb=2, prj_eps=1e-9, prj_type=GOLDSTEIN, ds=ds)\n",
    "            \n",
    "            ds.save_to_file(f\"{startdir}C_{u_name}EPS{eps_name}/{size}/GOLD/{i}.csv\")\n",
    "            \n",
    "            \n",
    "            print(f\"\\t\\tROSEN with C = {u}\")\n",
    "            ds = DataStorer()\n",
    "            \n",
    "            sg, xg, vg, itg = SLBQP(K, target, u, epsilon, eps=1e-3, maxIter=-1, prj_type=ROSEN, ds=ds)\n",
    "            ds.save_to_file(f\"{startdir}C_{u_name}EPS{eps_name}/{size}/ROS/{i}.csv\")\n",
    "            \n",
    "            print(\"\\t\\tEXTERNAL SOLVER\")\n",
    "            sol = solve_with_cvxopt(K, target, epsilon, u)['dual objective']\n",
    "            \n",
    "            with open(f\"{startdir}C_{u_name}EPS{eps_name}/{size}/optimal_values.txt\", \"a\") as f:\n",
    "                f.write(str(sol)+\"\\n\")"
   ]
  },
  {
   "cell_type": "code",
   "execution_count": null,
   "metadata": {},
   "outputs": [],
   "source": [
    "def generate_alphas_data(feat, targ, size, alphas, n=n_prob, startdir='./', maxiter=1000):\n",
    "    \"\"\"experiments on the alpha paramerer.\"\"\"\n",
    "    \n",
    "    if not startdir.endswith(\"/\"):\n",
    "        startdir += \"/\"\n",
    "    \n",
    "    for alpha in alphas:\n",
    "        alpha_name = str(alpha).replace(\".\",\"\")\n",
    "        os.makedirs(f\"{startdir}{alpha_name}\", exist_ok=True)\n",
    "        print(f\"creating {startdir}{alpha_name}\")\n",
    "    \n",
    "    os.makedirs(f\"{startdir}RANDSTATES_ALPHA\", exist_ok=True)\n",
    "    \n",
    "    \n",
    "    for i in range(n):\n",
    "        \n",
    "        # i = i + 10\n",
    "        \n",
    "        # saving the random state in case we want to rebuild a specific problem\n",
    "        rs = np.random.get_state()\n",
    "        with open(f\"{startdir}RANDSTATES_ALPHA/{size}_{i}.pkl\", \"wb\") as p:       \n",
    "            pickle.dump(rs, p)\n",
    "        \n",
    "        K, target = sample_transform_problem(feat, targ, size)\n",
    "\n",
    "        sol = solve_with_cvxopt(K, target, 0.1, 1)['dual objective']\n",
    "        \n",
    "        with open(f\"{startdir}optimal_values.txt\", \"a\") as f:\n",
    "            f.write(str(sol) + \"\\n\")\n",
    "        \n",
    "        print(f\"Problem {i}\")\n",
    "        for alpha in alphas:\n",
    "            print(f\"\\t\\t{alpha=}\", end=\"\\t\")                    \n",
    "            ds = DataStorer()\n",
    "            \n",
    "            sg, xg, vg, itg = SLBQP(K, target, 1, 0.1, eps=1e-3, maxIter=maxiter, alpha=alpha, prj_type=GOLDSTEIN, ds=ds)          \n",
    "            \n",
    "            alpha_name = str(alpha).replace(\".\",\"\")\n",
    "            ds.save_to_file(f\"{startdir}{alpha_name}/{i}.csv\")\n",
    "            \n",
    "            print(f\"{itg=}\")\n",
    "            "
   ]
  },
  {
   "cell_type": "markdown",
   "metadata": {},
   "source": [
    "# ML DATA GENERATION"
   ]
  },
  {
   "cell_type": "code",
   "execution_count": null,
   "metadata": {},
   "outputs": [],
   "source": [
    "feat, targ = load_ml_dataset()\n",
    "t1 = targ[:,0]\n",
    "t2 = targ[:,1]\n",
    "targ = t1\n",
    "ROOT=\"./RUNS/ML/\""
   ]
  },
  {
   "cell_type": "code",
   "execution_count": null,
   "metadata": {},
   "outputs": [],
   "source": [
    "for size in problem_sizes:\n",
    "    print(f\"{size=}\\n*************************\")\n",
    "    generate_epsilons_data(feat, targ, size, 1, epsilons, n_prob, startdir=ROOT)"
   ]
  },
  {
   "cell_type": "code",
   "execution_count": null,
   "metadata": {},
   "outputs": [],
   "source": [
    "for size in problem_sizes:\n",
    "    print(f\"{size=}\\n*************************\")\n",
    "    generate_upperbounds_data(feat, targ, size, upper_bounds, 0.1, n_prob, startdir=ROOT)"
   ]
  },
  {
   "cell_type": "code",
   "execution_count": null,
   "metadata": {},
   "outputs": [],
   "source": [
    "ml_alpha_startdir = f\"RUNS/ML/ALPHA/\"\n",
    "generate_alphas_data(feat, targ, 500, alphas,n_prob, ml_alpha_startdir)"
   ]
  },
  {
   "cell_type": "markdown",
   "metadata": {},
   "source": [
    "# CALIF DATA GENERATION"
   ]
  },
  {
   "cell_type": "code",
   "execution_count": null,
   "metadata": {},
   "outputs": [],
   "source": [
    "feat, targ = load_california_dataset()\n",
    "targ\n",
    "ROOT=\"./RUNS/CAL/\""
   ]
  },
  {
   "cell_type": "code",
   "execution_count": null,
   "metadata": {},
   "outputs": [],
   "source": [
    "for size in problem_sizes:\n",
    "    print(f\"{size=}\\n*************************\")\n",
    "    generate_epsilons_data(feat, targ, size, 1, epsilons, n_prob, startdir=ROOT)"
   ]
  },
  {
   "cell_type": "code",
   "execution_count": null,
   "metadata": {},
   "outputs": [],
   "source": [
    "for size in problem_sizes:\n",
    "    print(f\"{size=}\\n*************************\")\n",
    "    generate_upperbounds_data(feat, targ, size, upper_bounds, 0.1, n_prob, startdir=ROOT)"
   ]
  },
  {
   "cell_type": "code",
   "execution_count": null,
   "metadata": {},
   "outputs": [],
   "source": [
    "cal_alpha_startdir = f\"RUNS/CAL/ALPHA/\"\n",
    "generate_alphas_data(feat, targ, 500, alphas,n_prob, cal_alpha_startdir)"
   ]
  },
  {
   "cell_type": "markdown",
   "metadata": {},
   "source": [
    "# AIRF DATA GENERATION"
   ]
  },
  {
   "cell_type": "code",
   "execution_count": null,
   "metadata": {},
   "outputs": [],
   "source": [
    "feat, targ = load_airfoil_dataset()\n",
    "targ\n",
    "ROOT=\"./RUNS/AIRF/\""
   ]
  },
  {
   "cell_type": "code",
   "execution_count": null,
   "metadata": {},
   "outputs": [],
   "source": [
    "problem_sizes = [300, 600]\n",
    "for size in problem_sizes:\n",
    "    print(f\"{size=}\\n*************************\")\n",
    "    generate_epsilons_data(feat, targ, size, 1, epsilons, n_prob, startdir=ROOT)"
   ]
  },
  {
   "cell_type": "code",
   "execution_count": null,
   "metadata": {},
   "outputs": [],
   "source": [
    "for size in problem_sizes:\n",
    "    print(f\"{size=}\\n*************************\")\n",
    "    generate_upperbounds_data(feat, targ, size, upper_bounds, 0.1, n_prob, startdir=ROOT)"
   ]
  },
  {
   "cell_type": "code",
   "execution_count": null,
   "metadata": {},
   "outputs": [],
   "source": [
    "airf_alpha_startdir = f\"RUNS/AIRF/ALPHA/\"\n",
    "generate_alphas_data(feat, targ, 500, alphas,n_prob, airf_alpha_startdir)"
   ]
  }
 ],
 "metadata": {
  "kernelspec": {
   "display_name": "Python 3",
   "language": "python",
   "name": "python3"
  },
  "language_info": {
   "codemirror_mode": {
    "name": "ipython",
    "version": 3
   },
   "file_extension": ".py",
   "mimetype": "text/x-python",
   "name": "python",
   "nbconvert_exporter": "python",
   "pygments_lexer": "ipython3",
   "version": "3.8.5"
  }
 },
 "nbformat": 4,
 "nbformat_minor": 4
}
