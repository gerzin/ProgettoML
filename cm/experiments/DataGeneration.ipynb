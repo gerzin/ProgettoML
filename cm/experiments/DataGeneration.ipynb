{
 "cells": [
  {
   "cell_type": "code",
   "execution_count": 1,
   "metadata": {},
   "outputs": [],
   "source": [
    "# importing module\n",
    "import sys\n",
    "import os\n",
    "from pathlib import Path\n",
    "sys.path.append(str(Path.cwd().parent))\n",
    "from myutils import *\n",
    "from SLBQP import SLBQP\n",
    "from datastorer import DataStorer\n",
    "import cvxopt\n",
    "from cvxopt import matrix\n",
    "from cvxopt import solvers\n",
    "import pickle\n",
    "\n",
    "solvers.options['show_progress'] = False\n",
    "solvers.options['abstol'] = 1e-7\n",
    "solvers.options['reltol'] = 1e-7\n",
    "solvers.options['feastol'] = 1e-7"
   ]
  },
  {
   "cell_type": "code",
   "execution_count": 2,
   "metadata": {},
   "outputs": [],
   "source": [
    "import numpy as np\n",
    "import pandas as pd\n",
    "import sklearn\n",
    "import matplotlib.pyplot as plt\n",
    "import seaborn as sns\n",
    "import time\n",
    "plt.style.use('seaborn')\n",
    "params = {\n",
    "    'figure.figsize': (20, 10),\n",
    "    'legend.fontsize': 'x-large',\n",
    "    'axes.labelsize': 'x-large',\n",
    "    'axes.titlesize':'x-large',\n",
    "    'xtick.labelsize':'x-large',\n",
    "    'ytick.labelsize':'x-large',\n",
    "    'axes.titlesize': 'x-large',\n",
    "}\n",
    "plt.rcParams.update(params)"
   ]
  },
  {
   "cell_type": "markdown",
   "metadata": {},
   "source": [
    "# Parametri default"
   ]
  },
  {
   "cell_type": "code",
   "execution_count": 3,
   "metadata": {},
   "outputs": [],
   "source": [
    "seed = 123     # random seed\n",
    "np.random.seed(seed)\n",
    "ROSEN = 2\n",
    "GOLDSTEIN = 1"
   ]
  },
  {
   "cell_type": "code",
   "execution_count": 4,
   "metadata": {},
   "outputs": [],
   "source": [
    "epsilons = [10**i for i in range(-2, 1)]\n",
    "upper_bounds = [0.1, 0.5, 1, 2, 5, 10]\n",
    "problem_sizes = [100,200,300,400,500,600]\n",
    "alphas = [0.1, 0.5, 1, 2, 5]\n",
    "n_prob = 10"
   ]
  },
  {
   "cell_type": "code",
   "execution_count": 5,
   "metadata": {},
   "outputs": [],
   "source": [
    "def generate_multiple_alphas(feat, targ, size, alphas, n=n_prob, startdir='./', maxiter=1000):\n",
    "    \"\"\"experiments on the alpha paramerer.\"\"\"\n",
    "    if not startdir.endswith(\"/\"):\n",
    "        print(\"inserting slash in startdir\")\n",
    "        startdir = startdir + \"/\"\n",
    "    \n",
    "    for alpha in alphas:\n",
    "        alpha_name = str(alpha).replace(\".\",\"\")\n",
    "        os.makedirs(f\"{startdir}{alpha_name}\", exist_ok=True)\n",
    "        print(f\"creating {startdir}{alpha_name}\")\n",
    "    \n",
    "    for i in range(n):\n",
    "        K, target = sample_transform_problem(feat, targ, size)\n",
    "\n",
    "        sol = solve_with_cvxopt(K, target, 0.1, 1)['dual objective']\n",
    "        \n",
    "        with open(f\"{startdir}optimal_values.txt\", \"a\") as f:\n",
    "            f.write(str(sol) + \"\\n\")\n",
    "            \n",
    "        for alpha in alphas:\n",
    "            print(f\"Problem {i} {alpha=}\")                    \n",
    "            ds = DataStorer()\n",
    "            sg, xg, vg, itg = SLBQP(K, target, 1, 0.1, eps=1e-3, maxIter=maxiter, alpha=alpha, prj_type=GOLDSTEIN, ds=ds)          \n",
    "            alpha_name = str(alpha).replace(\".\",\"\")\n",
    "            ds.save_to_file(f\"{startdir}{alpha_name}/{i}.csv\")\n",
    "            \n",
    "            print(f\"\\t\\t{itg=}\")\n",
    "            "
   ]
  },
  {
   "cell_type": "code",
   "execution_count": 6,
   "metadata": {},
   "outputs": [],
   "source": [
    "def generate_multiple_epsilons(feat, targ, size, u, epsilons, n, startdir='./'):    \n",
    "    u_name = str(u).replace(\".\",\"\")\n",
    "    for e in epsilons:\n",
    "        eps_name = str(e).replace(\".\",\"\")\n",
    "        os.makedirs(f\"{startdir}C{u_name}EPS_{eps_name}/{size}/GOLD\", exist_ok=True)\n",
    "        os.makedirs(f\"{startdir}C{u_name}EPS_{eps_name}/{size}/ROS\", exist_ok=True)\n",
    "    \n",
    "    os.makedirs(startdir + \"RANDSTATES\", exist_ok=True)\n",
    "    for i in range(n):\n",
    "        print(f\"generating problem {i}\")\n",
    "        \n",
    "        rs = np.random.get_state()\n",
    "        \n",
    "        with open(f\"{startdir}RANDSTATES/{size}_{i}.pkl\", \"wb\") as p:\n",
    "            \n",
    "            pickle.dump(rs, p)\n",
    "            \n",
    "        K, target = sample_transform_problem(feat, targ, size)\n",
    "        \n",
    "        for e in epsilons:\n",
    "            print(f\"Solving problem {i} with epsilon {e}\")\n",
    "            eps_name = str(e).replace(\".\",\"\")\n",
    "            ds = DataStorer()\n",
    "            print(f\"\\tAbout to run GOLDSTEIN with {e=}\")\n",
    "            sg, xg, vg, itg = SLBQP(K, target, u, e, eps=1e-3, maxIter=-1, lmb0=0, d_lmb=2, prj_eps=1e-9, prj_type=GOLDSTEIN, ds=ds)\n",
    "            ds.save_to_file(f\"{startdir}C{u_name}EPS_{eps_name}/{size}/GOLD/{i}.csv\")\n",
    "            ds = DataStorer()\n",
    "            print(f\"\\tAbout to run ROSEN with {e=}\")\n",
    "            sg, xg, vg, itg = SLBQP(K, target, u, e, eps=1e-3, maxIter=-1, prj_type=ROSEN, ds=ds)\n",
    "            ds.save_to_file(f\"{startdir}C{u_name}EPS_{eps_name}/{size}/ROS/{i}.csv\")\n",
    "            sol = solve_with_cvxopt(K, target, e, u)['dual objective']\n",
    "            with open(f\"{startdir}C{u_name}EPS_{eps_name}/{size}/optimal_values.txt\", \"a\") as f:\n",
    "                f.write(str(sol) + \"\\n\")\n",
    "\n",
    "            "
   ]
  },
  {
   "cell_type": "code",
   "execution_count": 7,
   "metadata": {},
   "outputs": [],
   "source": [
    "def generate_multiple_upperbounds(feat, targ, size, upper_bounds, epsilon ,n, startdir='./'):\n",
    "    \n",
    "    eps_name = str(epsilon).replace(\".\", \"\")\n",
    "    for u in upper_bounds:\n",
    "        u_name = str(u).replace(\".\",\"\")\n",
    "        os.makedirs(f\"{startdir}C_{u_name}EPS{eps_name}/{size}/GOLD\", exist_ok=True)\n",
    "        os.makedirs(f\"{startdir}C_{u_name}EPS{eps_name}/{size}/ROS\", exist_ok=True)\n",
    "        \n",
    "    for i in range(n):\n",
    "        print(f\"generating problem {i}\")\n",
    "        K, target = sample_transform_problem(feat, targ, size)  \n",
    "        for u in upper_bounds:\n",
    "            print(f\"Solving problem {i} with U: {u}\")\n",
    "            u_name = str(u).replace(\".\",\"\")\n",
    "            ds = DataStorer()\n",
    "            print(f\"\\tAbout to run GOLDSTEIN with {u=}\")\n",
    "            sg, xg, vg, itg = SLBQP(K, target, u, epsilon, eps=1e-3, maxIter=-1, lmb0=0, d_lmb=2, prj_eps=1e-9, prj_type=GOLDSTEIN, ds=ds)\n",
    "            ds.save_to_file(f\"{startdir}C_{u_name}EPS{eps_name}/{size}/GOLD/{i}.csv\")\n",
    "            ds = DataStorer()\n",
    "            print(f\"\\tAbout to run ROSEN with {u=}\")\n",
    "            sg, xg, vg, itg = SLBQP(K, target, u, epsilon, eps=1e-3, maxIter=-1, prj_type=ROSEN, ds=ds)\n",
    "            ds.save_to_file(f\"{startdir}C_{u_name}EPS{eps_name}/{size}/ROS/{i}.csv\")\n",
    "            \n",
    "            sol = solve_with_cvxopt(K, target, epsilon, u)['dual objective']\n",
    "            \n",
    "            with open(f\"{startdir}C_{u_name}EPS{eps_name}/{size}/optimal_values.txt\", \"a\") as f:\n",
    "                f.write(str(sol)+\"\\n\")"
   ]
  },
  {
   "cell_type": "markdown",
   "metadata": {},
   "source": [
    "# ML DATA GENERATION"
   ]
  },
  {
   "cell_type": "code",
   "execution_count": 30,
   "metadata": {},
   "outputs": [
    {
     "name": "stdout",
     "output_type": "stream",
     "text": [
      "loading from: \n",
      "/Users/gerardozinno/repos/ProgettoML/cm/data/ML-CUP19-TR.csv\n"
     ]
    }
   ],
   "source": [
    "feat, targ = load_ml_dataset()\n",
    "t1 = targ[:,0]\n",
    "t2 = targ[:,1]\n",
    "targ = t1\n",
    "ROOT=\"./NUOVI/RUNS/RANDOMSTATES/ML/\""
   ]
  },
  {
   "cell_type": "code",
   "execution_count": 35,
   "metadata": {},
   "outputs": [
    {
     "data": {
      "text/plain": [
       "[0.01, 0.1, 1]"
      ]
     },
     "execution_count": 35,
     "metadata": {},
     "output_type": "execute_result"
    }
   ],
   "source": [
    "epsilons"
   ]
  },
  {
   "cell_type": "code",
   "execution_count": null,
   "metadata": {},
   "outputs": [],
   "source": [
    "for size in problem_sizes:\n",
    "    print(f\"{size=}\\n*************************\")\n",
    "    generate_multiple_epsilons(feat, targ, size, 1, epsilons, n_prob, startdir=ROOT)"
   ]
  },
  {
   "cell_type": "code",
   "execution_count": null,
   "metadata": {},
   "outputs": [],
   "source": [
    "for size in problem_sizes:\n",
    "    print(f\"{size=}\\n*************************\")\n",
    "    generate_multiple_upperbounds(feat, targ, size, upper_bounds, 0.1, n_prob, startdir=ROOT)"
   ]
  },
  {
   "cell_type": "code",
   "execution_count": null,
   "metadata": {},
   "outputs": [],
   "source": [
    "ml_alpha_startdir = f\"RUNS/ML/ALPHA/\"\n",
    "generate_multiple_alphas(feat, targ, 500, alphas,n_prob, ml_alpha_startdir)"
   ]
  },
  {
   "cell_type": "markdown",
   "metadata": {},
   "source": [
    "# CALIF DATA GENERATION"
   ]
  },
  {
   "cell_type": "code",
   "execution_count": null,
   "metadata": {},
   "outputs": [],
   "source": [
    "feat, targ = load_california_dataset()\n",
    "targ\n",
    "ROOT=\"./NUOVI/RUNS/CAL/\""
   ]
  },
  {
   "cell_type": "code",
   "execution_count": null,
   "metadata": {},
   "outputs": [],
   "source": [
    "for size in problem_sizes:\n",
    "    print(f\"{size=}\\n*************************\")\n",
    "    generate_multiple_epsilons(feat, targ, size, 1, epsilons, n_prob, startdir=ROOT)"
   ]
  },
  {
   "cell_type": "code",
   "execution_count": null,
   "metadata": {},
   "outputs": [],
   "source": [
    "for size in problem_sizes:\n",
    "    print(f\"{size=}\\n*************************\")\n",
    "    generate_multiple_upperbounds(feat, targ, size, upper_bounds, 0.1, n_prob, startdir=ROOT)"
   ]
  },
  {
   "cell_type": "code",
   "execution_count": null,
   "metadata": {},
   "outputs": [],
   "source": [
    "cal_alpha_startdir = f\"RUNS/CAL/ALPHA/\"\n",
    "generate_multiple_alphas(feat, targ, 500, alphas,n_prob, cal_alpha_startdir)"
   ]
  },
  {
   "cell_type": "markdown",
   "metadata": {},
   "source": [
    "# AIRF DATA GENERATION"
   ]
  },
  {
   "cell_type": "code",
   "execution_count": 11,
   "metadata": {},
   "outputs": [
    {
     "name": "stdout",
     "output_type": "stream",
     "text": [
      "/Users/gerardozinno/repos/ProgettoML/cm/data/airfoil_self_noise.csv\n"
     ]
    }
   ],
   "source": [
    "feat, targ = load_airfoil_dataset()\n",
    "targ\n",
    "ROOT=\"./NUOVI/RUNS/AIRF/\""
   ]
  },
  {
   "cell_type": "code",
   "execution_count": 12,
   "metadata": {},
   "outputs": [
    {
     "name": "stdout",
     "output_type": "stream",
     "text": [
      "size=300\n",
      "*************************\n",
      "generating problem 0\n",
      "Solving problem 0 with epsilon 0.01\n",
      "\tAbout to run GOLDSTEIN with e=0.01\n",
      "\tAbout to run ROSEN with e=0.01\n",
      "Solving problem 0 with epsilon 0.1\n",
      "\tAbout to run GOLDSTEIN with e=0.1\n",
      "\tAbout to run ROSEN with e=0.1\n",
      "Solving problem 0 with epsilon 1\n",
      "\tAbout to run GOLDSTEIN with e=1\n",
      "\tAbout to run ROSEN with e=1\n",
      "generating problem 1\n",
      "Solving problem 1 with epsilon 0.01\n",
      "\tAbout to run GOLDSTEIN with e=0.01\n",
      "\tAbout to run ROSEN with e=0.01\n",
      "Solving problem 1 with epsilon 0.1\n",
      "\tAbout to run GOLDSTEIN with e=0.1\n",
      "\tAbout to run ROSEN with e=0.1\n",
      "Solving problem 1 with epsilon 1\n",
      "\tAbout to run GOLDSTEIN with e=1\n",
      "\tAbout to run ROSEN with e=1\n",
      "generating problem 2\n",
      "Solving problem 2 with epsilon 0.01\n",
      "\tAbout to run GOLDSTEIN with e=0.01\n",
      "\tAbout to run ROSEN with e=0.01\n",
      "Solving problem 2 with epsilon 0.1\n",
      "\tAbout to run GOLDSTEIN with e=0.1\n",
      "\tAbout to run ROSEN with e=0.1\n",
      "Solving problem 2 with epsilon 1\n",
      "\tAbout to run GOLDSTEIN with e=1\n",
      "\tAbout to run ROSEN with e=1\n",
      "generating problem 3\n",
      "Solving problem 3 with epsilon 0.01\n",
      "\tAbout to run GOLDSTEIN with e=0.01\n",
      "\tAbout to run ROSEN with e=0.01\n",
      "Solving problem 3 with epsilon 0.1\n",
      "\tAbout to run GOLDSTEIN with e=0.1\n",
      "\tAbout to run ROSEN with e=0.1\n",
      "Solving problem 3 with epsilon 1\n",
      "\tAbout to run GOLDSTEIN with e=1\n",
      "\tAbout to run ROSEN with e=1\n",
      "generating problem 4\n",
      "Solving problem 4 with epsilon 0.01\n",
      "\tAbout to run GOLDSTEIN with e=0.01\n",
      "\tAbout to run ROSEN with e=0.01\n",
      "Solving problem 4 with epsilon 0.1\n",
      "\tAbout to run GOLDSTEIN with e=0.1\n",
      "\tAbout to run ROSEN with e=0.1\n",
      "Solving problem 4 with epsilon 1\n",
      "\tAbout to run GOLDSTEIN with e=1\n",
      "\tAbout to run ROSEN with e=1\n",
      "generating problem 5\n",
      "Solving problem 5 with epsilon 0.01\n",
      "\tAbout to run GOLDSTEIN with e=0.01\n",
      "\tAbout to run ROSEN with e=0.01\n",
      "Solving problem 5 with epsilon 0.1\n",
      "\tAbout to run GOLDSTEIN with e=0.1\n",
      "\tAbout to run ROSEN with e=0.1\n",
      "Solving problem 5 with epsilon 1\n",
      "\tAbout to run GOLDSTEIN with e=1\n",
      "\tAbout to run ROSEN with e=1\n",
      "generating problem 6\n",
      "Solving problem 6 with epsilon 0.01\n",
      "\tAbout to run GOLDSTEIN with e=0.01\n",
      "\tAbout to run ROSEN with e=0.01\n",
      "Solving problem 6 with epsilon 0.1\n",
      "\tAbout to run GOLDSTEIN with e=0.1\n",
      "\tAbout to run ROSEN with e=0.1\n",
      "Solving problem 6 with epsilon 1\n",
      "\tAbout to run GOLDSTEIN with e=1\n",
      "\tAbout to run ROSEN with e=1\n",
      "generating problem 7\n",
      "Solving problem 7 with epsilon 0.01\n",
      "\tAbout to run GOLDSTEIN with e=0.01\n",
      "\tAbout to run ROSEN with e=0.01\n",
      "Solving problem 7 with epsilon 0.1\n",
      "\tAbout to run GOLDSTEIN with e=0.1\n",
      "\tAbout to run ROSEN with e=0.1\n",
      "Solving problem 7 with epsilon 1\n",
      "\tAbout to run GOLDSTEIN with e=1\n",
      "\tAbout to run ROSEN with e=1\n",
      "generating problem 8\n",
      "Solving problem 8 with epsilon 0.01\n",
      "\tAbout to run GOLDSTEIN with e=0.01\n",
      "\tAbout to run ROSEN with e=0.01\n",
      "Solving problem 8 with epsilon 0.1\n",
      "\tAbout to run GOLDSTEIN with e=0.1\n",
      "\tAbout to run ROSEN with e=0.1\n",
      "Solving problem 8 with epsilon 1\n",
      "\tAbout to run GOLDSTEIN with e=1\n",
      "\tAbout to run ROSEN with e=1\n",
      "generating problem 9\n",
      "Solving problem 9 with epsilon 0.01\n",
      "\tAbout to run GOLDSTEIN with e=0.01\n",
      "\tAbout to run ROSEN with e=0.01\n",
      "Solving problem 9 with epsilon 0.1\n",
      "\tAbout to run GOLDSTEIN with e=0.1\n",
      "\tAbout to run ROSEN with e=0.1\n",
      "Solving problem 9 with epsilon 1\n",
      "\tAbout to run GOLDSTEIN with e=1\n",
      "\tAbout to run ROSEN with e=1\n",
      "size=600\n",
      "*************************\n",
      "generating problem 0\n",
      "Solving problem 0 with epsilon 0.01\n",
      "\tAbout to run GOLDSTEIN with e=0.01\n",
      "\tAbout to run ROSEN with e=0.01\n",
      "Solving problem 0 with epsilon 0.1\n",
      "\tAbout to run GOLDSTEIN with e=0.1\n",
      "\tAbout to run ROSEN with e=0.1\n",
      "Solving problem 0 with epsilon 1\n",
      "\tAbout to run GOLDSTEIN with e=1\n",
      "\tAbout to run ROSEN with e=1\n",
      "generating problem 1\n",
      "Solving problem 1 with epsilon 0.01\n",
      "\tAbout to run GOLDSTEIN with e=0.01\n",
      "\tAbout to run ROSEN with e=0.01\n",
      "Solving problem 1 with epsilon 0.1\n",
      "\tAbout to run GOLDSTEIN with e=0.1\n",
      "\tAbout to run ROSEN with e=0.1\n",
      "Solving problem 1 with epsilon 1\n",
      "\tAbout to run GOLDSTEIN with e=1\n",
      "\tAbout to run ROSEN with e=1\n",
      "generating problem 2\n",
      "Solving problem 2 with epsilon 0.01\n",
      "\tAbout to run GOLDSTEIN with e=0.01\n",
      "\tAbout to run ROSEN with e=0.01\n",
      "Solving problem 2 with epsilon 0.1\n",
      "\tAbout to run GOLDSTEIN with e=0.1\n",
      "\tAbout to run ROSEN with e=0.1\n",
      "Solving problem 2 with epsilon 1\n",
      "\tAbout to run GOLDSTEIN with e=1\n",
      "\tAbout to run ROSEN with e=1\n",
      "generating problem 3\n",
      "Solving problem 3 with epsilon 0.01\n",
      "\tAbout to run GOLDSTEIN with e=0.01\n",
      "\tAbout to run ROSEN with e=0.01\n",
      "Solving problem 3 with epsilon 0.1\n",
      "\tAbout to run GOLDSTEIN with e=0.1\n",
      "\tAbout to run ROSEN with e=0.1\n",
      "Solving problem 3 with epsilon 1\n",
      "\tAbout to run GOLDSTEIN with e=1\n",
      "\tAbout to run ROSEN with e=1\n",
      "generating problem 4\n",
      "Solving problem 4 with epsilon 0.01\n",
      "\tAbout to run GOLDSTEIN with e=0.01\n",
      "\tAbout to run ROSEN with e=0.01\n",
      "Solving problem 4 with epsilon 0.1\n",
      "\tAbout to run GOLDSTEIN with e=0.1\n",
      "\tAbout to run ROSEN with e=0.1\n",
      "Solving problem 4 with epsilon 1\n",
      "\tAbout to run GOLDSTEIN with e=1\n",
      "\tAbout to run ROSEN with e=1\n",
      "generating problem 5\n",
      "Solving problem 5 with epsilon 0.01\n",
      "\tAbout to run GOLDSTEIN with e=0.01\n",
      "\tAbout to run ROSEN with e=0.01\n",
      "Solving problem 5 with epsilon 0.1\n",
      "\tAbout to run GOLDSTEIN with e=0.1\n",
      "\tAbout to run ROSEN with e=0.1\n",
      "Solving problem 5 with epsilon 1\n",
      "\tAbout to run GOLDSTEIN with e=1\n",
      "\tAbout to run ROSEN with e=1\n",
      "generating problem 6\n",
      "Solving problem 6 with epsilon 0.01\n",
      "\tAbout to run GOLDSTEIN with e=0.01\n",
      "\tAbout to run ROSEN with e=0.01\n",
      "Solving problem 6 with epsilon 0.1\n",
      "\tAbout to run GOLDSTEIN with e=0.1\n",
      "\tAbout to run ROSEN with e=0.1\n",
      "Solving problem 6 with epsilon 1\n",
      "\tAbout to run GOLDSTEIN with e=1\n",
      "\tAbout to run ROSEN with e=1\n",
      "generating problem 7\n",
      "Solving problem 7 with epsilon 0.01\n",
      "\tAbout to run GOLDSTEIN with e=0.01\n",
      "\tAbout to run ROSEN with e=0.01\n",
      "Solving problem 7 with epsilon 0.1\n",
      "\tAbout to run GOLDSTEIN with e=0.1\n",
      "\tAbout to run ROSEN with e=0.1\n",
      "Solving problem 7 with epsilon 1\n",
      "\tAbout to run GOLDSTEIN with e=1\n",
      "\tAbout to run ROSEN with e=1\n",
      "generating problem 8\n",
      "Solving problem 8 with epsilon 0.01\n",
      "\tAbout to run GOLDSTEIN with e=0.01\n",
      "\tAbout to run ROSEN with e=0.01\n",
      "Solving problem 8 with epsilon 0.1\n",
      "\tAbout to run GOLDSTEIN with e=0.1\n",
      "\tAbout to run ROSEN with e=0.1\n",
      "Solving problem 8 with epsilon 1\n",
      "\tAbout to run GOLDSTEIN with e=1\n",
      "\tAbout to run ROSEN with e=1\n",
      "generating problem 9\n",
      "Solving problem 9 with epsilon 0.01\n",
      "\tAbout to run GOLDSTEIN with e=0.01\n",
      "\tAbout to run ROSEN with e=0.01\n",
      "Solving problem 9 with epsilon 0.1\n",
      "\tAbout to run GOLDSTEIN with e=0.1\n",
      "\tAbout to run ROSEN with e=0.1\n",
      "Solving problem 9 with epsilon 1\n",
      "\tAbout to run GOLDSTEIN with e=1\n",
      "\tAbout to run ROSEN with e=1\n"
     ]
    }
   ],
   "source": [
    "problem_sizes = [300, 600]\n",
    "for size in problem_sizes:\n",
    "    print(f\"{size=}\\n*************************\")\n",
    "    generate_multiple_epsilons(feat, targ, size, 1, epsilons, n_prob, startdir=ROOT)"
   ]
  },
  {
   "cell_type": "code",
   "execution_count": null,
   "metadata": {},
   "outputs": [],
   "source": [
    "for size in problem_sizes:\n",
    "    print(f\"{size=}\\n*************************\")\n",
    "    generate_multiple_upperbounds(feat, targ, size, upper_bounds, 0.1, n_prob, startdir=ROOT)"
   ]
  },
  {
   "cell_type": "code",
   "execution_count": null,
   "metadata": {},
   "outputs": [],
   "source": [
    "airf_alpha_startdir = f\"RUNS/AIRF/ALPHA/\"\n",
    "generate_multiple_alphas(feat, targ, 500, alphas,n_prob, airf_alpha_startdir)"
   ]
  },
  {
   "cell_type": "code",
   "execution_count": null,
   "metadata": {},
   "outputs": [],
   "source": []
  }
 ],
 "metadata": {
  "kernelspec": {
   "display_name": "Python 3",
   "language": "python",
   "name": "python3"
  },
  "language_info": {
   "codemirror_mode": {
    "name": "ipython",
    "version": 3
   },
   "file_extension": ".py",
   "mimetype": "text/x-python",
   "name": "python",
   "nbconvert_exporter": "python",
   "pygments_lexer": "ipython3",
   "version": "3.8.5"
  }
 },
 "nbformat": 4,
 "nbformat_minor": 4
}
