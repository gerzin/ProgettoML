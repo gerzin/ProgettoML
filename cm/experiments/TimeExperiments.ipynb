{
 "cells": [
  {
   "cell_type": "code",
   "execution_count": 1,
   "metadata": {},
   "outputs": [],
   "source": [
    "# importing module\n",
    "import sys\n",
    "import os\n",
    "from pathlib import Path\n",
    "sys.path.append(str(Path.cwd().parent))\n",
    "from myutils import *\n",
    "from SLBQP import SLBQP\n",
    "from datastorer import DataStorer\n",
    "import numpy as np\n",
    "import pandas as pd\n",
    "import sklearn\n",
    "import matplotlib.pyplot as plt\n",
    "import seaborn as sns\n",
    "import time\n",
    "from myutils import time_program\n",
    "plt.style.use('seaborn')\n",
    "params = {\n",
    "    'figure.figsize': (20, 10),\n",
    "    'legend.fontsize': 'x-large',\n",
    "    'axes.labelsize': 'x-large',\n",
    "    'axes.titlesize':'x-large',\n",
    "    'xtick.labelsize':'x-large',\n",
    "    'ytick.labelsize':'x-large',\n",
    "    'axes.titlesize': 'x-large',\n",
    "}\n",
    "plt.rcParams.update(params)"
   ]
  },
  {
   "cell_type": "code",
   "execution_count": 2,
   "metadata": {},
   "outputs": [],
   "source": [
    "ROSEN = 2\n",
    "GOLDSTEIN = 1"
   ]
  },
  {
   "cell_type": "code",
   "execution_count": 3,
   "metadata": {},
   "outputs": [
    {
     "name": "stdout",
     "output_type": "stream",
     "text": [
      "loading from: \n",
      "/Users/gerardozinno/repos/ProgettoML/cm/data/ML-CUP19-TR.csv\n",
      "/Users/gerardozinno/repos/ProgettoML/cm/data/airfoil_self_noise.csv\n"
     ]
    }
   ],
   "source": [
    "ROOT=\"C1EPS01\"\n",
    "ml_dataset = load_ml_dataset()\n",
    "airf_dataset = load_airfoil_dataset()"
   ]
  },
  {
   "cell_type": "code",
   "execution_count": 4,
   "metadata": {},
   "outputs": [],
   "source": [
    "feat, targ = airf_dataset\n",
    "size = 600\n",
    "K, target = sample_transform_problem(feat, targ, size)\n",
    "n_runs = 5"
   ]
  },
  {
   "cell_type": "code",
   "execution_count": 5,
   "metadata": {},
   "outputs": [],
   "source": [
    "rosen_times = []\n",
    "itg_r = None\n",
    "for _ in range(n_runs):\n",
    "    begin = time.time()\n",
    "    sg, xg, vg, itg_r = SLBQP(K, target, 1, 0.1, eps=1e-3, maxIter=-1, lmb0=0, d_lmb=2, prj_eps=1e-9, prj_type=ROSEN)\n",
    "    rosen_times.append(time.time()-begin)"
   ]
  },
  {
   "cell_type": "code",
   "execution_count": 10,
   "metadata": {},
   "outputs": [
    {
     "name": "stdout",
     "output_type": "stream",
     "text": [
      "1140\n",
      "7.906066751480102\n",
      "0.006935146273228159\n"
     ]
    }
   ],
   "source": [
    "avg_rosen = sum(rosen_times) / len(rosen_times)\n",
    "print(itg_r)\n",
    "print(avg_rosen)\n",
    "print(avg_rosen / itg_r)"
   ]
  },
  {
   "cell_type": "code",
   "execution_count": 7,
   "metadata": {},
   "outputs": [],
   "source": [
    "#%%timeit\n",
    "#sg, xg, vg, itg_r = SLBQP(K, target, 1, 0.1, eps=1e-3, maxIter=-1, lmb0=0, d_lmb=2, prj_eps=1e-9, prj_type=ROSEN)"
   ]
  },
  {
   "cell_type": "code",
   "execution_count": 8,
   "metadata": {},
   "outputs": [],
   "source": [
    "goldstein_times = []\n",
    "itg_g = None\n",
    "for _ in range(n_runs+10):\n",
    "    begin = time.time()\n",
    "    sg, xg, vg, itg_g = SLBQP(K, target, 1, 0.1, eps=1e-3, maxIter=-1, lmb0=0, d_lmb=2, prj_eps=1e-9, prj_type=GOLDSTEIN)\n",
    "    goldstein_times.append(time.time()-begin)"
   ]
  },
  {
   "cell_type": "code",
   "execution_count": 11,
   "metadata": {},
   "outputs": [
    {
     "name": "stdout",
     "output_type": "stream",
     "text": [
      "24\n",
      "0.10124319394429525\n",
      "0.004218466414345636\n"
     ]
    }
   ],
   "source": [
    "avg_goldstein = sum(goldstein_times) / len(goldstein_times)\n",
    "print(itg_g)\n",
    "print(avg_goldstein)\n",
    "print(avg_goldstein / itg_g)"
   ]
  },
  {
   "cell_type": "code",
   "execution_count": null,
   "metadata": {},
   "outputs": [],
   "source": []
  },
  {
   "cell_type": "code",
   "execution_count": null,
   "metadata": {},
   "outputs": [],
   "source": []
  }
 ],
 "metadata": {
  "kernelspec": {
   "display_name": "Python 3",
   "language": "python",
   "name": "python3"
  },
  "language_info": {
   "codemirror_mode": {
    "name": "ipython",
    "version": 3
   },
   "file_extension": ".py",
   "mimetype": "text/x-python",
   "name": "python",
   "nbconvert_exporter": "python",
   "pygments_lexer": "ipython3",
   "version": "3.8.5"
  }
 },
 "nbformat": 4,
 "nbformat_minor": 4
}
