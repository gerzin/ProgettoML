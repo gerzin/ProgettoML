{
 "cells": [
  {
   "cell_type": "code",
   "execution_count": 1,
   "metadata": {},
   "outputs": [],
   "source": [
    "# importing modules\n",
    "import sys\n",
    "import os\n",
    "from pathlib import Path\n",
    "sys.path.append(str(Path.cwd().parent))\n",
    "from myutils import *\n",
    "from SLBQP import SLBQP\n",
    "from datastorer import DataStorer\n",
    "import numpy as np\n",
    "import pandas as pd\n",
    "import sklearn\n",
    "import matplotlib.pyplot as plt\n",
    "import seaborn as sns\n",
    "import time\n",
    "from random import randint\n",
    "plt.style.use('seaborn')\n",
    "params = {\n",
    "    'figure.figsize': (20, 10),\n",
    "    'legend.fontsize': 'x-large',\n",
    "    'axes.labelsize': 'x-large',\n",
    "    'axes.titlesize':'x-large',\n",
    "    'xtick.labelsize':'x-large',\n",
    "    'ytick.labelsize':'x-large',\n",
    "    'axes.titlesize': 'x-large',\n",
    "}\n",
    "plt.rcParams.update(params)\n",
    "from cvxopt import matrix, solvers\n",
    "import warnings\n",
    "warnings.simplefilter(action='ignore', category=FutureWarning)\n",
    "solvers.options['abstol'] = 1e-12\n",
    "solvers.options['reltol'] = 1e-12\n",
    "solvers.options['feastol'] = 1e-12\n",
    "solvers.options['show_progress'] = False"
   ]
  },
  {
   "cell_type": "code",
   "execution_count": null,
   "metadata": {},
   "outputs": [
    {
     "name": "stdout",
     "output_type": "stream",
     "text": [
      "5872697\n",
      "0\n",
      "1\n",
      "2\n",
      "3\n"
     ]
    }
   ],
   "source": [
    "n = 600\n",
    "u = 0.1\n",
    "epsilon = 0.1\n",
    "\n",
    "a = randint(1, 10000000)\n",
    "print(a)\n",
    "\n",
    "feat, targ = load_california_dataset()\n",
    "\n",
    "v1, v3 = 0,0\n",
    "\n",
    "problems = []\n",
    "i = 0\n",
    "while not v1 < v3:\n",
    "    a = randint(1,10000000)\n",
    "    np.random.seed(a)\n",
    "    Q, q = sample_transform_problem(feat, targ, n, a)\n",
    "\n",
    "    s1, x1, v1, it1 = SLBQP(Q, q, u, epsilon, eps=1e-3, maxIter=-1,\n",
    "                   lmb0=0, d_lmb=2, prj_eps=1e-9, verbose=False, prj_type=2)\n",
    "\n",
    "    sol = solve_with_cvxopt(Q, q, epsilon, u)\n",
    "    v3 = np.array(sol['dual objective'])\n",
    "    print(i, sep=\" \")\n",
    "    i += 1\n",
    "    if v1 < v3:\n",
    "        problems.append(a)\n",
    "        problems.append(sol)\n",
    "        problems.append([s1, x1, v1, it1])\n",
    "        problems.append([Q,q])\n",
    "        break\n",
    "    "
   ]
  },
  {
   "cell_type": "code",
   "execution_count": null,
   "metadata": {},
   "outputs": [],
   "source": []
  }
 ],
 "metadata": {
  "kernelspec": {
   "display_name": "Python 3",
   "language": "python",
   "name": "python3"
  },
  "language_info": {
   "codemirror_mode": {
    "name": "ipython",
    "version": 3
   },
   "file_extension": ".py",
   "mimetype": "text/x-python",
   "name": "python",
   "nbconvert_exporter": "python",
   "pygments_lexer": "ipython3",
   "version": "3.8.5"
  }
 },
 "nbformat": 4,
 "nbformat_minor": 4
}
