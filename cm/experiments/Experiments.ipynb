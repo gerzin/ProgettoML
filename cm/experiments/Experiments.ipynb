{
 "cells": [
  {
   "cell_type": "code",
   "execution_count": 1,
   "metadata": {},
   "outputs": [],
   "source": [
    "# importing module\n",
    "import sys\n",
    "import os\n",
    "from pathlib import Path\n",
    "sys.path.append(str(Path.cwd().parent))\n",
    "from myutils import *\n",
    "from SLBQP import SLBQP\n",
    "from datastorer import DataStorer\n",
    "import cvxopt\n",
    "from cvxopt import matrix\n",
    "from cvxopt import solvers"
   ]
  },
  {
   "cell_type": "code",
   "execution_count": 2,
   "metadata": {},
   "outputs": [],
   "source": [
    "import numpy as np\n",
    "import pandas as pd\n",
    "import sklearn\n",
    "import matplotlib.pyplot as plt\n",
    "import seaborn as sns\n",
    "import time\n",
    "plt.style.use('seaborn')\n",
    "params = {\n",
    "    'figure.figsize': (20, 10),\n",
    "    'legend.fontsize': 'x-large',\n",
    "    'axes.labelsize': 'x-large',\n",
    "    'axes.titlesize':'x-large',\n",
    "    'xtick.labelsize':'x-large',\n",
    "    'ytick.labelsize':'x-large',\n",
    "    'axes.titlesize': 'x-large',\n",
    "}\n",
    "plt.rcParams.update(params)"
   ]
  },
  {
   "cell_type": "markdown",
   "metadata": {},
   "source": [
    "# Parametri default"
   ]
  },
  {
   "cell_type": "code",
   "execution_count": 3,
   "metadata": {},
   "outputs": [],
   "source": [
    "seed = 123     # random seed\n",
    "np.random.seed(seed)\n",
    "ROSEN = 2\n",
    "GOLDSTEIN = 1"
   ]
  },
  {
   "cell_type": "code",
   "execution_count": 4,
   "metadata": {},
   "outputs": [],
   "source": [
    "epsilons = [10**i for i in range(-2, 1)]\n",
    "upper_bounds = [0.1, 1, 5, 10]\n",
    "problem_sizes = [200,300,400,600]\n",
    "n_prob = 10"
   ]
  },
  {
   "cell_type": "code",
   "execution_count": 4,
   "metadata": {},
   "outputs": [],
   "source": [
    "def generate_multiple_alphas(feat, targ, size, aplhas, n=5, startdir='./', maxiter=1000):\n",
    "    \"\"\"experiments on the alpha paramerer.\"\"\"\n",
    "    if not startdir.endswith(\"/\"):\n",
    "        print(\"inserting slash in startdir\")\n",
    "        startdir = startdir + \"/\"\n",
    "    \n",
    "    for alpha in alphas:\n",
    "        alpha_name = str(alpha).replace(\".\",\"\")\n",
    "        os.makedirs(f\"{startdir}{alpha_name}\", exist_ok=True)\n",
    "        print(f\"creating {startdir}{alpha_name}\")\n",
    "    for i in range(n):\n",
    "     \n",
    "        K, target = sample_transform_problem(feat, targ, size)\n",
    "        \n",
    "        print(\"Solving with solver\")\n",
    "        sg, xg, vg, itg = SLBQP(K, target, 1, 0.1, eps=1e-6, maxIter=maxiter, alpha=1, prj_type=GOLDSTEIN)\n",
    "        with open(f\"{startdir}optimal_values.txt\", \"a\") as f:\n",
    "            f.write(str(vg) + \"\\n\")\n",
    "            \n",
    "        for alpha in alphas:\n",
    "            print(f\"Problem {i} {alpha=}\")        \n",
    "            print(f\"\\tAbout to run GOLDSTEIN with {alpha=}\")\n",
    "            \n",
    "            ds = DataStorer()\n",
    "            sg, xg, vg, itg = SLBQP(K, target, 1, 0.1, eps=1e-3, maxIter=maxiter, alpha=alpha, prj_type=GOLDSTEIN, ds=ds)\n",
    "            \n",
    "            alpha_name = str(alpha).replace(\".\",\"\")\n",
    "            ds.save_to_file(f\"{startdir}{alpha_name}/{i}.csv\")\n",
    "            \n",
    "            print(f\"\\t\\t{itg=}\")\n",
    "            "
   ]
  },
  {
   "cell_type": "code",
   "execution_count": null,
   "metadata": {},
   "outputs": [],
   "source": [
    "def generate_multiple_epsilons(feat, targ, size, u, epsilons, n, startdir='./'):\n",
    "    u_name = str(u).replace(\".\",\"\")\n",
    "    for e in epsilons:\n",
    "        eps_name = str(e).replace(\".\",\"\")\n",
    "        os.makedirs(f\"{startdir}C{u_name}EPS{eps_name}/{size}/GOLD\", exist_ok=True)\n",
    "        os.makedirs(f\"{startdir}C{u_name}EPS{eps_name}/{size}/ROS\", exist_ok=True)\n",
    "\n",
    "    for i in range(n):\n",
    "        print(f\"generating problem {i}\")\n",
    "        K, target = sample_transform_problem(feat, targ, size)\n",
    "        for e in epsilons:\n",
    "            print(f\"Solving problem {i} with epsilon {e}\")\n",
    "            eps_name = str(e).replace(\".\",\"\")\n",
    "            ds = DataStorer()\n",
    "            print(f\"\\tAbout to run GOLDSTEIN with {e=}\")\n",
    "            sg, xg, vg, itg = SLBQP(K, target, u, e, eps=1e-3, maxIter=-1, lmb0=0, d_lmb=2, prj_eps=1e-9, prj_type=GOLDSTEIN, ds=ds)\n",
    "            ds.save_to_file(f\"{startdir}C{u_name}EPS{eps_name}/{size}/GOLD/{i}.csv\")\n",
    "            ds = DataStorer()\n",
    "            print(f\"\\tAbout to run ROSEN with {e=}\")\n",
    "            sg, xg, vg, itg = SLBQP(K, target, u, e, eps=1e-3, maxIter=-1, prj_type=ROSEN, ds=ds)\n",
    "            ds.save_to_file(f\"{startdir}C{u_name}EPS{eps_name}/{size}/ROS/{i}.csv\")\n",
    "            print(\"Solving with higher precision\")\n",
    "            sg, xg, vg, itg = SLBQP(K, target, u, e, eps=1e-6, maxIter=-1, lmb0=0, d_lmb=2, prj_eps=1e-9, prj_type=GOLDSTEIN)\n",
    "            with open(f\"{startdir}C{u_name}EPS{eps_name}/{size}/optimal_values.txt\", \"a\") as f:\n",
    "                f.write(str(vg) + \"\\n\")\n",
    "            \n",
    "            "
   ]
  },
  {
   "cell_type": "code",
   "execution_count": null,
   "metadata": {},
   "outputs": [],
   "source": [
    "def generate_multiple_upperbounds(feat, targ, size, upper_bounds, epsilon ,n, startdir='./'):\n",
    "    \n",
    "    eps_name = str(epsilon).replace(\".\", \"\")\n",
    "    for u in upper_bounds:\n",
    "        u_name = str(u).replace(\".\",\"\")\n",
    "        os.makedirs(f\"{startdir}C{u_name}EPS{eps_name}/{size}/GOLD\", exist_ok=True)\n",
    "        os.makedirs(f\"{startdir}C{u_name}EPS{eps_name}/{size}/ROS\", exist_ok=True)\n",
    "        \n",
    "    for i in range(n):\n",
    "        print(f\"generating problem {i}\")\n",
    "        K, target = sample_transform_problem(feat, targ, size)  \n",
    "        for u in upper_bounds:\n",
    "            print(f\"Solving problem {i} with U: {u}\")\n",
    "            u_name = str(u).replace(\".\",\"\")\n",
    "            ds = DataStorer()\n",
    "            print(f\"\\tAbout to run GOLDSTEIN with {u=}\")\n",
    "            sg, xg, vg, itg = SLBQP(K, target, u, epsilon, eps=1e-3, maxIter=-1, lmb0=0, d_lmb=2, prj_eps=1e-9, prj_type=GOLDSTEIN, ds=ds)\n",
    "            ds.save_to_file(f\"{startdir}C{u_name}EPS{eps_name}/{size}/GOLD/{i}.csv\")\n",
    "            ds = DataStorer()\n",
    "            print(f\"\\tAbout to run ROSEN with {u=}\")\n",
    "            sg, xg, vg, itg = SLBQP(K, target, u, epsilon, eps=1e-3, maxIter=-1, prj_type=ROSEN, ds=ds)\n",
    "            ds.save_to_file(f\"{startdir}C{u_name}EPS{eps_name}/{size}/ROS/{i}.csv\")\n",
    "            print(\"Solving with higher precision\")\n",
    "            sg, xg, vg, itg = SLBQP(K, target, u, epsilon, eps=1e-6, maxIter=-1, lmb0=0, d_lmb=2, prj_eps=1e-9, prj_type=GOLDSTEIN)\n",
    "            with open(f\"{startdir}C{u_name}EPS{eps_name}/{size}/optimal_values.txt\", \"a\") as f:\n",
    "                f.write(str(vg)+\"\\n\")"
   ]
  },
  {
   "cell_type": "code",
   "execution_count": null,
   "metadata": {},
   "outputs": [],
   "source": [
    "feat, targ = load_ml_dataset()\n",
    "t1 = targ[:,0]\n",
    "t2 = targ[:,1]\n",
    "targ = t1\n",
    "ROOT=\"./RUNS/ML/\""
   ]
  },
  {
   "cell_type": "code",
   "execution_count": null,
   "metadata": {},
   "outputs": [],
   "source": [
    "for size in problem_sizes:\n",
    "    generate_multiple_epsilons(feat, targ, size, 1, epsilons, n_prob, startdir=ROOT)"
   ]
  },
  {
   "cell_type": "code",
   "execution_count": null,
   "metadata": {},
   "outputs": [],
   "source": [
    "for size in problem_sizes:\n",
    "    generate_multiple_upperbounds(feat, targ, size, upper_bounds, 0.1, n_prob, startdir=ROOT)"
   ]
  },
  {
   "cell_type": "code",
   "execution_count": null,
   "metadata": {},
   "outputs": [],
   "source": [
    "feat, targ = load_california_dataset()\n",
    "targ\n",
    "ROOT=\"./RUNS/CAL/\""
   ]
  },
  {
   "cell_type": "code",
   "execution_count": null,
   "metadata": {},
   "outputs": [],
   "source": [
    "for size in problem_sizes:\n",
    "    generate_multiple_epsilons(feat, targ, size, 1, epsilons, n_prob, startdir=ROOT)"
   ]
  },
  {
   "cell_type": "code",
   "execution_count": null,
   "metadata": {},
   "outputs": [],
   "source": [
    "for size in problem_sizes:\n",
    "    generate_multiple_upperbounds(feat, targ, size, upper_bounds, 0.1, n_prob, startdir=ROOT)"
   ]
  },
  {
   "cell_type": "code",
   "execution_count": null,
   "metadata": {},
   "outputs": [],
   "source": [
    "feat, targ = load_airfoil_dataset()\n",
    "targ\n",
    "ROOT=\"./RUNS/AIRF/\""
   ]
  },
  {
   "cell_type": "code",
   "execution_count": null,
   "metadata": {},
   "outputs": [],
   "source": [
    "for size in problem_sizes:\n",
    "    generate_multiple_epsilons(feat, targ, size, 1, epsilons, n_prob, startdir=ROOT)"
   ]
  },
  {
   "cell_type": "code",
   "execution_count": null,
   "metadata": {},
   "outputs": [],
   "source": [
    "for size in problem_sizes:\n",
    "    generate_multiple_upperbounds(feat, targ, size, upper_bounds, 0.1, n_prob, startdir=ROOT)"
   ]
  },
  {
   "cell_type": "markdown",
   "metadata": {},
   "source": [
    "# ALPHA EXPERIMENTS"
   ]
  },
  {
   "cell_type": "code",
   "execution_count": 5,
   "metadata": {},
   "outputs": [],
   "source": [
    "alphas = [0.1, 0.5, 1, 2, 5]"
   ]
  },
  {
   "cell_type": "code",
   "execution_count": 6,
   "metadata": {},
   "outputs": [
    {
     "name": "stdout",
     "output_type": "stream",
     "text": [
      "loading from: \n",
      "/Users/gerardozinno/repos/ProgettoML/cm/data/ML-CUP19-TR.csv\n",
      "creating RUNS/ML/ALPHA/01\n",
      "creating RUNS/ML/ALPHA/05\n",
      "creating RUNS/ML/ALPHA/1\n",
      "creating RUNS/ML/ALPHA/2\n",
      "creating RUNS/ML/ALPHA/5\n",
      "Solving with solver\n",
      "Problem 0 alpha=0.1\n",
      "\tAbout to run GOLDSTEIN with alpha=0.1\n",
      "\t\titg=124\n",
      "Problem 0 alpha=0.5\n",
      "\tAbout to run GOLDSTEIN with alpha=0.5\n",
      "\t\titg=112\n",
      "Problem 0 alpha=1\n",
      "\tAbout to run GOLDSTEIN with alpha=1\n",
      "\t\titg=225\n",
      "Problem 0 alpha=2\n",
      "\tAbout to run GOLDSTEIN with alpha=2\n",
      "\t\titg=1000\n",
      "Problem 0 alpha=5\n",
      "\tAbout to run GOLDSTEIN with alpha=5\n",
      "\t\titg=1000\n",
      "Solving with solver\n",
      "Problem 1 alpha=0.1\n",
      "\tAbout to run GOLDSTEIN with alpha=0.1\n",
      "\t\titg=135\n",
      "Problem 1 alpha=0.5\n",
      "\tAbout to run GOLDSTEIN with alpha=0.5\n",
      "\t\titg=72\n",
      "Problem 1 alpha=1\n",
      "\tAbout to run GOLDSTEIN with alpha=1\n",
      "\t\titg=134\n",
      "Problem 1 alpha=2\n",
      "\tAbout to run GOLDSTEIN with alpha=2\n",
      "\t\titg=1000\n",
      "Problem 1 alpha=5\n",
      "\tAbout to run GOLDSTEIN with alpha=5\n",
      "\t\titg=1000\n",
      "Solving with solver\n",
      "Problem 2 alpha=0.1\n",
      "\tAbout to run GOLDSTEIN with alpha=0.1\n",
      "\t\titg=143\n",
      "Problem 2 alpha=0.5\n",
      "\tAbout to run GOLDSTEIN with alpha=0.5\n",
      "\t\titg=106\n",
      "Problem 2 alpha=1\n",
      "\tAbout to run GOLDSTEIN with alpha=1\n",
      "\t\titg=481\n",
      "Problem 2 alpha=2\n",
      "\tAbout to run GOLDSTEIN with alpha=2\n",
      "\t\titg=1000\n",
      "Problem 2 alpha=5\n",
      "\tAbout to run GOLDSTEIN with alpha=5\n",
      "\t\titg=1000\n",
      "Solving with solver\n",
      "Problem 3 alpha=0.1\n",
      "\tAbout to run GOLDSTEIN with alpha=0.1\n",
      "\t\titg=165\n",
      "Problem 3 alpha=0.5\n",
      "\tAbout to run GOLDSTEIN with alpha=0.5\n",
      "\t\titg=65\n",
      "Problem 3 alpha=1\n",
      "\tAbout to run GOLDSTEIN with alpha=1\n",
      "\t\titg=93\n",
      "Problem 3 alpha=2\n",
      "\tAbout to run GOLDSTEIN with alpha=2\n",
      "\t\titg=1000\n",
      "Problem 3 alpha=5\n",
      "\tAbout to run GOLDSTEIN with alpha=5\n",
      "\t\titg=1000\n",
      "Solving with solver\n",
      "Problem 4 alpha=0.1\n",
      "\tAbout to run GOLDSTEIN with alpha=0.1\n",
      "\t\titg=105\n",
      "Problem 4 alpha=0.5\n",
      "\tAbout to run GOLDSTEIN with alpha=0.5\n",
      "\t\titg=81\n",
      "Problem 4 alpha=1\n",
      "\tAbout to run GOLDSTEIN with alpha=1\n",
      "\t\titg=217\n",
      "Problem 4 alpha=2\n",
      "\tAbout to run GOLDSTEIN with alpha=2\n",
      "\t\titg=1000\n",
      "Problem 4 alpha=5\n",
      "\tAbout to run GOLDSTEIN with alpha=5\n",
      "\t\titg=1000\n"
     ]
    }
   ],
   "source": [
    "# ML DATASET\n",
    "startdir = f\"RUNS/ML/ALPHA/\"\n",
    "feat, targ = load_ml_dataset()\n",
    "targ = targ[:,0]\n",
    "size = 500\n",
    "generate_multiple_alphas(feat, targ, size, alphas, n=5, startdir=startdir, maxiter=1000)"
   ]
  },
  {
   "cell_type": "code",
   "execution_count": 7,
   "metadata": {},
   "outputs": [
    {
     "name": "stderr",
     "output_type": "stream",
     "text": [
      "/usr/local/lib/python3.8/site-packages/sklearn/utils/deprecation.py:143: FutureWarning: The sklearn.datasets.california_housing module is  deprecated in version 0.22 and will be removed in version 0.24. The corresponding classes / functions should instead be imported from sklearn.datasets. Anything that cannot be imported from sklearn.datasets is now part of the private API.\n",
      "  warnings.warn(message, FutureWarning)\n"
     ]
    },
    {
     "name": "stdout",
     "output_type": "stream",
     "text": [
      "creating ./RUNS/CAL/ALPHA/01\n",
      "creating ./RUNS/CAL/ALPHA/05\n",
      "creating ./RUNS/CAL/ALPHA/1\n",
      "creating ./RUNS/CAL/ALPHA/2\n",
      "creating ./RUNS/CAL/ALPHA/5\n",
      "Solving with solver\n",
      "Problem 0 alpha=0.1\n",
      "\tAbout to run GOLDSTEIN with alpha=0.1\n",
      "\t\titg=91\n",
      "Problem 0 alpha=0.5\n",
      "\tAbout to run GOLDSTEIN with alpha=0.5\n",
      "\t\titg=20\n",
      "Problem 0 alpha=1\n",
      "\tAbout to run GOLDSTEIN with alpha=1\n",
      "\t\titg=8\n",
      "Problem 0 alpha=2\n",
      "\tAbout to run GOLDSTEIN with alpha=2\n",
      "\t\titg=1000\n",
      "Problem 0 alpha=5\n",
      "\tAbout to run GOLDSTEIN with alpha=5\n",
      "\t\titg=1000\n",
      "Solving with solver\n",
      "Problem 1 alpha=0.1\n",
      "\tAbout to run GOLDSTEIN with alpha=0.1\n",
      "\t\titg=91\n",
      "Problem 1 alpha=0.5\n",
      "\tAbout to run GOLDSTEIN with alpha=0.5\n",
      "\t\titg=20\n",
      "Problem 1 alpha=1\n",
      "\tAbout to run GOLDSTEIN with alpha=1\n",
      "\t\titg=8\n",
      "Problem 1 alpha=2\n",
      "\tAbout to run GOLDSTEIN with alpha=2\n",
      "\t\titg=1000\n",
      "Problem 1 alpha=5\n",
      "\tAbout to run GOLDSTEIN with alpha=5\n",
      "\t\titg=1000\n",
      "Solving with solver\n",
      "Problem 2 alpha=0.1\n",
      "\tAbout to run GOLDSTEIN with alpha=0.1\n",
      "\t\titg=91\n",
      "Problem 2 alpha=0.5\n",
      "\tAbout to run GOLDSTEIN with alpha=0.5\n",
      "\t\titg=20\n",
      "Problem 2 alpha=1\n",
      "\tAbout to run GOLDSTEIN with alpha=1\n",
      "\t\titg=8\n",
      "Problem 2 alpha=2\n",
      "\tAbout to run GOLDSTEIN with alpha=2\n",
      "\t\titg=1000\n",
      "Problem 2 alpha=5\n",
      "\tAbout to run GOLDSTEIN with alpha=5\n",
      "\t\titg=1000\n",
      "Solving with solver\n",
      "Problem 3 alpha=0.1\n",
      "\tAbout to run GOLDSTEIN with alpha=0.1\n",
      "\t\titg=90\n",
      "Problem 3 alpha=0.5\n",
      "\tAbout to run GOLDSTEIN with alpha=0.5\n",
      "\t\titg=20\n",
      "Problem 3 alpha=1\n",
      "\tAbout to run GOLDSTEIN with alpha=1\n",
      "\t\titg=8\n",
      "Problem 3 alpha=2\n",
      "\tAbout to run GOLDSTEIN with alpha=2\n",
      "\t\titg=1000\n",
      "Problem 3 alpha=5\n",
      "\tAbout to run GOLDSTEIN with alpha=5\n",
      "\t\titg=1000\n",
      "Solving with solver\n",
      "Problem 4 alpha=0.1\n",
      "\tAbout to run GOLDSTEIN with alpha=0.1\n",
      "\t\titg=91\n",
      "Problem 4 alpha=0.5\n",
      "\tAbout to run GOLDSTEIN with alpha=0.5\n",
      "\t\titg=20\n",
      "Problem 4 alpha=1\n",
      "\tAbout to run GOLDSTEIN with alpha=1\n",
      "\t\titg=8\n",
      "Problem 4 alpha=2\n",
      "\tAbout to run GOLDSTEIN with alpha=2\n",
      "\t\titg=1000\n",
      "Problem 4 alpha=5\n",
      "\tAbout to run GOLDSTEIN with alpha=5\n",
      "\t\titg=1000\n"
     ]
    }
   ],
   "source": [
    "# CAL DATASET\n",
    "startdir = f\"./RUNS/CAL/ALPHA/\"\n",
    "feat, targ = load_california_dataset()\n",
    "size = 500\n",
    "generate_multiple_alphas(feat, targ, size, alphas, n=5, startdir=startdir, maxiter=1000)"
   ]
  },
  {
   "cell_type": "code",
   "execution_count": 8,
   "metadata": {},
   "outputs": [
    {
     "name": "stdout",
     "output_type": "stream",
     "text": [
      "/Users/gerardozinno/repos/ProgettoML/cm/data/airfoil_self_noise.csv\n",
      "creating RUNS/AIRF/ALPHA/01\n",
      "creating RUNS/AIRF/ALPHA/05\n",
      "creating RUNS/AIRF/ALPHA/1\n",
      "creating RUNS/AIRF/ALPHA/2\n",
      "creating RUNS/AIRF/ALPHA/5\n",
      "Solving with solver\n",
      "Problem 0 alpha=0.1\n",
      "\tAbout to run GOLDSTEIN with alpha=0.1\n",
      "\t\titg=73\n",
      "Problem 0 alpha=0.5\n",
      "\tAbout to run GOLDSTEIN with alpha=0.5\n",
      "\t\titg=22\n",
      "Problem 0 alpha=1\n",
      "\tAbout to run GOLDSTEIN with alpha=1\n",
      "\t\titg=23\n",
      "Problem 0 alpha=2\n",
      "\tAbout to run GOLDSTEIN with alpha=2\n",
      "\t\titg=1000\n",
      "Problem 0 alpha=5\n",
      "\tAbout to run GOLDSTEIN with alpha=5\n",
      "\t\titg=1000\n",
      "Solving with solver\n",
      "Problem 1 alpha=0.1\n",
      "\tAbout to run GOLDSTEIN with alpha=0.1\n",
      "\t\titg=77\n",
      "Problem 1 alpha=0.5\n",
      "\tAbout to run GOLDSTEIN with alpha=0.5\n",
      "\t\titg=19\n",
      "Problem 1 alpha=1\n",
      "\tAbout to run GOLDSTEIN with alpha=1\n",
      "\t\titg=11\n",
      "Problem 1 alpha=2\n",
      "\tAbout to run GOLDSTEIN with alpha=2\n",
      "\t\titg=1000\n",
      "Problem 1 alpha=5\n",
      "\tAbout to run GOLDSTEIN with alpha=5\n",
      "\t\titg=1000\n",
      "Solving with solver\n",
      "Problem 2 alpha=0.1\n",
      "\tAbout to run GOLDSTEIN with alpha=0.1\n",
      "\t\titg=71\n",
      "Problem 2 alpha=0.5\n",
      "\tAbout to run GOLDSTEIN with alpha=0.5\n",
      "\t\titg=20\n",
      "Problem 2 alpha=1\n",
      "\tAbout to run GOLDSTEIN with alpha=1\n",
      "\t\titg=13\n",
      "Problem 2 alpha=2\n",
      "\tAbout to run GOLDSTEIN with alpha=2\n",
      "\t\titg=1000\n",
      "Problem 2 alpha=5\n",
      "\tAbout to run GOLDSTEIN with alpha=5\n",
      "\t\titg=1000\n",
      "Solving with solver\n",
      "Problem 3 alpha=0.1\n",
      "\tAbout to run GOLDSTEIN with alpha=0.1\n",
      "\t\titg=75\n",
      "Problem 3 alpha=0.5\n",
      "\tAbout to run GOLDSTEIN with alpha=0.5\n",
      "\t\titg=22\n",
      "Problem 3 alpha=1\n",
      "\tAbout to run GOLDSTEIN with alpha=1\n",
      "\t\titg=22\n",
      "Problem 3 alpha=2\n",
      "\tAbout to run GOLDSTEIN with alpha=2\n",
      "\t\titg=1000\n",
      "Problem 3 alpha=5\n",
      "\tAbout to run GOLDSTEIN with alpha=5\n",
      "\t\titg=1000\n",
      "Solving with solver\n",
      "Problem 4 alpha=0.1\n",
      "\tAbout to run GOLDSTEIN with alpha=0.1\n",
      "\t\titg=75\n",
      "Problem 4 alpha=0.5\n",
      "\tAbout to run GOLDSTEIN with alpha=0.5\n",
      "\t\titg=20\n",
      "Problem 4 alpha=1\n",
      "\tAbout to run GOLDSTEIN with alpha=1\n",
      "\t\titg=11\n",
      "Problem 4 alpha=2\n",
      "\tAbout to run GOLDSTEIN with alpha=2\n",
      "\t\titg=1000\n",
      "Problem 4 alpha=5\n",
      "\tAbout to run GOLDSTEIN with alpha=5\n",
      "\t\titg=1000\n"
     ]
    }
   ],
   "source": [
    "startdir = f\"RUNS/AIRF/ALPHA/\"\n",
    "feat, targ= load_airfoil_dataset()\n",
    "size = 500\n",
    "generate_multiple_alphas(feat, targ, size, alphas, n=5, startdir=startdir, maxiter=1000)"
   ]
  },
  {
   "cell_type": "code",
   "execution_count": 8,
   "metadata": {},
   "outputs": [],
   "source": []
  },
  {
   "cell_type": "code",
   "execution_count": 9,
   "metadata": {},
   "outputs": [
    {
     "data": {
      "text/plain": [
       "array([[   8.3252    ,   41.        ,    6.98412698, ...,    2.55555556,\n",
       "          37.88      , -122.23      ],\n",
       "       [   8.3014    ,   21.        ,    6.23813708, ...,    2.10984183,\n",
       "          37.86      , -122.22      ],\n",
       "       [   7.2574    ,   52.        ,    8.28813559, ...,    2.80225989,\n",
       "          37.85      , -122.24      ],\n",
       "       ...,\n",
       "       [   1.7       ,   17.        ,    5.20554273, ...,    2.3256351 ,\n",
       "          39.43      , -121.22      ],\n",
       "       [   1.8672    ,   18.        ,    5.32951289, ...,    2.12320917,\n",
       "          39.43      , -121.32      ],\n",
       "       [   2.3886    ,   16.        ,    5.25471698, ...,    2.61698113,\n",
       "          39.37      , -121.24      ]])"
      ]
     },
     "execution_count": 9,
     "metadata": {},
     "output_type": "execute_result"
    }
   ],
   "source": []
  },
  {
   "cell_type": "code",
   "execution_count": 11,
   "metadata": {},
   "outputs": [
    {
     "data": {
      "text/plain": [
       "array([4.526, 3.585, 3.521, ..., 0.923, 0.847, 0.894])"
      ]
     },
     "execution_count": 11,
     "metadata": {},
     "output_type": "execute_result"
    }
   ],
   "source": [
    "feat"
   ]
  }
 ],
 "metadata": {
  "kernelspec": {
   "display_name": "Python 3",
   "language": "python",
   "name": "python3"
  },
  "language_info": {
   "codemirror_mode": {
    "name": "ipython",
    "version": 3
   },
   "file_extension": ".py",
   "mimetype": "text/x-python",
   "name": "python",
   "nbconvert_exporter": "python",
   "pygments_lexer": "ipython3",
   "version": "3.8.5"
  }
 },
 "nbformat": 4,
 "nbformat_minor": 4
}
