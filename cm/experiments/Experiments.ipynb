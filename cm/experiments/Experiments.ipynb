{
 "cells": [
  {
   "cell_type": "code",
   "execution_count": 1,
   "metadata": {},
   "outputs": [],
   "source": [
    "# importing module\n",
    "import sys\n",
    "import os\n",
    "from pathlib import Path\n",
    "sys.path.append(str(Path.cwd().parent))\n",
    "from myutils import *\n",
    "from SLBQP import SLBQP\n",
    "from datastorer import DataStorer"
   ]
  },
  {
   "cell_type": "code",
   "execution_count": 2,
   "metadata": {},
   "outputs": [],
   "source": [
    "import numpy as np\n",
    "import pandas as pd\n",
    "import sklearn\n",
    "import matplotlib.pyplot as plt\n",
    "import seaborn as sns\n",
    "import time\n",
    "plt.style.use('seaborn')\n",
    "params = {\n",
    "    'figure.figsize': (20, 10),\n",
    "    'legend.fontsize': 'x-large',\n",
    "    'axes.labelsize': 'x-large',\n",
    "    'axes.titlesize':'x-large',\n",
    "    'xtick.labelsize':'x-large',\n",
    "    'ytick.labelsize':'x-large',\n",
    "    'axes.titlesize': 'x-large',\n",
    "}\n",
    "plt.rcParams.update(params)"
   ]
  },
  {
   "cell_type": "code",
   "execution_count": 3,
   "metadata": {},
   "outputs": [],
   "source": [
    "seed = None     # random seed\n",
    "n = 100         # dimension\n",
    "u = 1.          # upperbound\n",
    "epsilon = 0.1   #\n",
    "np.random.seed(seed)"
   ]
  },
  {
   "cell_type": "code",
   "execution_count": 4,
   "metadata": {},
   "outputs": [],
   "source": []
  },
  {
   "cell_type": "code",
   "execution_count": 5,
   "metadata": {},
   "outputs": [
    {
     "name": "stdout",
     "output_type": "stream",
     "text": [
      "loading from: \n",
      "/Users/gerardozinno/repos/ProgettoML/cm/data/ML-CUP19-TR.csv\n"
     ]
    }
   ],
   "source": [
    "feat, targ = load_ml_dataset()\n",
    "t1 = targ[:,0]\n",
    "t2 = targ[:,1]"
   ]
  },
  {
   "cell_type": "code",
   "execution_count": 6,
   "metadata": {},
   "outputs": [
    {
     "data": {
      "text/plain": [
       "array([ 4.13091198, 29.49904525, 24.14576734, ..., 30.17470543,\n",
       "       26.4072482 , 14.35999224])"
      ]
     },
     "execution_count": 6,
     "metadata": {},
     "output_type": "execute_result"
    }
   ],
   "source": [
    "targ = t1\n",
    "targ"
   ]
  },
  {
   "cell_type": "code",
   "execution_count": 7,
   "metadata": {},
   "outputs": [],
   "source": [
    "K, target = sample_transform_problem(feat, targ, len(targ), seed)"
   ]
  },
  {
   "cell_type": "code",
   "execution_count": null,
   "metadata": {},
   "outputs": [],
   "source": []
  },
  {
   "cell_type": "code",
   "execution_count": 8,
   "metadata": {},
   "outputs": [],
   "source": [
    "problem_sizes = (100, 200, 300)#, 400, 500, 600, 700, 800, 900, 1000)\n",
    "n_prob = 2\n",
    "problems = [[sample_transform_problem(feat, targ, size, seed) for size in problem_sizes] for _ in range(n_prob)]"
   ]
  },
  {
   "cell_type": "code",
   "execution_count": 9,
   "metadata": {},
   "outputs": [],
   "source": [
    "ROSEN = 2\n",
    "GOLDSTEIN = 1"
   ]
  },
  {
   "cell_type": "code",
   "execution_count": null,
   "metadata": {},
   "outputs": [],
   "source": []
  },
  {
   "cell_type": "code",
   "execution_count": 10,
   "metadata": {},
   "outputs": [
    {
     "name": "stdout",
     "output_type": "stream",
     "text": [
      "CPU times: user 2min 13s, sys: 7.66 s, total: 2min 21s\n",
      "Wall time: 1min 23s\n"
     ]
    }
   ],
   "source": [
    "%%time\n",
    "ds = DataStorer()\n",
    "prj_type = GOLDSTEIN\n",
    "sg, xg, vg, itg = SLBQP(K, target, u, epsilon, eps=1e-6, maxIter=-1, lmb0=0, d_lmb=2, prj_eps=1e-9, verbose=False, prj_type=prj_type, ds=ds)\n"
   ]
  },
  {
   "cell_type": "code",
   "execution_count": 11,
   "metadata": {},
   "outputs": [
    {
     "name": "stdout",
     "output_type": "stream",
     "text": [
      "x: [0. 0. 0. ... 1. 0. 0.] (optimal)\tv: -5793.474916445437\titer: 5367\n"
     ]
    }
   ],
   "source": [
    "ds.save_to_file(\"GOLDSTEIN_WHOLE_ML_DATASET.csv\")\n",
    "print(f\"x: {xg} ({sg})\\tv: {vg}\\titer: {itg}\")"
   ]
  },
  {
   "cell_type": "code",
   "execution_count": 12,
   "metadata": {},
   "outputs": [
    {
     "name": "stdout",
     "output_type": "stream",
     "text": [
      "x: [0. 0. 0. ... 1. 0. 0.] (optimal)\tv: -5793.474916445259\titer: 9106\n",
      "CPU times: user 6min 31s, sys: 27.4 s, total: 6min 58s\n",
      "Wall time: 4min 44s\n"
     ]
    }
   ],
   "source": [
    "%%time\n",
    "ds = DataStorer()\n",
    "prj_type = ROSEN\n",
    "sr, xr, vr, itr = SLBQP(K, target, u, epsilon, eps=1e-6, maxIter=-1, lmb0=0, d_lmb=2, prj_eps=1e-9, verbose=False, prj_type=prj_type, ds=ds)\n",
    "ds.save_to_file(\"ROSEN.csv\")\n",
    "print(f\"x: {xr} ({sr})\\tv: {vr}\\titer: {itr}\")"
   ]
  },
  {
   "cell_type": "code",
   "execution_count": 13,
   "metadata": {},
   "outputs": [
    {
     "data": {
      "text/plain": [
       "3.3651303965598345e-11"
      ]
     },
     "execution_count": 13,
     "metadata": {},
     "output_type": "execute_result"
    }
   ],
   "source": [
    "np.linalg.norm(vr-vg)"
   ]
  },
  {
   "cell_type": "code",
   "execution_count": null,
   "metadata": {},
   "outputs": [],
   "source": []
  },
  {
   "cell_type": "code",
   "execution_count": 14,
   "metadata": {},
   "outputs": [],
   "source": [
    "prj_type = GOLDSTEIN\n",
    "goldstein_results = []\n",
    "for run in problems:\n",
    "    goldstein_temp = []\n",
    "    for (K, target) in run:\n",
    "        start = time.time()\n",
    "        results = (*SLBQP(K, target, u, epsilon, eps=1e-6, maxIter=-1, lmb0=0, d_lmb=2, prj_eps=1e-9, verbose=False, prj_type=prj_type), time.time()-start)\n",
    "        goldstein_temp.append(results)\n",
    "    goldstein_results.append(goldstein_temp) "
   ]
  },
  {
   "cell_type": "code",
   "execution_count": 15,
   "metadata": {},
   "outputs": [
    {
     "data": {
      "text/plain": [
       "2"
      ]
     },
     "execution_count": 15,
     "metadata": {},
     "output_type": "execute_result"
    }
   ],
   "source": [
    "len(goldstein_results)"
   ]
  },
  {
   "cell_type": "code",
   "execution_count": 18,
   "metadata": {},
   "outputs": [
    {
     "name": "stdout",
     "output_type": "stream",
     "text": [
      "[21.0, 85.5, 38.0]\n",
      "[0.03954136371612549, 0.12411701679229736, 0.04886651039123535]\n"
     ]
    }
   ],
   "source": [
    "zipped_results = [list(zip(*goldstein_results[i])) for i in range(len(goldstein_results))]\n",
    "iterations = []\n",
    "times = []\n",
    "for z in zipped_results:\n",
    "    iterations.append(z[3])\n",
    "    times.append(z[4])\n",
    "gold_average_iter = [sum(x)/len(iterations) for x in zip(*iterations)]\n",
    "gold_average_time = [sum(x)/len(times) for x in zip(*times)]\n",
    "print(gold_average_iter, gold_average_time, sep='\\n')"
   ]
  },
  {
   "cell_type": "code",
   "execution_count": null,
   "metadata": {},
   "outputs": [],
   "source": []
  },
  {
   "cell_type": "code",
   "execution_count": 19,
   "metadata": {},
   "outputs": [],
   "source": [
    "def comparison_plot(element1, label1, element2, label2, xaxis=problem_sizes):\n",
    "    fix, axs = plt.subplots(ncols=2)\n",
    "    axs[0].plot(xaxis, element1, '--o')\n",
    "    axs[0].set_xlabel('problem size')\n",
    "    axs[0].set_ylabel(label1)\n",
    "    axs[1].plot(problem_sizes, element2, '--o')\n",
    "    axs[1].set_xlabel('problem size')\n",
    "    axs[1].set_ylabel(label2)\n",
    "    plt.show()\n"
   ]
  },
  {
   "cell_type": "code",
   "execution_count": 20,
   "metadata": {},
   "outputs": [
    {
     "data": {
      "image/png": "[encoded data removed]",
      "text/plain": [
       "<Figure size 1440x720 with 2 Axes>"
      ]
     },
     "metadata": {},
     "output_type": "display_data"
    }
   ],
   "source": [
    "comparison_plot(gold_average_iter, \"number of iterations\", gold_average_time, \"time (seconds)\")"
   ]
  },
  {
   "cell_type": "markdown",
   "metadata": {},
   "source": [
    "# TODO  \n",
    "* Calcolare algoritmo su problemi diversi e plottare media\n",
    "* Vel. conv: prendiamo ottimo risolutore, ad ogni passo plottare valore fun e f* - fi / fi-1 - f*\n",
    "* Sperimentare con altri parametri\n",
    "* Confrontare tempi senza numba"
   ]
  },
  {
   "cell_type": "code",
   "execution_count": null,
   "metadata": {},
   "outputs": [],
   "source": []
  },
  {
   "cell_type": "code",
   "execution_count": null,
   "metadata": {},
   "outputs": [],
   "source": []
  },
  {
   "cell_type": "code",
   "execution_count": null,
   "metadata": {},
   "outputs": [],
   "source": []
  }
 ],
 "metadata": {
  "kernelspec": {
   "display_name": "Python 3",
   "language": "python",
   "name": "python3"
  },
  "language_info": {
   "codemirror_mode": {
    "name": "ipython",
    "version": 3
   },
   "file_extension": ".py",
   "mimetype": "text/x-python",
   "name": "python",
   "nbconvert_exporter": "python",
   "pygments_lexer": "ipython3",
   "version": "3.8.5"
  }
 },
 "nbformat": 4,
 "nbformat_minor": 4
}
