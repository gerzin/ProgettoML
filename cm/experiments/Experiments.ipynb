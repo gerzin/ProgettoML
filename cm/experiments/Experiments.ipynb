{
 "cells": [
  {
   "cell_type": "code",
   "execution_count": 11,
   "metadata": {},
   "outputs": [],
   "source": [
    "# importing module\n",
    "import sys\n",
    "import os\n",
    "from pathlib import Path\n",
    "sys.path.append(str(Path.cwd().parent))\n",
    "from myutils import *\n",
    "from SLBQP import SLBQP\n",
    "from datastorer import DataStorer"
   ]
  },
  {
   "cell_type": "code",
   "execution_count": 12,
   "metadata": {},
   "outputs": [],
   "source": [
    "import numpy as np\n",
    "import pandas as pd\n",
    "import sklearn\n",
    "import matplotlib.pyplot as plt\n",
    "import seaborn as sns\n",
    "import time\n",
    "plt.style.use('seaborn')\n",
    "params = {\n",
    "    'figure.figsize': (20, 10),\n",
    "    'legend.fontsize': 'x-large',\n",
    "    'axes.labelsize': 'x-large',\n",
    "    'axes.titlesize':'x-large',\n",
    "    'xtick.labelsize':'x-large',\n",
    "    'ytick.labelsize':'x-large',\n",
    "    'axes.titlesize': 'x-large',\n",
    "}\n",
    "plt.rcParams.update(params)"
   ]
  },
  {
   "cell_type": "code",
   "execution_count": 13,
   "metadata": {},
   "outputs": [],
   "source": [
    "seed = None     # random seed\n",
    "n = 100         # dimension\n",
    "u = 1.          # upperbound\n",
    "epsilon = 0.1   #\n",
    "np.random.seed(seed)"
   ]
  },
  {
   "cell_type": "code",
   "execution_count": 14,
   "metadata": {},
   "outputs": [],
   "source": [
    "ds = DataStorer()"
   ]
  },
  {
   "cell_type": "code",
   "execution_count": 15,
   "metadata": {},
   "outputs": [
    {
     "name": "stdout",
     "output_type": "stream",
     "text": [
      "loading from: \n",
      "/Users/gerardozinno/repos/ProgettoML/cm/data/ML-CUP19-TR.csv\n"
     ]
    }
   ],
   "source": [
    "feat, targ = load_ml_dataset()\n",
    "t1 = targ[:,0]\n",
    "t2 = targ[:,1]"
   ]
  },
  {
   "cell_type": "code",
   "execution_count": 16,
   "metadata": {},
   "outputs": [
    {
     "data": {
      "text/plain": [
       "array([ 4.13091198, 29.49904525, 24.14576734, ..., 30.17470543,\n",
       "       26.4072482 , 14.35999224])"
      ]
     },
     "execution_count": 16,
     "metadata": {},
     "output_type": "execute_result"
    }
   ],
   "source": [
    "targ = t1\n",
    "targ"
   ]
  },
  {
   "cell_type": "code",
   "execution_count": 17,
   "metadata": {},
   "outputs": [],
   "source": [
    "K, target = sample_transform_problem(feat, targ, 100, seed)"
   ]
  },
  {
   "cell_type": "code",
   "execution_count": 18,
   "metadata": {},
   "outputs": [],
   "source": [
    "problem_sizes = (100, 200, 300)#, 400, 500, 600, 700, 800, 900, 1000)\n",
    "n_prob = 2\n",
    "problems = [[sample_transform_problem(feat, targ, size, seed) for size in problem_sizes] for _ in range(n_prob)]"
   ]
  },
  {
   "cell_type": "code",
   "execution_count": 19,
   "metadata": {},
   "outputs": [],
   "source": [
    "ROSEN = 1\n",
    "GOLDSTEIN = 2"
   ]
  },
  {
   "cell_type": "code",
   "execution_count": null,
   "metadata": {},
   "outputs": [],
   "source": []
  },
  {
   "cell_type": "code",
   "execution_count": 20,
   "metadata": {},
   "outputs": [
    {
     "name": "stdout",
     "output_type": "stream",
     "text": [
      "CPU times: user 1.16 s, sys: 90.9 ms, total: 1.25 s\n",
      "Wall time: 691 ms\n"
     ]
    }
   ],
   "source": [
    "%%time\n",
    "prj_type = GOLDSTEIN\n",
    "sg, xg, vg, itg = SLBQP(K, target, u, epsilon, eps=1e-6, maxIter=-1, lmb0=0, d_lmb=2, prj_eps=1e-9, verbose=False, prj_type=prj_type, ds=ds)\n"
   ]
  },
  {
   "cell_type": "code",
   "execution_count": 21,
   "metadata": {},
   "outputs": [
    {
     "name": "stdout",
     "output_type": "stream",
     "text": [
      "x: [ 1.00000000e+00  0.00000000e+00  0.00000000e+00  0.00000000e+00\n",
      "  1.00000000e+00  0.00000000e+00  1.00000000e+00  0.00000000e+00\n",
      "  0.00000000e+00  0.00000000e+00  0.00000000e+00  1.00000000e+00\n",
      "  1.00000000e+00  8.86911712e-03  4.33680869e-19  0.00000000e+00\n",
      "  0.00000000e+00  1.00000000e+00  0.00000000e+00  4.33680869e-19\n",
      "  1.18711701e-01  0.00000000e+00  7.43742692e-01  1.00000000e+00\n",
      "  1.00000000e+00  1.00000000e+00  1.00000000e+00  0.00000000e+00\n",
      "  1.00000000e+00  0.00000000e+00  1.00000000e+00  1.00000000e+00\n",
      "  1.00000000e+00  0.00000000e+00 -8.67361738e-19  1.00000000e+00\n",
      "  0.00000000e+00  1.00000000e+00  1.00000000e+00  1.00000000e+00\n",
      "  0.00000000e+00  1.00000000e+00  0.00000000e+00  1.00000000e+00\n",
      "  0.00000000e+00  0.00000000e+00  1.00000000e+00  1.00000000e+00\n",
      "  1.00000000e+00  1.00000000e+00  0.00000000e+00  0.00000000e+00\n",
      "  1.00000000e+00  0.00000000e+00  0.00000000e+00  1.00000000e+00\n",
      "  7.92301869e-01  0.00000000e+00  0.00000000e+00  1.00000000e+00\n",
      "  0.00000000e+00  0.00000000e+00  1.00000000e+00  0.00000000e+00\n",
      "  1.00000000e+00  2.51005209e-03  1.00000000e+00  0.00000000e+00\n",
      "  0.00000000e+00  0.00000000e+00  0.00000000e+00  0.00000000e+00\n",
      "  0.00000000e+00  0.00000000e+00 -8.67361738e-19  1.00000000e+00\n",
      "  1.00000000e+00  4.33680869e-19  1.00000000e+00  0.00000000e+00\n",
      "  1.00000000e+00  0.00000000e+00  1.00000000e+00  1.00000000e+00\n",
      "  1.00000000e+00  1.00000000e+00  1.00000000e+00  1.38777878e-17\n",
      "  1.00000000e+00  3.15594475e-01  1.00000000e+00  1.00000000e+00\n",
      "  0.00000000e+00  0.00000000e+00  1.00000000e+00  0.00000000e+00\n",
      "  1.38266793e-01  0.00000000e+00  1.00000000e+00  0.00000000e+00\n",
      "  5.55111512e-17  1.00000000e+00  1.00000000e+00  1.00000000e+00\n",
      "  0.00000000e+00  1.00000000e+00  0.00000000e+00  1.00000000e+00\n",
      "  1.00000000e+00  1.00000000e+00  1.00000000e+00  0.00000000e+00\n",
      "  0.00000000e+00  0.00000000e+00  1.00000000e+00  7.95124062e-01\n",
      "  1.00000000e+00  0.00000000e+00  1.00000000e+00  1.00000000e+00\n",
      "  0.00000000e+00  1.00000000e+00  0.00000000e+00  0.00000000e+00\n",
      "  0.00000000e+00  0.00000000e+00  0.00000000e+00  1.00000000e+00\n",
      "  1.73472348e-18  1.00000000e+00  0.00000000e+00  0.00000000e+00\n",
      "  0.00000000e+00  1.00000000e+00  1.00000000e+00 -3.46944695e-18\n",
      "  1.00000000e+00  0.00000000e+00  0.00000000e+00  0.00000000e+00\n",
      "  1.00000000e+00  0.00000000e+00  1.00000000e+00  1.73472348e-18\n",
      "  1.00000000e+00  1.00000000e+00  0.00000000e+00  0.00000000e+00\n",
      "  0.00000000e+00  0.00000000e+00  1.00000000e+00  1.00000000e+00\n",
      "  0.00000000e+00  1.00000000e+00  8.66896471e-03  0.00000000e+00\n",
      "  0.00000000e+00  1.00000000e+00  1.00000000e+00  0.00000000e+00\n",
      "  1.00000000e+00  1.00000000e+00  0.00000000e+00  1.00000000e+00\n",
      "  0.00000000e+00  0.00000000e+00  0.00000000e+00  1.00000000e+00\n",
      "  1.00000000e+00  1.00000000e+00  1.00000000e+00  1.00000000e+00\n",
      "  1.00000000e+00  1.00000000e+00  1.00000000e+00  0.00000000e+00\n",
      "  0.00000000e+00  1.00000000e+00 -8.67361738e-19  1.00000000e+00\n",
      "  0.00000000e+00  1.00000000e+00  0.00000000e+00  8.67361738e-19\n",
      "  0.00000000e+00  0.00000000e+00  0.00000000e+00  3.16203674e-01\n",
      " -4.33680869e-19  0.00000000e+00  0.00000000e+00  0.00000000e+00\n",
      "  0.00000000e+00  1.00000000e+00  0.00000000e+00  1.00000000e+00\n",
      "  0.00000000e+00  1.00000000e+00  0.00000000e+00  1.00000000e+00] (optimal)\tv: -535.4059712679068\titer: 199\n"
     ]
    }
   ],
   "source": [
    "ds.save_to_file(\"GOLDSTEIN.csv\")\n",
    "print(f\"x: {xg} ({sg})\\tv: {vg}\\titer: {itg}\")"
   ]
  },
  {
   "cell_type": "code",
   "execution_count": 22,
   "metadata": {},
   "outputs": [
    {
     "name": "stdout",
     "output_type": "stream",
     "text": [
      "x: [1.         0.         0.         0.         1.         0.\n",
      " 1.         0.         0.         0.         0.         1.\n",
      " 1.         0.00886915 0.         0.         0.         1.\n",
      " 0.         0.         0.11871135 0.         0.74374291 1.\n",
      " 1.         1.         1.         0.         1.         0.\n",
      " 1.         1.         1.         0.         0.         1.\n",
      " 0.         1.         1.         1.         0.         1.\n",
      " 0.         1.         0.         0.         1.         1.\n",
      " 1.         1.         0.         0.         1.         0.\n",
      " 0.         1.         0.79230207 0.         0.         1.\n",
      " 0.         0.         1.         0.         1.         0.00251012\n",
      " 1.         0.         0.         0.         0.         0.\n",
      " 0.         0.         0.         1.         1.         0.\n",
      " 1.         0.         1.         0.         1.         1.\n",
      " 1.         1.         1.         0.         1.         0.31559452\n",
      " 1.         1.         0.         0.         1.         0.\n",
      " 0.13826679 0.         1.         0.         0.         1.\n",
      " 1.         1.         0.         1.         0.         1.\n",
      " 1.         1.         1.         0.         0.         0.\n",
      " 1.         0.79512433 1.         0.         1.         1.\n",
      " 0.         1.         0.         0.         0.         0.\n",
      " 0.         1.         0.         1.         0.         0.\n",
      " 0.         1.         1.         0.         1.         0.\n",
      " 0.         0.         1.         0.         1.         0.\n",
      " 1.         1.         0.         0.         0.         0.\n",
      " 1.         1.         0.         1.         0.00866892 0.\n",
      " 0.         1.         1.         0.         1.         1.\n",
      " 0.         1.         0.         0.         0.         1.\n",
      " 1.         1.         1.         1.         1.         1.\n",
      " 1.         0.         0.         1.         0.         1.\n",
      " 0.         1.         0.         0.         0.         0.\n",
      " 0.         0.31620367 0.         0.         0.         0.\n",
      " 0.         1.         0.         1.         0.         1.\n",
      " 0.         1.        ] (optimal)\tv: -535.4059712679084\titer: 19\n",
      "CPU times: user 883 ms, sys: 29.4 ms, total: 913 ms\n",
      "Wall time: 869 ms\n"
     ]
    }
   ],
   "source": [
    "%%time\n",
    "ds = DataStorer()\n",
    "prj_type = ROSEN\n",
    "sr, xr, vr, itr = SLBQP(K, target, u, epsilon, eps=1e-6, maxIter=-1, lmb0=0, d_lmb=2, prj_eps=1e-9, verbose=False, prj_type=prj_type, ds=ds)\n",
    "ds.save_to_file(\"ROSEN.csv\")\n",
    "print(f\"x: {xr} ({sr})\\tv: {vr}\\titer: {itr}\")"
   ]
  },
  {
   "cell_type": "code",
   "execution_count": 23,
   "metadata": {},
   "outputs": [
    {
     "data": {
      "text/plain": [
       "1.5916157281026244e-12"
      ]
     },
     "execution_count": 23,
     "metadata": {},
     "output_type": "execute_result"
    }
   ],
   "source": [
    "np.linalg.norm(vr-vg)"
   ]
  },
  {
   "cell_type": "code",
   "execution_count": null,
   "metadata": {},
   "outputs": [],
   "source": []
  },
  {
   "cell_type": "code",
   "execution_count": 119,
   "metadata": {},
   "outputs": [],
   "source": [
    "prj_type = GOLDSTEIN\n",
    "goldstein_results = []\n",
    "for run in problems:\n",
    "    goldstein_temp = []\n",
    "    for (K, target) in run:\n",
    "        start = time.time()\n",
    "        results = (*SLBQP(K, target, u, epsilon, eps=1e-6, maxIter=-1, lmb0=0, d_lmb=2, prj_eps=1e-9, verbose=False, prj_type=prj_type), time.time()-start)\n",
    "        goldstein_temp.append(results)\n",
    "    goldstein_results.append(goldstein_temp) "
   ]
  },
  {
   "cell_type": "code",
   "execution_count": 120,
   "metadata": {},
   "outputs": [
    {
     "data": {
      "text/plain": [
       "2"
      ]
     },
     "execution_count": 120,
     "metadata": {},
     "output_type": "execute_result"
    }
   ],
   "source": [
    "len(goldstein_results)"
   ]
  },
  {
   "cell_type": "code",
   "execution_count": 123,
   "metadata": {},
   "outputs": [
    {
     "name": "stdout",
     "output_type": "stream",
     "text": [
      "[198.0, 498.0, 756.5]\n",
      "[0.24844801425933838, 0.9581863880157471, 2.0860155820846558]\n"
     ]
    }
   ],
   "source": [
    "zipped_results = [list(zip(*goldstein_results[i])) for i in range(len(goldstein_results))]\n",
    "iterations = []\n",
    "times = []\n",
    "for z in zipped_results:\n",
    "    iterations.append(z[3])\n",
    "    times.append(z[4])\n",
    "gold_average_iter = [sum(x)/len(iterations) for x in zip(*iterations)]\n",
    "gold_average_time = [sum(x)/len(times) for x in zip(*times)]\n",
    "print(average_iter, average_time, sep='\\n')"
   ]
  },
  {
   "cell_type": "code",
   "execution_count": null,
   "metadata": {},
   "outputs": [],
   "source": []
  },
  {
   "cell_type": "code",
   "execution_count": 128,
   "metadata": {},
   "outputs": [],
   "source": [
    "def comparison_plot(element1, label1, element2, label2, xaxis=problem_sizes):\n",
    "    fix, axs = plt.subplots(ncols=2)\n",
    "    axs[0].plot(xaxis, element1, '--o')\n",
    "    axs[0].set_xlabel('problem size')\n",
    "    axs[0].set_ylabel(label1)\n",
    "    axs[1].plot(problem_sizes, element2, '--o')\n",
    "    axs[1].set_xlabel('problem size')\n",
    "    axs[1].set_ylabel(label2)\n",
    "    plt.show()\n"
   ]
  },
  {
   "cell_type": "code",
   "execution_count": 129,
   "metadata": {},
   "outputs": [
    {
     "data": {
      "image/png": "[encoded data removed]",
      "text/plain": [
       "<Figure size 1440x720 with 2 Axes>"
      ]
     },
     "metadata": {},
     "output_type": "display_data"
    }
   ],
   "source": [
    "comparison_plot(gold_average_iter, \"number of iterations\", gold_average_time, \"time (seconds)\")"
   ]
  },
  {
   "cell_type": "code",
   "execution_count": null,
   "metadata": {},
   "outputs": [],
   "source": []
  },
  {
   "cell_type": "markdown",
   "metadata": {},
   "source": [
    "# TODO  \n",
    "* Calcolare algoritmo su problemi diversi e plottare media\n",
    "* Vel. conv: prendiamo ottimo risolutore, ad ogni passo plottare valore fun e f* - fi / fi-1 - f*\n",
    "* Sperimentare con altri parametri\n",
    "* Confrontare tempi senza numba"
   ]
  }
 ],
 "metadata": {
  "kernelspec": {
   "display_name": "Python 3",
   "language": "python",
   "name": "python3"
  },
  "language_info": {
   "codemirror_mode": {
    "name": "ipython",
    "version": 3
   },
   "file_extension": ".py",
   "mimetype": "text/x-python",
   "name": "python",
   "nbconvert_exporter": "python",
   "pygments_lexer": "ipython3",
   "version": "3.8.5"
  }
 },
 "nbformat": 4,
 "nbformat_minor": 4
}
