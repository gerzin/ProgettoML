{
 "cells": [
  {
   "cell_type": "code",
   "execution_count": 1,
   "metadata": {},
   "outputs": [],
   "source": [
    "# importing module\n",
    "import sys\n",
    "import os\n",
    "from pathlib import Path\n",
    "sys.path.append(str(Path.cwd().parent))\n",
    "from myutils import *\n",
    "from SLBQP import SLBQP\n",
    "from datastorer import DataStorer\n",
    "import cvxopt\n",
    "from cvxopt import matrix\n",
    "from cvxopt import solvers"
   ]
  },
  {
   "cell_type": "code",
   "execution_count": 2,
   "metadata": {},
   "outputs": [],
   "source": [
    "import numpy as np\n",
    "import pandas as pd\n",
    "import sklearn\n",
    "import matplotlib.pyplot as plt\n",
    "import seaborn as sns\n",
    "import time\n",
    "plt.style.use('seaborn')\n",
    "params = {\n",
    "    'figure.figsize': (20, 10),\n",
    "    'legend.fontsize': 'x-large',\n",
    "    'axes.labelsize': 'x-large',\n",
    "    'axes.titlesize':'x-large',\n",
    "    'xtick.labelsize':'x-large',\n",
    "    'ytick.labelsize':'x-large',\n",
    "    'axes.titlesize': 'x-large',\n",
    "}\n",
    "plt.rcParams.update(params)"
   ]
  },
  {
   "cell_type": "markdown",
   "metadata": {},
   "source": [
    "# Parametri default"
   ]
  },
  {
   "cell_type": "code",
   "execution_count": 3,
   "metadata": {},
   "outputs": [],
   "source": [
    "seed = None     # random seed\n",
    "np.random.seed(seed)\n",
    "ROSEN = 2\n",
    "GOLDSTEIN = 1"
   ]
  },
  {
   "cell_type": "code",
   "execution_count": 4,
   "metadata": {},
   "outputs": [],
   "source": [
    "epsilons = [10**i for i in range(-2, 1)]\n",
    "upper_bounds = [0.1, 1, 5, 10]\n",
    "problem_sizes = [200,300,400,600]\n",
    "n_prob = 10"
   ]
  },
  {
   "cell_type": "code",
   "execution_count": 5,
   "metadata": {},
   "outputs": [],
   "source": [
    "def generate_multiple_epsilons(feat, targ, size, u, epsilons, n, startdir='./'):\n",
    "    u_name = str(u).replace(\".\",\"\")\n",
    "    for e in epsilons:\n",
    "        eps_name = str(e).replace(\".\",\"\")\n",
    "        os.makedirs(f\"{startdir}C{u_name}EPS{eps_name}/{size}/GOLD\", exist_ok=True)\n",
    "        os.makedirs(f\"{startdir}C{u_name}EPS{eps_name}/{size}/ROS\", exist_ok=True)\n",
    "\n",
    "    for i in range(n):\n",
    "        print(f\"generating problem {i}\")\n",
    "        K, target = sample_transform_problem(feat, targ, size)\n",
    "        for e in epsilons:\n",
    "            print(f\"Solving problem {i} with epsilon {e}\")\n",
    "            eps_name = str(e).replace(\".\",\"\")\n",
    "            ds = DataStorer()\n",
    "            print(f\"\\tAbout to run GOLDSTEIN with {e=}\")\n",
    "            sg, xg, vg, itg = SLBQP(K, target, u, e, eps=1e-3, maxIter=-1, lmb0=0, d_lmb=2, prj_eps=1e-9, prj_type=GOLDSTEIN, ds=ds)\n",
    "            ds.save_to_file(f\"{startdir}C{u_name}EPS{eps_name}/{size}/GOLD/{i}.csv\")\n",
    "            ds = DataStorer()\n",
    "            print(f\"\\tAbout to run ROSEN with {e=}\")\n",
    "            sg, xg, vg, itg = SLBQP(K, target, u, e, eps=1e-3, maxIter=-1, prj_type=ROSEN, ds=ds)\n",
    "            ds.save_to_file(f\"{startdir}C{u_name}EPS{eps_name}/{size}/ROS/{i}.csv\")\n",
    "            print(\"Solving with higher precision\")\n",
    "            sg, xg, vg, itg = SLBQP(K, target, u, e, eps=1e-6, maxIter=-1, lmb0=0, d_lmb=2, prj_eps=1e-9, prj_type=GOLDSTEIN)\n",
    "            with open(f\"{startdir}C{u_name}EPS{eps_name}/{size}/optimal_values.txt\", \"a\") as f:\n",
    "                f.write(str(vg) + \"\\n\")\n",
    "            \n",
    "            "
   ]
  },
  {
   "cell_type": "code",
   "execution_count": 6,
   "metadata": {},
   "outputs": [],
   "source": [
    "def generate_multiple_upperbounds(feat, targ, size, upper_bounds, epsilon ,n, startdir='./'):\n",
    "    \n",
    "    eps_name = str(epsilon).replace(\".\", \"\")\n",
    "    for u in upper_bounds:\n",
    "        u_name = str(u).replace(\".\",\"\")\n",
    "        os.makedirs(f\"{startdir}C{u_name}EPS{eps_name}/{size}/GOLD\", exist_ok=True)\n",
    "        os.makedirs(f\"{startdir}C{u_name}EPS{eps_name}/{size}/ROS\", exist_ok=True)\n",
    "        \n",
    "    for i in range(n):\n",
    "        print(f\"generating problem {i}\")\n",
    "        K, target = sample_transform_problem(feat, targ, size)  \n",
    "        for u in upper_bounds:\n",
    "            print(f\"Solving problem {i} with U: {u}\")\n",
    "            u_name = str(u).replace(\".\",\"\")\n",
    "            ds = DataStorer()\n",
    "            print(f\"\\tAbout to run GOLDSTEIN with {u=}\")\n",
    "            sg, xg, vg, itg = SLBQP(K, target, u, epsilon, eps=1e-3, maxIter=-1, lmb0=0, d_lmb=2, prj_eps=1e-9, prj_type=GOLDSTEIN, ds=ds)\n",
    "            ds.save_to_file(f\"{startdir}C{u_name}EPS{eps_name}/{size}/GOLD/{i}.csv\")\n",
    "            ds = DataStorer()\n",
    "            print(f\"\\tAbout to run ROSEN with {u=}\")\n",
    "            sg, xg, vg, itg = SLBQP(K, target, u, epsilon, eps=1e-3, maxIter=-1, prj_type=ROSEN, ds=ds)\n",
    "            ds.save_to_file(f\"{startdir}C{u_name}EPS{eps_name}/{size}/ROS/{i}.csv\")\n",
    "            print(\"Solving with higher precision\")\n",
    "            sg, xg, vg, itg = SLBQP(K, target, u, epsilon, eps=1e-6, maxIter=-1, lmb0=0, d_lmb=2, prj_eps=1e-9, prj_type=GOLDSTEIN)\n",
    "            with open(f\"{startdir}C{u_name}EPS{eps_name}/{size}/optimal_values.txt\", \"a\") as f:\n",
    "                f.write(str(vg)+\"\\n\")"
   ]
  },
  {
   "cell_type": "code",
   "execution_count": 7,
   "metadata": {},
   "outputs": [
    {
     "name": "stdout",
     "output_type": "stream",
     "text": [
      "loading from: \n",
      "/Users/gerardozinno/repos/ProgettoML/cm/data/ML-CUP19-TR.csv\n"
     ]
    }
   ],
   "source": [
    "feat, targ = load_ml_dataset()\n",
    "t1 = targ[:,0]\n",
    "t2 = targ[:,1]\n",
    "targ = t1\n",
    "ROOT=\"./RUNS/ML/\""
   ]
  },
  {
   "cell_type": "code",
   "execution_count": 8,
   "metadata": {},
   "outputs": [
    {
     "name": "stdout",
     "output_type": "stream",
     "text": [
      "generating problem 0\n",
      "Solving problem 0 with epsilon 0.01\n",
      "\tAbout to run GOLDSTEIN with e=0.01\n",
      "\tAbout to run ROSEN with e=0.01\n",
      "Solving with higher precision\n",
      "Solving problem 0 with epsilon 0.1\n",
      "\tAbout to run GOLDSTEIN with e=0.1\n",
      "\tAbout to run ROSEN with e=0.1\n",
      "Solving with higher precision\n",
      "Solving problem 0 with epsilon 1\n",
      "\tAbout to run GOLDSTEIN with e=1\n",
      "\tAbout to run ROSEN with e=1\n",
      "Solving with higher precision\n"
     ]
    }
   ],
   "source": [
    "for size in problem_sizes:\n",
    "    generate_multiple_epsilons(feat, targ, size, 1, epsilons, n_prob, startdir=ROOT)"
   ]
  },
  {
   "cell_type": "code",
   "execution_count": 9,
   "metadata": {},
   "outputs": [
    {
     "name": "stdout",
     "output_type": "stream",
     "text": [
      "generating problem 0\n",
      "Solving problem 0 with U: 0.1\n",
      "\tAbout to run GOLDSTEIN with u=0.1\n",
      "\tAbout to run ROSEN with u=0.1\n",
      "Solving with higher precision\n",
      "Solving problem 0 with U: 1\n",
      "\tAbout to run GOLDSTEIN with u=1\n",
      "\tAbout to run ROSEN with u=1\n",
      "Solving with higher precision\n",
      "Solving problem 0 with U: 5\n",
      "\tAbout to run GOLDSTEIN with u=5\n",
      "\tAbout to run ROSEN with u=5\n",
      "Solving with higher precision\n",
      "Solving problem 0 with U: 10\n",
      "\tAbout to run GOLDSTEIN with u=10\n",
      "\tAbout to run ROSEN with u=10\n",
      "Solving with higher precision\n"
     ]
    }
   ],
   "source": [
    "for size in problem_sizes:\n",
    "    generate_multiple_upperbounds(feat, targ, size, upper_bounds, 0.1, n_prob, startdir=ROOT)"
   ]
  },
  {
   "cell_type": "code",
   "execution_count": 10,
   "metadata": {},
   "outputs": [
    {
     "name": "stderr",
     "output_type": "stream",
     "text": [
      "/usr/local/lib/python3.8/site-packages/sklearn/utils/deprecation.py:143: FutureWarning: The sklearn.datasets.california_housing module is  deprecated in version 0.22 and will be removed in version 0.24. The corresponding classes / functions should instead be imported from sklearn.datasets. Anything that cannot be imported from sklearn.datasets is now part of the private API.\n",
      "  warnings.warn(message, FutureWarning)\n"
     ]
    }
   ],
   "source": [
    "feat, targ = load_california_dataset()\n",
    "targ\n",
    "ROOT=\"./RUNS/CAL/\""
   ]
  },
  {
   "cell_type": "code",
   "execution_count": 11,
   "metadata": {},
   "outputs": [
    {
     "name": "stdout",
     "output_type": "stream",
     "text": [
      "generating problem 0\n",
      "Solving problem 0 with epsilon 0.01\n",
      "\tAbout to run GOLDSTEIN with e=0.01\n",
      "\tAbout to run ROSEN with e=0.01\n",
      "Solving with higher precision\n",
      "Solving problem 0 with epsilon 0.1\n",
      "\tAbout to run GOLDSTEIN with e=0.1\n",
      "\tAbout to run ROSEN with e=0.1\n",
      "Solving with higher precision\n",
      "Solving problem 0 with epsilon 1\n",
      "\tAbout to run GOLDSTEIN with e=1\n",
      "\tAbout to run ROSEN with e=1\n",
      "Solving with higher precision\n"
     ]
    }
   ],
   "source": [
    "for size in problem_sizes:\n",
    "    generate_multiple_epsilons(feat, targ, size, 1, epsilons, n_prob, startdir=ROOT)"
   ]
  },
  {
   "cell_type": "code",
   "execution_count": 12,
   "metadata": {},
   "outputs": [
    {
     "name": "stdout",
     "output_type": "stream",
     "text": [
      "generating problem 0\n",
      "Solving problem 0 with U: 0.1\n",
      "\tAbout to run GOLDSTEIN with u=0.1\n",
      "\tAbout to run ROSEN with u=0.1\n",
      "Solving with higher precision\n",
      "Solving problem 0 with U: 1\n",
      "\tAbout to run GOLDSTEIN with u=1\n",
      "\tAbout to run ROSEN with u=1\n",
      "Solving with higher precision\n",
      "Solving problem 0 with U: 5\n",
      "\tAbout to run GOLDSTEIN with u=5\n",
      "\tAbout to run ROSEN with u=5\n",
      "Solving with higher precision\n",
      "Solving problem 0 with U: 10\n",
      "\tAbout to run GOLDSTEIN with u=10\n",
      "\tAbout to run ROSEN with u=10\n",
      "Solving with higher precision\n"
     ]
    }
   ],
   "source": [
    "for size in problem_sizes:\n",
    "    generate_multiple_upperbounds(feat, targ, size, upper_bounds, 0.1, n_prob, startdir=ROOT)"
   ]
  },
  {
   "cell_type": "code",
   "execution_count": 13,
   "metadata": {},
   "outputs": [
    {
     "name": "stdout",
     "output_type": "stream",
     "text": [
      "/Users/gerardozinno/repos/ProgettoML/cm/data/airfoil_self_noise.csv\n"
     ]
    }
   ],
   "source": [
    "feat, targ = load_airfoil_dataset()\n",
    "targ\n",
    "ROOT=\"./RUNS/AIRF/\""
   ]
  },
  {
   "cell_type": "code",
   "execution_count": 14,
   "metadata": {},
   "outputs": [
    {
     "name": "stdout",
     "output_type": "stream",
     "text": [
      "generating problem 0\n",
      "Solving problem 0 with epsilon 0.01\n",
      "\tAbout to run GOLDSTEIN with e=0.01\n",
      "\tAbout to run ROSEN with e=0.01\n",
      "Solving with higher precision\n",
      "Solving problem 0 with epsilon 0.1\n",
      "\tAbout to run GOLDSTEIN with e=0.1\n",
      "\tAbout to run ROSEN with e=0.1\n",
      "Solving with higher precision\n",
      "Solving problem 0 with epsilon 1\n",
      "\tAbout to run GOLDSTEIN with e=1\n",
      "\tAbout to run ROSEN with e=1\n",
      "Solving with higher precision\n"
     ]
    }
   ],
   "source": [
    "for size in problem_sizes:\n",
    "    generate_multiple_epsilons(feat, targ, size, 1, epsilons, n_prob, startdir=ROOT)"
   ]
  },
  {
   "cell_type": "code",
   "execution_count": 15,
   "metadata": {},
   "outputs": [
    {
     "name": "stdout",
     "output_type": "stream",
     "text": [
      "generating problem 0\n",
      "Solving problem 0 with U: 0.1\n",
      "\tAbout to run GOLDSTEIN with u=0.1\n",
      "\tAbout to run ROSEN with u=0.1\n",
      "Solving with higher precision\n",
      "Solving problem 0 with U: 1\n",
      "\tAbout to run GOLDSTEIN with u=1\n",
      "\tAbout to run ROSEN with u=1\n",
      "Solving with higher precision\n",
      "Solving problem 0 with U: 5\n",
      "\tAbout to run GOLDSTEIN with u=5\n",
      "\tAbout to run ROSEN with u=5\n",
      "Solving with higher precision\n",
      "Solving problem 0 with U: 10\n",
      "\tAbout to run GOLDSTEIN with u=10\n",
      "\tAbout to run ROSEN with u=10\n",
      "Solving with higher precision\n"
     ]
    }
   ],
   "source": [
    "for size in problem_sizes:\n",
    "    generate_multiple_upperbounds(feat, targ, size, upper_bounds, 0.1, n_prob, startdir=ROOT)"
   ]
  }
 ],
 "metadata": {
  "kernelspec": {
   "display_name": "Python 3",
   "language": "python",
   "name": "python3"
  },
  "language_info": {
   "codemirror_mode": {
    "name": "ipython",
    "version": 3
   },
   "file_extension": ".py",
   "mimetype": "text/x-python",
   "name": "python",
   "nbconvert_exporter": "python",
   "pygments_lexer": "ipython3",
   "version": "3.8.5"
  }
 },
 "nbformat": 4,
 "nbformat_minor": 4
}
