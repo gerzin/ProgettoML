{
 "cells": [
  {
   "cell_type": "code",
   "execution_count": 1,
   "metadata": {},
   "outputs": [],
   "source": [
    "import numpy as np\n",
    "import pandas as pd\n",
    "import matplotlib.pyplot as plt\n",
    "import seaborn as sns\n",
    "plt.style.use('seaborn')\n",
    "params = {\n",
    "    'figure.figsize': (20, 15),\n",
    "    'legend.fontsize': 'x-large',\n",
    "    'axes.labelsize': 'x-large',\n",
    "    'axes.titlesize':'x-large',\n",
    "    'xtick.labelsize':'x-large',\n",
    "    'ytick.labelsize':'x-large',\n",
    "    'axes.titlesize': 'x-large',\n",
    "}\n",
    "plt.rcParams.update(params)"
   ]
  },
  {
   "cell_type": "code",
   "execution_count": 46,
   "metadata": {},
   "outputs": [],
   "source": [
    "import pathlib\n",
    "\n",
    "def load_ml_dataset():\n",
    "    DATASET_PATH = pathlib.Path(pathlib.Path.cwd()).parent / \"data\"\n",
    "    DATASET_NAME = \"ML-CUP19-TR.csv\"\n",
    "    print(\"loading from: \")\n",
    "    print(DATASET_PATH / DATASET_NAME)\n",
    "    return pd.read_csv(DATASET_PATH / DATASET_NAME, sep=',', comment='#', skiprows=7, header=None, index_col=0)\n",
    "\n",
    "def load_airfoil_dataset():\n",
    "    DATASET_PATH = \"data\"\n",
    "    DATASET_NAME = \"airfoil_self_noise.dat\"\n",
    "    "
   ]
  },
  {
   "cell_type": "code",
   "execution_count": 49,
   "metadata": {},
   "outputs": [
    {
     "name": "stdout",
     "output_type": "stream",
     "text": [
      "loading from: \n",
      "/Users/gerardozinno/repos/ProgettoML/cm/data/ML-CUP19-TR.csv\n"
     ]
    }
   ],
   "source": [
    "df = load_ml_dataset()"
   ]
  },
  {
   "cell_type": "code",
   "execution_count": 8,
   "metadata": {},
   "outputs": [],
   "source": [
    "def separate_feature(dataset, nlast=1):\n",
    "    \"\"\"separates the features from the target variables.\n",
    "    Params:\n",
    "        dataset  -- the dataset.\n",
    "        nlast    -- number of columns containing the target variables.\n",
    "    Returns:\n",
    "        features, targets\n",
    "    \"\"\"\n",
    "    target_points = df[df.columns[-nlast:]]\n",
    "    target_points.columns = ['X', 'Y']\n",
    "    feature_points = df[df.columns[:-nlast]]\n",
    "    feature_points.columns = [str(i+1) for i in range(len(feature_points.columns))]\n",
    "    return feature_points, target_points"
   ]
  },
  {
   "cell_type": "code",
   "execution_count": 39,
   "metadata": {},
   "outputs": [],
   "source": [
    "def randomsample(mat, n):\n",
    "    \"\"\"samples a random subset of size n from a matrix.\"\"\"\n",
    "    r,c = mat.shape\n",
    "    assert(r >= n)\n",
    "    M = mat.to_numpy() if type(mat) is pd.core.frame.DataFrame else mat\n",
    "    return M[np.random.choice(r, n, replace=False),:]"
   ]
  },
  {
   "cell_type": "markdown",
   "metadata": {},
   "source": [
    "# TODO\n",
    "* sampling dati dal dataset originale"
   ]
  },
  {
   "cell_type": "code",
   "execution_count": 42,
   "metadata": {},
   "outputs": [],
   "source": [
    "samples = [randomsample(df, i) for i in [10,100,1000]]"
   ]
  },
  {
   "cell_type": "code",
   "execution_count": null,
   "metadata": {},
   "outputs": [],
   "source": []
  }
 ],
 "metadata": {
  "kernelspec": {
   "display_name": "Python 3",
   "language": "python",
   "name": "python3"
  },
  "language_info": {
   "codemirror_mode": {
    "name": "ipython",
    "version": 3
   },
   "file_extension": ".py",
   "mimetype": "text/x-python",
   "name": "python",
   "nbconvert_exporter": "python",
   "pygments_lexer": "ipython3",
   "version": "3.8.5"
  }
 },
 "nbformat": 4,
 "nbformat_minor": 4
}
