{
 "cells": [
  {
   "cell_type": "code",
   "execution_count": 1,
   "metadata": {},
   "outputs": [],
   "source": [
    "# importing module\n",
    "import sys\n",
    "import os\n",
    "from pathlib import Path\n",
    "sys.path.append(str(Path.cwd().parent))\n",
    "from myutils import *\n",
    "from SLBQP import SLBQP\n",
    "from datastorer import DataStorer\n",
    "import numpy as np\n",
    "import pandas as pd\n",
    "import sklearn\n",
    "import matplotlib.pyplot as plt\n",
    "import seaborn as sns\n",
    "import time\n",
    "plt.style.use('seaborn')\n",
    "params = {\n",
    "    'figure.figsize': (20, 10),\n",
    "    'legend.fontsize': 'x-large',\n",
    "    'axes.labelsize': 'x-large',\n",
    "    'axes.titlesize':'x-large',\n",
    "    'xtick.labelsize':'x-large',\n",
    "    'ytick.labelsize':'x-large',\n",
    "    'axes.titlesize': 'x-large',\n",
    "}\n",
    "plt.rcParams.update(params)"
   ]
  },
  {
   "cell_type": "markdown",
   "metadata": {},
   "source": [
    "# Utility Functions"
   ]
  },
  {
   "cell_type": "code",
   "execution_count": 2,
   "metadata": {},
   "outputs": [],
   "source": [
    "def load_runs(folder, size, algorithm, nproblems, measurement=\"val\"):\n",
    "    \"\"\"\n",
    "    TODO: COMMENT\n",
    "    \"\"\"\n",
    "    if not folder.endswith(\"/\"):\n",
    "        folder += \"/\"\n",
    "    algoritm = \"ROS\" if algorithm.lower().startswith(\"r\") else \"GOLD\"\n",
    "    path = f\"{folder}{size}/{algorithm}\"\n",
    "    val_list = []\n",
    "    for i in range(nproblems):\n",
    "        filepath = f\"{path}/{i}.csv\"\n",
    "        val = pd.read_csv(filepath, usecols=[measurement]).to_numpy()\n",
    "        val_list.append(val)\n",
    "    return np.array(val_list)\n",
    "\n",
    "def load_external_solver_values(folder, size, filename=\"optimal_values.txt\"):\n",
    "    \"\"\"\n",
    "    TODO: COMMENT\n",
    "    \"\"\"\n",
    "    if not folder.endswith(\"/\"):\n",
    "        folder += \"/\"\n",
    "    path = f\"{folder}{size}/{filename}\"\n",
    "    \n",
    "    with open(path, \"r\") as f:\n",
    "        opt_vals = f.readlines()\n",
    "        opt_vals = [np.float64(x.strip()) for x in opt_vals]\n",
    "        return np.array(opt_vals)\n",
    "\n",
    "def load_alpha_runs(folder, nproblems):\n",
    "    \"\"\"\n",
    "    \n",
    "    \"\"\"\n",
    "    if not folder.endswith(\"/\"):\n",
    "        folder += \"/\"\n",
    "    \n",
    "    alpha_values = []\n",
    "    for i in range(nproblems):\n",
    "        path = f\"{folder}{i}.csv\"\n",
    "        av = pd.read_csv(path, usecols=[\"val\"]).to_numpy()\n",
    "        alpha_values.append(av)\n",
    "    return np.array(alpha_values)\n",
    "\n",
    "def load_external_solver_alphas(folder, filename=\"optimal_values.txt\"):\n",
    "    \"\"\"\n",
    "    TODO: COMMENT\n",
    "    \"\"\"\n",
    "    if not folder.endswith(\"/\"):\n",
    "        folder += \"/\"\n",
    "    \n",
    "    path = f\"{folder}{filename}\"\n",
    "    with open(path, \"r\") as f:\n",
    "        opt_vals = f.readlines()\n",
    "        opt_vals = [np.float64(x.strip()) for x in opt_vals]\n",
    "        return np.array(opt_vals)"
   ]
  },
  {
   "cell_type": "code",
   "execution_count": 7,
   "metadata": {},
   "outputs": [],
   "source": [
    "def relative_gap(val, opt):\n",
    "    \"\"\"\n",
    "    TODO: COMMENT\n",
    "    \"\"\"\n",
    "    diff = val - opt\n",
    "    assert(all(diff > 0))\n",
    "    return (val - opt) / np.abs(opt)"
   ]
  },
  {
   "cell_type": "code",
   "execution_count": 35,
   "metadata": {},
   "outputs": [],
   "source": [
    "def convergence_rate(values, optimal_values):\n",
    "    \"\"\"\n",
    "    TODO: COMMENT\n",
    "    \"\"\"\n",
    "    tmp = values - optimal_values\n",
    "    res = []\n",
    "    for l in tmp:\n",
    "        res.append(l[1:] / l[:-1])\n",
    "    return np.array(res)"
   ]
  },
  {
   "cell_type": "markdown",
   "metadata": {},
   "source": [
    "# PATHS"
   ]
  },
  {
   "cell_type": "code",
   "execution_count": 5,
   "metadata": {},
   "outputs": [],
   "source": [
    "rootfolders = \"C1EPS_001,C1EPS_01,C_01EPS01,C_05EPS01,C_1EPS01,C_2EPS01,C1EPS_1,C_5EPS01,C_10EPS01\".split(\",\")\n",
    "rootdataset = \"AIRF CAL ML\".split(\" \")\n",
    "problem_sizes = [100, 200,300,400,500, 600]\n",
    "epsilons = [x for x in rootfolders if \"EPS_\" in x]\n",
    "upperbounds = [x for x in rootfolders if \"C_\" in x]"
   ]
  },
  {
   "cell_type": "markdown",
   "metadata": {},
   "source": [
    "# ML - UPPERBOUNDS"
   ]
  },
  {
   "cell_type": "code",
   "execution_count": null,
   "metadata": {},
   "outputs": [],
   "source": [
    "fig, axs = plt.subplots(nrows=6, ncols=6, figsize=(20,10))\n",
    "sizes = problem_sizes #[300,600]\n",
    "chosen_uppers = upperbounds\n",
    "for i,root in enumerate(chosen_uppers):\n",
    "    for j,size in enumerate(sizes):\n",
    "        ax = axs[j][i]        \n",
    "        values_rosen = load_problems(str(size), alg=\"rosen\", maindir=f\"RUNS/ML/{root}\", nproblems=20)\n",
    "        values_goldstein =  load_problems(str(size), alg=\"goldstein\", maindir=f\"RUNS/ML/{root}\", nproblems=20)\n",
    "        \n",
    "        best_values = get_best_values(dataset=\"ML\", size=size, params=root)\n",
    "        \n",
    "        values_rosen = [transform_values(i, opt) for i, opt in zip(values_rosen, best_values)]\n",
    "        values_goldstein = [transform_values(i, opt) for i, opt in zip(values_goldstein, best_values)]\n",
    "        \n",
    "        \n",
    "        \n",
    "        plot_multiple_functions(values_rosen, plot_avg=True, ax=ax, label=\"Rosen\")\n",
    "        plot_multiple_functions(values_goldstein, plot_avg=True, ax=ax, color='forestgreen', col_avg='lime', label=\"Goldstein\")\n",
    "        #ax.set_title(str(size), fontdict={'fontsize': 15})\n",
    "        #ax.set_yscale(\"symlog\")\n",
    "        #ax.set_xscale(\"log\") # use logaritmic scale for x\n",
    "        ax.set_yscale(\"log\")\n",
    "        m, M = ax.get_ylim()\n",
    "        #ax.vlines(30, m-10, M+10,colors='r', linestyles='dashed')\n",
    "\n",
    "for ax, size in zip(axs[:,0], sizes):\n",
    "    ax.set_ylabel(str(size))\n",
    "    \n",
    "\n",
    "for ax, c in zip(axs[0], [0.1, 1, 5, 10]):\n",
    "    ax.set_title(f\"$C = {c}$\")\n",
    "\n",
    "for ax in axs[1]:\n",
    "    ax.set_xlabel(\"iterations\")\n",
    "\n",
    "\n",
    "\n",
    "plt.tight_layout()"
   ]
  },
  {
   "cell_type": "markdown",
   "metadata": {},
   "source": [
    "# AIRFOIL - Upperbounds"
   ]
  },
  {
   "cell_type": "code",
   "execution_count": null,
   "metadata": {},
   "outputs": [],
   "source": [
    "fig, axs = plt.subplots(nrows=6, ncols=6, figsize=(30,20))\n",
    "sizes = problem_sizes #[300,600]\n",
    "chosen_uppers = upperbounds\n",
    "for i,root in enumerate(chosen_uppers):\n",
    "    for j,size in enumerate(sizes):\n",
    "        ax = axs[j][i]        \n",
    "        values_rosen = load_problems(str(size), alg=\"rosen\", maindir=f\"RUNS/AIRF/{root}\", nproblems=20)\n",
    "        values_goldstein =  load_problems(str(size), alg=\"goldstein\", maindir=f\"RUNS/AIRF/{root}\", nproblems=20)\n",
    "        \n",
    "        best_values = get_best_values(dataset=\"AIRF\", size=size, params=root)\n",
    "        \n",
    "        values_rosen = [transform_values(i, opt) for i, opt in zip(values_rosen, best_values)]\n",
    "        values_goldstein = [transform_values(i, opt) for i, opt in zip(values_goldstein, best_values)]\n",
    "        \n",
    "        \n",
    "        \n",
    "        \n",
    "        plot_multiple_functions(values_rosen, plot_avg=True, ax=ax, label=\"Rosen\")\n",
    "        plot_multiple_functions(values_goldstein, plot_avg=True, ax=ax, color='forestgreen', col_avg='lime', label=\"Goldstein\")\n",
    "        #ax.set_title(str(size), fontdict={'fontsize': 15})\n",
    "        #ax.set_yscale(\"symlog\")\n",
    "        #ax.set_xscale(\"log\") # use logaritmic scale for x\n",
    "        ax.set_yscale(\"log\")\n",
    "        m, M = ax.get_ylim()\n",
    "        #ax.vlines(30, m-10, M+10,colors='r', linestyles='dashed')\n",
    "\n",
    "for ax, size in zip(axs[:,0], sizes):\n",
    "    ax.set_ylabel(str(size))\n",
    "    \n",
    "\n",
    "for ax, c in zip(axs[0], [0.1, 1, 5, 10]):\n",
    "    ax.set_title(f\"$C = {c}$\")\n",
    "\n",
    "for ax in axs[1]:\n",
    "    ax.set_xlabel(\"iterations\")\n",
    "\n",
    "\n",
    "\n",
    "plt.tight_layout()"
   ]
  },
  {
   "cell_type": "markdown",
   "metadata": {},
   "source": [
    "# CALIFORNIA HOUSING - UPPERBOUNDS"
   ]
  },
  {
   "cell_type": "code",
   "execution_count": null,
   "metadata": {},
   "outputs": [],
   "source": [
    "fig, axs = plt.subplots(nrows=6, ncols=6, figsize=(20,10))\n",
    "sizes = problem_sizes #[300,600]\n",
    "chosen_uppers = upperbounds\n",
    "for i,root in enumerate(chosen_uppers):\n",
    "    for j,size in enumerate(sizes):\n",
    "        ax = axs[j][i]        \n",
    "        values_rosen = load_problems(str(size), alg=\"rosen\", maindir=f\"RUNS/CAL/{root}\", nproblems=20)\n",
    "        values_goldstein =  load_problems(str(size), alg=\"goldstein\", maindir=f\"RUNS/CAL/{root}\", nproblems=20)\n",
    "        \n",
    "        \n",
    "        best_values = get_best_values(dataset=\"CAL\", size=size, params=root)\n",
    "        \n",
    "        values_rosen = [transform_values(i, opt) for i, opt in zip(values_rosen, best_values)]\n",
    "        values_goldstein = [transform_values(i, opt) for i, opt in zip(values_goldstein, best_values)]\n",
    "        \n",
    "        \n",
    "        \n",
    "        \n",
    "        plot_multiple_functions(values_rosen, plot_avg=True, ax=ax, label=\"Rosen\")\n",
    "        plot_multiple_functions(values_goldstein, plot_avg=True, ax=ax, color='forestgreen', col_avg='lime', label=\"Goldstein\")\n",
    "        #ax.set_title(str(size), fontdict={'fontsize': 15})\n",
    "        #ax.set_yscale(\"symlog\")\n",
    "        #ax.set_xscale(\"log\") # use logaritmic scale for x\n",
    "        ax.set_yscale(\"log\")\n",
    "        m, M = ax.get_ylim()\n",
    "        #ax.vlines(30, m-10, M+10,colors='r', linestyles='dashed')\n",
    "\n",
    "for ax, size in zip(axs[:,0], sizes):\n",
    "    ax.set_ylabel(str(size))\n",
    "    \n",
    "\n",
    "for ax, c in zip(axs[0], [0.1, 1, 5, 10]):\n",
    "    ax.set_title(f\"$C = {c}$\")\n",
    "\n",
    "for ax in axs[1]:\n",
    "    ax.set_xlabel(\"iterations\")\n",
    "\n",
    "\n",
    "\n",
    "plt.tight_layout()"
   ]
  },
  {
   "cell_type": "markdown",
   "metadata": {},
   "source": [
    "# ML - $\\epsilon$"
   ]
  },
  {
   "cell_type": "code",
   "execution_count": null,
   "metadata": {},
   "outputs": [],
   "source": [
    "fig, axs = plt.subplots(nrows=2, ncols=3, figsize=(14,7))\n",
    "sizes = [300,600]\n",
    "\n",
    "ml_eps = ['RUNS/ML/'+i for i in epsilons]\n",
    "\n",
    "for i,root in enumerate(ml_eps):\n",
    "    for j,size in enumerate(sizes):\n",
    "        \n",
    "        ax = axs[j][i]\n",
    "        values_rosen = load_problems(str(size), alg=\"rosen\", maindir=root)\n",
    "        values_goldstein =  load_problems(str(size), alg=\"goldstein\", maindir=root)\n",
    "        \n",
    "        _, datas, root_ = root.split(\"/\")\n",
    "        best_values = get_best_values(dataset=datas, size=size, params=root_)   \n",
    "        values_rosen = [transform_values(i, opt) for i, opt in zip(values_rosen, best_values)]\n",
    "        values_goldstein = [transform_values(i, opt) for i, opt in zip(values_goldstein, best_values)]\n",
    "        \n",
    "        plot_multiple_functions(values_rosen, plot_avg=True, ax=ax, label=\"Rosen\")\n",
    "        plot_multiple_functions(values_goldstein, plot_avg=True, ax=ax, color='forestgreen', col_avg='lime', label=\"Goldstein\")\n",
    "        #ax.set_title(str(size), fontdict={'fontsize': 15})\n",
    "        #ax.set_xscale(\"log\") # use logaritmic scale for x\n",
    "        ax.set_yscale(\"log\")\n",
    "        \n",
    "\n",
    "for ax, size in zip(axs[:,0], sizes):\n",
    "    ax.set_ylabel(str(size))\n",
    "\n",
    "for ax, eps in zip(axs[0], [0.01, 0.1, 1]):\n",
    "    ax.set_title(f\"$\\epsilon = {eps}$\")\n",
    "\n",
    "for ax in axs[1]:\n",
    "    ax.set_xlabel(\"iterations\")\n",
    "\n",
    "\n",
    "\n",
    "m, M = axs[0][0].get_ylim()\n",
    "#for ax in axs[0]:\n",
    "#    ax.vlines(30, m, M,colors='r', linestyles='dashed')\n",
    "m, M = axs[1][0].get_ylim()\n",
    "#for ax in axs[1]:\n",
    "#    ax.vlines(30, m, M,colors='r', linestyles='dashed')\n",
    "\n",
    "plt.tight_layout()"
   ]
  },
  {
   "cell_type": "code",
   "execution_count": null,
   "metadata": {},
   "outputs": [],
   "source": [
    "def load_optimal_values_file(params, size, dataset):\n",
    "    path = f\"./NUOVI/RUNS/{dataset}/{params}/{size}/optimal_values.txt\"\n",
    "    with open(path, \"r\") as f:\n",
    "        lines = f.readlines()\n",
    "        lines = list(map(lambda x : np.float64(x.strip()), lines))\n",
    "        return np.array(lines)"
   ]
  },
  {
   "cell_type": "code",
   "execution_count": null,
   "metadata": {},
   "outputs": [],
   "source": [
    "root_ = None"
   ]
  },
  {
   "cell_type": "markdown",
   "metadata": {},
   "source": [
    "# AIRFOIL - $\\epsilon$"
   ]
  },
  {
   "cell_type": "code",
   "execution_count": 8,
   "metadata": {},
   "outputs": [
    {
     "data": {
      "image/png": "[encoded data removed]",
      "text/plain": [
       "<Figure size 1008x504 with 6 Axes>"
      ]
     },
     "metadata": {},
     "output_type": "display_data"
    }
   ],
   "source": [
    "fig, axs = plt.subplots(nrows=2, ncols=3, figsize=(14,7))\n",
    "sizes = [300,600]\n",
    "\n",
    "eps_roots = ['NUOVI/RUNS/AIRF/'+i for i in epsilons]\n",
    "\n",
    "for i,root in enumerate(eps_roots):\n",
    "    for j,size in enumerate(sizes):\n",
    "        ax = axs[j][i]\n",
    "        values_rosen = load_runs(root, size, \"ROS\", nproblems=10)\n",
    "        \n",
    "        values_goldstein = load_runs(root, size, \"GOLD\", nproblems=10)\n",
    "        \n",
    "        \n",
    "        best_values = load_external_solver_values(root, size)\n",
    "        \n",
    "        values_rosen = [relative_gap(i, opt) for i, opt in zip(values_rosen, best_values)]\n",
    "        values_goldstein = [relative_gap(i, opt) for i, opt in zip(values_goldstein, best_values)]\n",
    "        \n",
    "        \n",
    "        plot_multiple_functions(values_rosen, plot_avg=True, ax=ax, label=\"Rosen\")\n",
    "        plot_multiple_functions(values_goldstein, plot_avg=True, ax=ax, color='forestgreen', col_avg='lime', label=\"Goldstein\")\n",
    "        \n",
    "        ax.set_yscale(\"log\")\n",
    "        \n",
    "\n",
    "for ax, size in zip(axs[:,0], sizes):\n",
    "    ax.set_ylabel(str(size))\n",
    "    \n",
    "\n",
    "for ax, eps in zip(axs[0], [0.01, 0.1, 1]):\n",
    "    ax.set_title(f\"$\\epsilon = {eps}$\")\n",
    "\n",
    "for ax in axs[1]:\n",
    "    ax.set_xlabel(\"iterations\")\n",
    "\n",
    "plt.tight_layout()"
   ]
  },
  {
   "cell_type": "markdown",
   "metadata": {},
   "source": [
    "# CALIFORNIA - $\\epsilon$"
   ]
  },
  {
   "cell_type": "code",
   "execution_count": null,
   "metadata": {},
   "outputs": [],
   "source": [
    "fig, axs = plt.subplots(nrows=2, ncols=3, figsize=(14,7))\n",
    "sizes = [300,600]\n",
    "\n",
    "california_eps = ['RUNS/CAL/'+i for i in epsilons]\n",
    "for i,root in enumerate(california_eps):\n",
    "    for j,size in enumerate(sizes):\n",
    "        ax = axs[j][i]\n",
    "        values_rosen = load_problems(str(size), alg=\"rosen\", maindir=root)\n",
    "        values_goldstein =  load_problems(str(size), alg=\"goldstein\", maindir=root)\n",
    "        \n",
    "        _, datas, root_ = root.split(\"/\")\n",
    "        best_values = get_best_values(dataset=datas, size=size, params=root_)   \n",
    "        values_rosen = [transform_values(i, opt) for i, opt in zip(values_rosen, best_values)]\n",
    "        values_goldstein = [transform_values(i, opt) for i, opt in zip(values_goldstein, best_values)]\n",
    "        \n",
    "        plot_multiple_functions(values_rosen, plot_avg=True, ax=ax, label=\"Rosen\")\n",
    "        plot_multiple_functions(values_goldstein, plot_avg=True, ax=ax, color='forestgreen', col_avg='lime', label=\"Goldstein\")\n",
    "        #ax.set_title(str(size), fontdict={'fontsize': 15})\n",
    "        #ax.set_xscale(\"log\") # use logaritmic scale for x\n",
    "        ax.set_yscale(\"log\")\n",
    "        \n",
    "\n",
    "for ax, size in zip(axs[:,0], sizes):\n",
    "    ax.set_ylabel(str(size))\n",
    "    \n",
    "\n",
    "for ax, eps in zip(axs[0], [0.01, 0.1, 1]):\n",
    "    ax.set_title(f\"$\\epsilon = {eps}$\")\n",
    "\n",
    "for ax in axs[1]:\n",
    "    ax.set_xlabel(\"iterations\")\n",
    "\n",
    "\n",
    "\n",
    "m, M = axs[0][0].get_ylim()\n",
    "#for ax in axs[0]:\n",
    "#    ax.vlines(30, m, M,colors='r', linestyles='dashed')\n",
    "m, M = axs[1][0].get_ylim()\n",
    "#for ax in axs[1]:\n",
    "#    ax.vlines(30, m, M,colors='r', linestyles='dashed')\n",
    "\n",
    "plt.tight_layout()"
   ]
  },
  {
   "cell_type": "markdown",
   "metadata": {},
   "source": [
    "# GRAFICI SEPARATI"
   ]
  },
  {
   "cell_type": "code",
   "execution_count": null,
   "metadata": {},
   "outputs": [],
   "source": [
    "def load_problems_from_path(size, measure='val', start_range=0,nproblems=20, path=\"\"):\n",
    "    \"\"\"extract one column from all the csv of that size and algorithm\"\"\"\n",
    "    path = path\n",
    "    problem_values = []\n",
    "    for i in range(start_range, nproblems):\n",
    "        filepath = path + f\"/{i}.csv\"\n",
    "        problem_values.append(pd.read_csv(filepath, usecols=[measure]).to_numpy())\n",
    "    return problem_values"
   ]
  },
  {
   "cell_type": "code",
   "execution_count": null,
   "metadata": {},
   "outputs": [],
   "source": [
    "ALG = \"GOLD\"\n",
    "fig, axs = plt.subplots(ncols=3, figsize=(16,5))\n",
    "sizes = [600]\n",
    "data = [f\"RUNS/{i}/C1EPS01/600/{ALG}\" for i in rootdataset]\n",
    "for i,root in enumerate(data):\n",
    "    for j,size in enumerate(sizes):\n",
    "        ax = axs[i]\n",
    "        \n",
    "        r, ds, root_, s_, alg = root.split('/')\n",
    "        best_values = get_best_values(dataset=ds, size=size, params=root_)\n",
    "        \n",
    "        values =  load_problems_from_path(str(size), path=root)\n",
    "        values_transformed = [transform_values(i, opt) for i, opt in zip(values, best_values)]\n",
    "        \n",
    "        plot_multiple_functions(values_transformed, plot_avg=True, ax=ax, color='forestgreen', col_avg='lime', label=\"Goldstein\")\n",
    "        ax.set_yscale(\"log\")\n",
    "        \n",
    "for ax in axs:\n",
    "    ax.set_xlabel(\"iterations\")\n",
    "\n",
    "for (ax, title) in zip(axs, rootdataset):\n",
    "    ax.set_title(title)\n",
    "\n",
    "plt.tight_layout()"
   ]
  },
  {
   "cell_type": "code",
   "execution_count": null,
   "metadata": {},
   "outputs": [],
   "source": [
    "ALG = \"ROS\"\n",
    "fig, axs = plt.subplots(ncols=3, figsize=(16,5))\n",
    "sizes = [600]\n",
    "data = [f\"RUNS/{i}/C1EPS01/600/{ALG}\" for i in rootdataset]\n",
    "for i,root in enumerate(data):\n",
    "    for j,size in enumerate(sizes):\n",
    "        ax = axs[i]\n",
    "        r, ds, root_, s_, alg = root.split('/')\n",
    "        best_values = get_best_values(dataset=ds, size=size, params=root_)\n",
    "        \n",
    "        values =  load_problems_from_path(str(size), path=root)\n",
    "        values_transformed = [transform_values(i, opt) for i, opt in zip(values, best_values)]\n",
    "        plot_multiple_functions(values_transformed, plot_avg=True, ax=ax,label=\"Rosen\")\n",
    "        ax.set_yscale(\"log\")\n",
    "        \n",
    "for ax in axs:\n",
    "    ax.set_xlabel(\"iterations\")\n",
    "\n",
    "for (ax, title) in zip(axs, rootdataset):\n",
    "    ax.set_title(title)\n",
    "\n",
    "plt.tight_layout()"
   ]
  },
  {
   "cell_type": "markdown",
   "metadata": {},
   "source": [
    "# CONVERGENCE RESULTS"
   ]
  },
  {
   "cell_type": "code",
   "execution_count": null,
   "metadata": {},
   "outputs": [],
   "source": [
    "# TODO generare convergenza con valori ottimi presi dal file"
   ]
  },
  {
   "cell_type": "code",
   "execution_count": null,
   "metadata": {},
   "outputs": [],
   "source": [
    "epsilons"
   ]
  },
  {
   "cell_type": "code",
   "execution_count": null,
   "metadata": {},
   "outputs": [],
   "source": [
    "upperbounds"
   ]
  },
  {
   "cell_type": "code",
   "execution_count": null,
   "metadata": {},
   "outputs": [],
   "source": [
    "convergence_ml_gold = compute_convergence(\"C1EPS01\", 600, \"ML\", \"g\")\n",
    "convergence_ml_ros = compute_convergence(\"C1EPS01\", 600, \"ML\", \"r\")\n",
    "\n",
    "convergence_airf_gold = compute_convergence(\"C1EPS01\", 600, \"AIRF\", \"g\")\n",
    "convergence_airf_ros = compute_convergence(\"C1EPS01\", 600, \"AIRF\", \"r\")\n",
    "\n",
    "convergence_cal_gold = compute_convergence(\"C1EPS01\", 600, \"CAL\", \"g\")\n",
    "convergence_cal_ros = compute_convergence(\"C1EPS01\", 600, \"CAL\", \"r\")"
   ]
  },
  {
   "cell_type": "code",
   "execution_count": null,
   "metadata": {},
   "outputs": [],
   "source": [
    "size = 600\n",
    "root = 'RUNS/AIRF/C1EPS01'\n",
    "_, dataset, root_ = root.split('/')\n",
    "best_values = get_best_values(dataset, size, root_)\n",
    "values =  load_problems(str(size), alg=\"goldstein\", maindir=root, nproblems=20)\n",
    "#conv = convergence(values, optimal_values)\n",
    "values_goldstein = [transform_values(i, opt) for i, opt in zip(values, best_values)]"
   ]
  },
  {
   "cell_type": "code",
   "execution_count": null,
   "metadata": {},
   "outputs": [],
   "source": [
    "size=600\n",
    "root = \"RUNS/CAL/C1EPS01\"\n",
    "_, dataset, root_ = root.split('/')\n",
    "best_values = get_best_values(dataset, size, root_)\n",
    "values =  load_problems(str(size), alg=\"rosen\", maindir=root, nproblems=20)\n",
    "values_rosen = [transform_values(i, opt) for i, opt in zip(values, best_values)]"
   ]
  },
  {
   "cell_type": "code",
   "execution_count": null,
   "metadata": {},
   "outputs": [],
   "source": [
    "fig, axs = plt.subplots(nrows=2, ncols=2, sharex=\"col\", figsize=(15,7))\n",
    "conv = convergence_airf_gold\n",
    "####\n",
    "idx = 13\n",
    "axs[0][0].plot(range(len(values_goldstein[idx])), values_goldstein[idx])\n",
    "axs[0][0].set_yscale(\"log\")\n",
    "axs[1][0].plot(range(len(conv[idx])), conv[idx])\n",
    "####\n",
    "idx = 18\n",
    "axs[0][1].plot(range(len(values_goldstein[idx])), values_goldstein[idx])\n",
    "axs[0][1].set_yscale(\"log\")\n",
    "axs[1][1].plot(range(len(conv[idx])), conv[idx])\n",
    "###\n",
    "axs[1][0].set_xlabel(\"iterations\")\n",
    "axs[1][1].set_xlabel(\"iterations\")\n",
    "\n",
    "axs[0][0].set_ylabel(\"$G_i$\")\n",
    "axs[1][0].set_ylabel(\"$r_i$\")\n",
    "\n",
    "plt.tight_layout()"
   ]
  },
  {
   "cell_type": "code",
   "execution_count": null,
   "metadata": {},
   "outputs": [],
   "source": [
    "fig, axs = plt.subplots(ncols=2, figsize=(15, 4))\n",
    "conv = convergence_cal_ros\n",
    "idx = 3\n",
    "axs[0].plot(range(len(values_rosen[idx])), values_rosen[idx])\n",
    "axs[0].set_yscale(\"log\")\n",
    "axs[1].plot(range(len(conv[idx])), conv[idx])\n",
    "\n",
    "axs[0].set_xlabel(\"iterations\")\n",
    "axs[1].set_xlabel(\"iterations\")\n",
    "\n",
    "axs[0].set_ylabel(\"$G_i$\")\n",
    "axs[1].set_ylabel(\"$r_i$\")\n",
    "\n",
    "plt.tight_layout()"
   ]
  },
  {
   "cell_type": "markdown",
   "metadata": {},
   "source": [
    "# ALPHAS"
   ]
  },
  {
   "cell_type": "code",
   "execution_count": null,
   "metadata": {},
   "outputs": [],
   "source": [
    "def transform_values_alpha(ll, opt):\n",
    "    new_list = []\n",
    "    for l  in ll:\n",
    "        new_list.append((l - opt) / np.abs(opt))\n",
    "    return new_list"
   ]
  },
  {
   "cell_type": "code",
   "execution_count": null,
   "metadata": {},
   "outputs": [],
   "source": [
    "basedir = \"./RUNS/{}/ALPHA\"\n",
    "nproblems = 5\n",
    "alphas = [0.1, 0.5, 1, 2, 5]"
   ]
  },
  {
   "cell_type": "markdown",
   "metadata": {},
   "source": [
    "## CALIFORNIA"
   ]
  },
  {
   "cell_type": "code",
   "execution_count": null,
   "metadata": {},
   "outputs": [],
   "source": [
    "california_alphas_path = basedir.format(\"CAL\")\n",
    "# lista di liste di array\n",
    "# prima lista = alphas\n",
    "# seconda lista = runs\n",
    "# array = singola run\n",
    "calif_alpha_list = [load_alphas(california_alphas_path, str(a).replace(\".\", \"\")) for a in alphas]"
   ]
  },
  {
   "cell_type": "code",
   "execution_count": null,
   "metadata": {},
   "outputs": [],
   "source": [
    "calif_alpha_list"
   ]
  },
  {
   "cell_type": "code",
   "execution_count": null,
   "metadata": {},
   "outputs": [],
   "source": [
    "#calif_alphas = []\n",
    "calif_alphas = list(zip(*calif_alpha_list))\n",
    "calif_alphas = [list(l) for l in calif_alphas]\n",
    "california_optimal_values = get_alphas_best_values(\"CAL\", alphas)"
   ]
  },
  {
   "cell_type": "code",
   "execution_count": null,
   "metadata": {},
   "outputs": [],
   "source": [
    "calif_transformed_values = transform_values_alpha(calif_alpha_list, california_optimal_values)"
   ]
  },
  {
   "cell_type": "code",
   "execution_count": null,
   "metadata": {},
   "outputs": [],
   "source": [
    "for alpha in range(len(alphas)):\n",
    "    # (run, alpha)\n",
    "    plt.plot(calif_transformed_values[0][alpha], label=str(alphas[alpha]))\n",
    "plt.gca().set_yscale(\"log\")\n",
    "plt.gca().set_xlim(0,50)\n",
    "#plt.gca().set_ylim(1e-3,0)\n",
    "plt.legend(title=\"alpha\", title_fontsize=16)"
   ]
  },
  {
   "cell_type": "code",
   "execution_count": null,
   "metadata": {},
   "outputs": [],
   "source": [
    "for i, a in enumerate(calif_alphas[0]):\n",
    "    l = [transform_values()]\n",
    "    plt.plot(a, label=str(alphas[i]))\n",
    "    print(len(a))\n",
    "plt.gca().set_xlim(0, 100)\n",
    "plt.legend(title=\"alpha\", title_fontsize=16)"
   ]
  },
  {
   "cell_type": "code",
   "execution_count": null,
   "metadata": {},
   "outputs": [],
   "source": [
    "for i, a in enumerate(calif_alphas[1]):\n",
    "    plt.plot(a, label=str(alphas[i]))\n",
    "    \n",
    "plt.gca().set_xlim(0, 100)\n",
    "plt.legend(title=\"alpha\", title_fontsize=16)"
   ]
  },
  {
   "cell_type": "code",
   "execution_count": null,
   "metadata": {},
   "outputs": [],
   "source": [
    "for i, a in enumerate(calif_alphas[2]):\n",
    "    plt.plot(a, label=str(alphas[i]))\n",
    "    \n",
    "plt.gca().set_xlim(0, 100)\n",
    "plt.legend(title=\"alpha\", title_fontsize=16)"
   ]
  },
  {
   "cell_type": "code",
   "execution_count": null,
   "metadata": {},
   "outputs": [],
   "source": [
    "for i, a in enumerate(calif_alphas[3]):\n",
    "    plt.plot(a, label=str(alphas[i]))\n",
    "    \n",
    "plt.gca().set_xlim(0, 100)\n",
    "plt.legend(title=\"alpha\", title_fontsize=16)"
   ]
  },
  {
   "cell_type": "code",
   "execution_count": null,
   "metadata": {},
   "outputs": [],
   "source": [
    "for i, a in enumerate(calif_alphas[4]):\n",
    "    plt.plot(a, label=str(alphas[i]))\n",
    "    \n",
    "plt.gca().set_xlim(0, 100)\n",
    "plt.legend(title=\"alpha\", title_fontsize=16)"
   ]
  },
  {
   "cell_type": "markdown",
   "metadata": {},
   "source": [
    "## ML"
   ]
  },
  {
   "cell_type": "code",
   "execution_count": null,
   "metadata": {},
   "outputs": [],
   "source": [
    "ml_alphas_path = basedir.format(\"ML\")\n",
    "ml_alphas_path"
   ]
  },
  {
   "cell_type": "code",
   "execution_count": null,
   "metadata": {},
   "outputs": [],
   "source": [
    "ml_alphas_list = [load_alphas(ml_alphas_path, str(a).replace(\".\", \"\")) for a in alphas]\n",
    "ml_alphas = list(zip(*ml_alphas_list))"
   ]
  },
  {
   "cell_type": "code",
   "execution_count": null,
   "metadata": {},
   "outputs": [],
   "source": []
  },
  {
   "cell_type": "code",
   "execution_count": null,
   "metadata": {},
   "outputs": [],
   "source": [
    "for i, a in enumerate(ml_alphas[0]):\n",
    "    plt.plot(a, label=str(alphas[i]))\n",
    "    print(len(a))\n",
    "plt.gca().set_xlim(0, 100)\n",
    "plt.legend(title=\"alpha\", title_fontsize=16)"
   ]
  },
  {
   "cell_type": "code",
   "execution_count": null,
   "metadata": {},
   "outputs": [],
   "source": [
    "for i, a in enumerate(ml_alphas[1]):\n",
    "    plt.plot(a, label=str(alphas[i]))\n",
    "    \n",
    "plt.gca().set_xlim(0, 100)\n",
    "plt.legend(title=\"alpha\", title_fontsize=16)"
   ]
  },
  {
   "cell_type": "code",
   "execution_count": null,
   "metadata": {},
   "outputs": [],
   "source": [
    "for i, a in enumerate(ml_alphas[2]):\n",
    "    plt.plot(a, label=str(alphas[i]))\n",
    "    \n",
    "plt.gca().set_xlim(0, 100)\n",
    "plt.legend(title=\"alpha\", title_fontsize=16)"
   ]
  },
  {
   "cell_type": "code",
   "execution_count": null,
   "metadata": {},
   "outputs": [],
   "source": [
    "for i, a in enumerate(ml_alphas[3]):\n",
    "    plt.plot(a, label=str(alphas[i]))\n",
    "    \n",
    "plt.gca().set_xlim(0, 100)\n",
    "plt.legend(title=\"alpha\", title_fontsize=16)"
   ]
  },
  {
   "cell_type": "code",
   "execution_count": null,
   "metadata": {},
   "outputs": [],
   "source": [
    "for i, a in enumerate(ml_alphas[4]):\n",
    "    plt.plot(a, label=str(alphas[i]))\n",
    "    \n",
    "plt.gca().set_xlim(0, 100)\n",
    "plt.legend(title=\"alpha\", title_fontsize=16)"
   ]
  },
  {
   "cell_type": "markdown",
   "metadata": {},
   "source": [
    "## AIRFOIL"
   ]
  },
  {
   "cell_type": "code",
   "execution_count": null,
   "metadata": {},
   "outputs": [],
   "source": [
    "airf_alphas_path = basedir.format(\"AIRF\")"
   ]
  },
  {
   "cell_type": "code",
   "execution_count": null,
   "metadata": {},
   "outputs": [],
   "source": [
    "airf_alpha_list = [load_alphas(airf_alphas_path, str(a).replace(\".\", \"\")) for a in alphas]\n",
    "airf_alphas = list(zip(*calif_alpha_list))"
   ]
  },
  {
   "cell_type": "code",
   "execution_count": null,
   "metadata": {},
   "outputs": [],
   "source": []
  },
  {
   "cell_type": "code",
   "execution_count": null,
   "metadata": {},
   "outputs": [],
   "source": [
    "for i, a in enumerate(airf_alphas[0]):\n",
    "    plt.plot(a, label=str(alphas[i]))\n",
    "    print(len(a))\n",
    "plt.gca().set_xlim(0, 100)\n",
    "plt.legend(title=\"alpha\", title_fontsize=16)"
   ]
  },
  {
   "cell_type": "code",
   "execution_count": null,
   "metadata": {},
   "outputs": [],
   "source": [
    "for i, a in enumerate(airf_alphas[1]):\n",
    "    plt.plot(a, label=str(alphas[i]))\n",
    "    \n",
    "plt.gca().set_xlim(0, 100)\n",
    "plt.legend(title=\"alpha\", title_fontsize=16)"
   ]
  },
  {
   "cell_type": "code",
   "execution_count": null,
   "metadata": {},
   "outputs": [],
   "source": [
    "for i, a in enumerate(airf_alphas[2]):\n",
    "    plt.plot(a, label=str(alphas[i]))\n",
    "    \n",
    "plt.gca().set_xlim(0, 100)\n",
    "plt.legend(title=\"alpha\", title_fontsize=16)"
   ]
  },
  {
   "cell_type": "code",
   "execution_count": null,
   "metadata": {},
   "outputs": [],
   "source": [
    "for i, a in enumerate(airf_alphas[3]):\n",
    "    plt.plot(a, label=str(alphas[i]))\n",
    "    \n",
    "plt.gca().set_xlim(0, 100)\n",
    "plt.legend(title=\"alpha\", title_fontsize=16)"
   ]
  },
  {
   "cell_type": "code",
   "execution_count": null,
   "metadata": {},
   "outputs": [],
   "source": [
    "for i, a in enumerate(airf_alphas[4]):\n",
    "    plt.plot(a, label=str(alphas[i]))\n",
    "    \n",
    "plt.gca().set_xlim(0, 100)\n",
    "plt.legend(title=\"alpha\", title_fontsize=16)"
   ]
  },
  {
   "cell_type": "code",
   "execution_count": null,
   "metadata": {},
   "outputs": [],
   "source": []
  }
 ],
 "metadata": {
  "kernelspec": {
   "display_name": "Python 3",
   "language": "python",
   "name": "python3"
  },
  "language_info": {
   "codemirror_mode": {
    "name": "ipython",
    "version": 3
   },
   "file_extension": ".py",
   "mimetype": "text/x-python",
   "name": "python",
   "nbconvert_exporter": "python",
   "pygments_lexer": "ipython3",
   "version": "3.8.5"
  }
 },
 "nbformat": 4,
 "nbformat_minor": 4
}
